{
 "cells": [
  {
   "cell_type": "markdown",
   "id": "dabf9c97",
   "metadata": {
    "toc": true
   },
   "source": [
    "<h1>Table of Contents<span class=\"tocSkip\"></span></h1>\n",
    "<div class=\"toc\"><ul class=\"toc-item\"><li><span><a href=\"#Часть.-Приоритизация-гипотез\" data-toc-modified-id=\"Часть.-Приоритизация-гипотез-1\"><span class=\"toc-item-num\">1&nbsp;&nbsp;</span>Часть. Приоритизация гипотез</a></span></li><li><span><a href=\"#Часть.\" data-toc-modified-id=\"Часть.-2\"><span class=\"toc-item-num\">2&nbsp;&nbsp;</span>Часть.</a></span><ul class=\"toc-item\"><li><span><a href=\"#Предобработка-данных\" data-toc-modified-id=\"Предобработка-данных-2.1\"><span class=\"toc-item-num\">2.1&nbsp;&nbsp;</span>Предобработка данных</a></span></li></ul></li><li><span><a href=\"#Анализ-А/B-теста\" data-toc-modified-id=\"Анализ-А/B-теста-3\"><span class=\"toc-item-num\">3&nbsp;&nbsp;</span>Анализ А/B теста</a></span><ul class=\"toc-item\"><li><span><a href=\"#График-кумулятивной-выручки-по-группам\" data-toc-modified-id=\"График-кумулятивной-выручки-по-группам-3.1\"><span class=\"toc-item-num\">3.1&nbsp;&nbsp;</span>График кумулятивной выручки по группам</a></span></li><li><span><a href=\"#График-кумулятивного-среднего-чека-по-группам\" data-toc-modified-id=\"График-кумулятивного-среднего-чека-по-группам-3.2\"><span class=\"toc-item-num\">3.2&nbsp;&nbsp;</span>График кумулятивного среднего чека по группам</a></span></li><li><span><a href=\"#График-относительного-изменения-кумулятивного-среднего-чека-группы-В-к-А\" data-toc-modified-id=\"График-относительного-изменения-кумулятивного-среднего-чека-группы-В-к-А-3.3\"><span class=\"toc-item-num\">3.3&nbsp;&nbsp;</span>График относительного изменения кумулятивного среднего чека группы В к А</a></span></li><li><span><a href=\"#График-кумулятивного-среднего-количества-заказов-на-посетителя-по-группам\" data-toc-modified-id=\"График-кумулятивного-среднего-количества-заказов-на-посетителя-по-группам-3.4\"><span class=\"toc-item-num\">3.4&nbsp;&nbsp;</span>График кумулятивного среднего количества заказов на посетителя по группам</a></span></li><li><span><a href=\"#График-относительного-изменения-кумулятивного-среднего-количества-заказов-на-посетителя-группы-В-к-А\" data-toc-modified-id=\"График-относительного-изменения-кумулятивного-среднего-количества-заказов-на-посетителя-группы-В-к-А-3.5\"><span class=\"toc-item-num\">3.5&nbsp;&nbsp;</span>График относительного изменения кумулятивного среднего количества заказов на посетителя группы В к А</a></span></li><li><span><a href=\"#Точечный-график-количества-заказов-по-пользователям\" data-toc-modified-id=\"Точечный-график-количества-заказов-по-пользователям-3.6\"><span class=\"toc-item-num\">3.6&nbsp;&nbsp;</span>Точечный график количества заказов по пользователям</a></span></li><li><span><a href=\"#95-й-и-99-й-перцентили-количества-заказов-на-пользователя.-Граница-аномалии\" data-toc-modified-id=\"95-й-и-99-й-перцентили-количества-заказов-на-пользователя.-Граница-аномалии-3.7\"><span class=\"toc-item-num\">3.7&nbsp;&nbsp;</span>95-й и 99-й перцентили количества заказов на пользователя. Граница аномалии</a></span></li><li><span><a href=\"#Точечный-график-стоимостей-заказов\" data-toc-modified-id=\"Точечный-график-стоимостей-заказов-3.8\"><span class=\"toc-item-num\">3.8&nbsp;&nbsp;</span>Точечный график стоимостей заказов</a></span></li><li><span><a href=\"#95-й-и-99-й-перцентили-стоимости-заказов.-Граница-аномалии\" data-toc-modified-id=\"95-й-и-99-й-перцентили-стоимости-заказов.-Граница-аномалии-3.9\"><span class=\"toc-item-num\">3.9&nbsp;&nbsp;</span>95-й и 99-й перцентили стоимости заказов. Граница аномалии</a></span></li><li><span><a href=\"#Статистическая-значимость-различий-в-среднем-количестве-заказов-между-группами-по-&quot;сырым&quot;-данным\" data-toc-modified-id=\"Статистическая-значимость-различий-в-среднем-количестве-заказов-между-группами-по-&quot;сырым&quot;-данным-3.10\"><span class=\"toc-item-num\">3.10&nbsp;&nbsp;</span>Статистическая значимость различий в среднем количестве заказов между группами по \"сырым\" данным</a></span></li><li><span><a href=\"#Статистическая-значимость-различий-в-среднем-чеке-заказа-между-группами-по-&quot;сырым&quot;-данным\" data-toc-modified-id=\"Статистическая-значимость-различий-в-среднем-чеке-заказа-между-группами-по-&quot;сырым&quot;-данным-3.11\"><span class=\"toc-item-num\">3.11&nbsp;&nbsp;</span>Статистическая значимость различий в среднем чеке заказа между группами по \"сырым\" данным</a></span></li><li><span><a href=\"#Статистическая-значимость-различий-в-среднем-количестве-заказов-на-посетителя-между-А-и-В-по-&quot;очищенным&quot;-данным\" data-toc-modified-id=\"Статистическая-значимость-различий-в-среднем-количестве-заказов-на-посетителя-между-А-и-В-по-&quot;очищенным&quot;-данным-3.12\"><span class=\"toc-item-num\">3.12&nbsp;&nbsp;</span>Статистическая значимость различий в среднем количестве заказов на посетителя между А и В по \"очищенным\" данным</a></span></li><li><span><a href=\"#Статистическая-значимость-различий-в-среднем-чеке-заказа-между-группами-по-&quot;очищенным&quot;-данным\" data-toc-modified-id=\"Статистическая-значимость-различий-в-среднем-чеке-заказа-между-группами-по-&quot;очищенным&quot;-данным-3.13\"><span class=\"toc-item-num\">3.13&nbsp;&nbsp;</span>Статистическая значимость различий в среднем чеке заказа между группами по \"очищенным\" данным</a></span></li><li><span><a href=\"#Решение-по-результатам-A/B-теста\" data-toc-modified-id=\"Решение-по-результатам-A/B-теста-3.14\"><span class=\"toc-item-num\">3.14&nbsp;&nbsp;</span>Решение по результатам A/B теста</a></span></li></ul></li><li><span><a href=\"#Выводы-и-рекомендации\" data-toc-modified-id=\"Выводы-и-рекомендации-4\"><span class=\"toc-item-num\">4&nbsp;&nbsp;</span>Выводы и рекомендации</a></span></li></ul></div>"
   ]
  },
  {
   "cell_type": "markdown",
   "id": "474e5d17",
   "metadata": {},
   "source": [
    "# Проект \"Принятие решений в бизнесе\""
   ]
  },
  {
   "cell_type": "markdown",
   "id": "05e3f4f4",
   "metadata": {},
   "source": [
    "Нам как аналитикам дан список гипотез, призванных увеличить выручку крупного интернет-магазина. Их необходимо приоритизировать методиками ICE и RICE, отметить возможную разницу между результатами одного и второго фреймворка. Далее мы анализируем данные проведенного A/B теста - два датафрейма: строим графики, считаем и делаем выводы о статистической значимости различий между группами. "
   ]
  },
  {
   "cell_type": "markdown",
   "id": "8bd2ca17",
   "metadata": {},
   "source": [
    "Данные содержат в себе три датафрейма: один с гипотезами для первой части и два для второй части. \n",
    "Датафрейм с гипотезами имеет следующие столбцы:\n",
    "\n",
    "- Hypothesis — краткое описание гипотезы;\n",
    "\n",
    "- Reach — охват пользователей по 10-балльной шкале;\n",
    "\n",
    "- Impact — влияние на пользователей по 10-балльной шкале;\n",
    "\n",
    "- Confidence — уверенность в гипотезе по 10-балльной шкале;\n",
    "\n",
    "- Efforts — затраты ресурсов на проверку гипотезы по 10-балльной шкале. Чем больше значение Efforts, тем дороже проверка гипотезы.\n",
    "    \n",
    "Датафреймы для второй части сожержат в себе агрегированные данные по заказам и количеству посетителей.\n",
    "Датафрейм `orders` имеет столбцы:\n",
    "\n",
    "- transactionId — идентификатор заказа;\n",
    "\n",
    "- visitorId — идентификатор пользователя, совершившего заказ;\n",
    "\n",
    "- date — дата, когда был совершён заказ;\n",
    "\n",
    "- revenue — выручка заказа;\n",
    "\n",
    "- group — группа A/B-теста, в которую попал заказ.\n",
    " \n",
    "Датафрейм `visitors` содержит столбцы:\n",
    "\n",
    "- date — дата;\n",
    "\n",
    "- group — группа A/B-теста;\n",
    "\n",
    "- visitors — количество пользователей в указанную дату в указанной группе A/B-теста"
   ]
  },
  {
   "cell_type": "markdown",
   "id": "3fee6ec4",
   "metadata": {},
   "source": [
    "## Часть. Приоритизация гипотез"
   ]
  },
  {
   "cell_type": "markdown",
   "id": "efa66cc6",
   "metadata": {},
   "source": [
    "Для начала знакомимся с данными о гипотезах."
   ]
  },
  {
   "cell_type": "code",
   "execution_count": 1,
   "id": "ce46ae26",
   "metadata": {},
   "outputs": [],
   "source": [
    "import pandas as pd\n",
    "import numpy as np\n",
    "import matplotlib.pyplot as plt\n",
    "import scipy.stats as stats\n",
    "import datetime as dt\n",
    "from pandas.plotting import register_matplotlib_converters\n",
    "import warnings\n",
    "\n",
    "register_matplotlib_converters()"
   ]
  },
  {
   "cell_type": "code",
   "execution_count": 2,
   "id": "d58f3907",
   "metadata": {},
   "outputs": [],
   "source": [
    "try: \n",
    "    hyp = pd.read_csv('/datasets/hypothesis.csv')\n",
    "except:\n",
    "    hyp = pd.read_csv('/Users/elena/Desktop/Data Analitics/Projects/datasets/8/hypothesis.csv')"
   ]
  },
  {
   "cell_type": "code",
   "execution_count": 3,
   "id": "42dbcd30",
   "metadata": {},
   "outputs": [
    {
     "data": {
      "text/html": [
       "<style  type=\"text/css\" >\n",
       "#T_6fa79_row0_col0,#T_6fa79_row0_col1,#T_6fa79_row0_col2,#T_6fa79_row0_col3,#T_6fa79_row0_col4,#T_6fa79_row1_col0,#T_6fa79_row1_col1,#T_6fa79_row1_col2,#T_6fa79_row1_col3,#T_6fa79_row1_col4,#T_6fa79_row2_col0,#T_6fa79_row2_col1,#T_6fa79_row2_col2,#T_6fa79_row2_col3,#T_6fa79_row2_col4,#T_6fa79_row3_col0,#T_6fa79_row3_col1,#T_6fa79_row3_col2,#T_6fa79_row3_col3,#T_6fa79_row3_col4,#T_6fa79_row4_col0,#T_6fa79_row4_col1,#T_6fa79_row4_col2,#T_6fa79_row4_col3,#T_6fa79_row4_col4,#T_6fa79_row5_col0,#T_6fa79_row5_col1,#T_6fa79_row5_col2,#T_6fa79_row5_col3,#T_6fa79_row5_col4,#T_6fa79_row6_col0,#T_6fa79_row6_col1,#T_6fa79_row6_col2,#T_6fa79_row6_col3,#T_6fa79_row6_col4,#T_6fa79_row7_col0,#T_6fa79_row7_col1,#T_6fa79_row7_col2,#T_6fa79_row7_col3,#T_6fa79_row7_col4,#T_6fa79_row8_col0,#T_6fa79_row8_col1,#T_6fa79_row8_col2,#T_6fa79_row8_col3,#T_6fa79_row8_col4{\n",
       "            text-align:  left;\n",
       "        }</style><table id=\"T_6fa79_\" ><thead>    <tr>        <th class=\"blank level0\" ></th>        <th class=\"col_heading level0 col0\" >Hypothesis</th>        <th class=\"col_heading level0 col1\" >Reach</th>        <th class=\"col_heading level0 col2\" >Impact</th>        <th class=\"col_heading level0 col3\" >Confidence</th>        <th class=\"col_heading level0 col4\" >Efforts</th>    </tr></thead><tbody>\n",
       "                <tr>\n",
       "                        <th id=\"T_6fa79_level0_row0\" class=\"row_heading level0 row0\" >0</th>\n",
       "                        <td id=\"T_6fa79_row0_col0\" class=\"data row0 col0\" >Добавить два новых канала привлечения трафика, что позволит привлекать на 30% больше пользователей</td>\n",
       "                        <td id=\"T_6fa79_row0_col1\" class=\"data row0 col1\" >3</td>\n",
       "                        <td id=\"T_6fa79_row0_col2\" class=\"data row0 col2\" >10</td>\n",
       "                        <td id=\"T_6fa79_row0_col3\" class=\"data row0 col3\" >8</td>\n",
       "                        <td id=\"T_6fa79_row0_col4\" class=\"data row0 col4\" >6</td>\n",
       "            </tr>\n",
       "            <tr>\n",
       "                        <th id=\"T_6fa79_level0_row1\" class=\"row_heading level0 row1\" >1</th>\n",
       "                        <td id=\"T_6fa79_row1_col0\" class=\"data row1 col0\" >Запустить собственную службу доставки, что сократит срок доставки заказов</td>\n",
       "                        <td id=\"T_6fa79_row1_col1\" class=\"data row1 col1\" >2</td>\n",
       "                        <td id=\"T_6fa79_row1_col2\" class=\"data row1 col2\" >5</td>\n",
       "                        <td id=\"T_6fa79_row1_col3\" class=\"data row1 col3\" >4</td>\n",
       "                        <td id=\"T_6fa79_row1_col4\" class=\"data row1 col4\" >10</td>\n",
       "            </tr>\n",
       "            <tr>\n",
       "                        <th id=\"T_6fa79_level0_row2\" class=\"row_heading level0 row2\" >2</th>\n",
       "                        <td id=\"T_6fa79_row2_col0\" class=\"data row2 col0\" >Добавить блоки рекомендаций товаров на сайт интернет магазина, чтобы повысить конверсию и средний чек заказа</td>\n",
       "                        <td id=\"T_6fa79_row2_col1\" class=\"data row2 col1\" >8</td>\n",
       "                        <td id=\"T_6fa79_row2_col2\" class=\"data row2 col2\" >3</td>\n",
       "                        <td id=\"T_6fa79_row2_col3\" class=\"data row2 col3\" >7</td>\n",
       "                        <td id=\"T_6fa79_row2_col4\" class=\"data row2 col4\" >3</td>\n",
       "            </tr>\n",
       "            <tr>\n",
       "                        <th id=\"T_6fa79_level0_row3\" class=\"row_heading level0 row3\" >3</th>\n",
       "                        <td id=\"T_6fa79_row3_col0\" class=\"data row3 col0\" >Изменить структура категорий, что увеличит конверсию, т.к. пользователи быстрее найдут нужный товар</td>\n",
       "                        <td id=\"T_6fa79_row3_col1\" class=\"data row3 col1\" >8</td>\n",
       "                        <td id=\"T_6fa79_row3_col2\" class=\"data row3 col2\" >3</td>\n",
       "                        <td id=\"T_6fa79_row3_col3\" class=\"data row3 col3\" >3</td>\n",
       "                        <td id=\"T_6fa79_row3_col4\" class=\"data row3 col4\" >8</td>\n",
       "            </tr>\n",
       "            <tr>\n",
       "                        <th id=\"T_6fa79_level0_row4\" class=\"row_heading level0 row4\" >4</th>\n",
       "                        <td id=\"T_6fa79_row4_col0\" class=\"data row4 col0\" >Изменить цвет фона главной страницы, чтобы увеличить вовлеченность пользователей</td>\n",
       "                        <td id=\"T_6fa79_row4_col1\" class=\"data row4 col1\" >3</td>\n",
       "                        <td id=\"T_6fa79_row4_col2\" class=\"data row4 col2\" >1</td>\n",
       "                        <td id=\"T_6fa79_row4_col3\" class=\"data row4 col3\" >1</td>\n",
       "                        <td id=\"T_6fa79_row4_col4\" class=\"data row4 col4\" >1</td>\n",
       "            </tr>\n",
       "            <tr>\n",
       "                        <th id=\"T_6fa79_level0_row5\" class=\"row_heading level0 row5\" >5</th>\n",
       "                        <td id=\"T_6fa79_row5_col0\" class=\"data row5 col0\" >Добавить страницу отзывов клиентов о магазине, что позволит увеличить количество заказов</td>\n",
       "                        <td id=\"T_6fa79_row5_col1\" class=\"data row5 col1\" >3</td>\n",
       "                        <td id=\"T_6fa79_row5_col2\" class=\"data row5 col2\" >2</td>\n",
       "                        <td id=\"T_6fa79_row5_col3\" class=\"data row5 col3\" >2</td>\n",
       "                        <td id=\"T_6fa79_row5_col4\" class=\"data row5 col4\" >3</td>\n",
       "            </tr>\n",
       "            <tr>\n",
       "                        <th id=\"T_6fa79_level0_row6\" class=\"row_heading level0 row6\" >6</th>\n",
       "                        <td id=\"T_6fa79_row6_col0\" class=\"data row6 col0\" >Показать на главной странице баннеры с актуальными акциями и распродажами, чтобы увеличить конверсию</td>\n",
       "                        <td id=\"T_6fa79_row6_col1\" class=\"data row6 col1\" >5</td>\n",
       "                        <td id=\"T_6fa79_row6_col2\" class=\"data row6 col2\" >3</td>\n",
       "                        <td id=\"T_6fa79_row6_col3\" class=\"data row6 col3\" >8</td>\n",
       "                        <td id=\"T_6fa79_row6_col4\" class=\"data row6 col4\" >3</td>\n",
       "            </tr>\n",
       "            <tr>\n",
       "                        <th id=\"T_6fa79_level0_row7\" class=\"row_heading level0 row7\" >7</th>\n",
       "                        <td id=\"T_6fa79_row7_col0\" class=\"data row7 col0\" >Добавить форму подписки на все основные страницы, чтобы собрать базу клиентов для email-рассылок</td>\n",
       "                        <td id=\"T_6fa79_row7_col1\" class=\"data row7 col1\" >10</td>\n",
       "                        <td id=\"T_6fa79_row7_col2\" class=\"data row7 col2\" >7</td>\n",
       "                        <td id=\"T_6fa79_row7_col3\" class=\"data row7 col3\" >8</td>\n",
       "                        <td id=\"T_6fa79_row7_col4\" class=\"data row7 col4\" >5</td>\n",
       "            </tr>\n",
       "            <tr>\n",
       "                        <th id=\"T_6fa79_level0_row8\" class=\"row_heading level0 row8\" >8</th>\n",
       "                        <td id=\"T_6fa79_row8_col0\" class=\"data row8 col0\" >Запустить акцию, дающую скидку на товар в день рождения</td>\n",
       "                        <td id=\"T_6fa79_row8_col1\" class=\"data row8 col1\" >1</td>\n",
       "                        <td id=\"T_6fa79_row8_col2\" class=\"data row8 col2\" >9</td>\n",
       "                        <td id=\"T_6fa79_row8_col3\" class=\"data row8 col3\" >9</td>\n",
       "                        <td id=\"T_6fa79_row8_col4\" class=\"data row8 col4\" >5</td>\n",
       "            </tr>\n",
       "    </tbody></table>"
      ],
      "text/plain": [
       "<pandas.io.formats.style.Styler at 0x7f624406cca0>"
      ]
     },
     "execution_count": 3,
     "metadata": {},
     "output_type": "execute_result"
    }
   ],
   "source": [
    "\n",
    "hyp.style.set_properties(**{'text-align': 'left'})"
   ]
  },
  {
   "cell_type": "markdown",
   "id": "e8b04b5b",
   "metadata": {},
   "source": [
    "Таблица небольшая, содержит в себе текст девяти гипотиз и их оценка по десятибальной шкале. Оцениваются параметры:\n",
    "- Reach - кого затронут изменения, \n",
    "- Impact - насколько сильно затронут, \n",
    "- Confidence - уверенность в оценке, \n",
    "- Efforts - как дорого будет стоить тест.\n",
    "\n",
    "Нам надо посмотреть, какие из этих гипотиз надо протестировать в первую очередь. В этом нам помогут фреймворки ICE и RICE. Начнем с ICE. Его формула impact * confidence / efforts"
   ]
  },
  {
   "cell_type": "code",
   "execution_count": 4,
   "id": "25f68780",
   "metadata": {},
   "outputs": [
    {
     "data": {
      "text/html": [
       "<div>\n",
       "<style scoped>\n",
       "    .dataframe tbody tr th:only-of-type {\n",
       "        vertical-align: middle;\n",
       "    }\n",
       "\n",
       "    .dataframe tbody tr th {\n",
       "        vertical-align: top;\n",
       "    }\n",
       "\n",
       "    .dataframe thead th {\n",
       "        text-align: right;\n",
       "    }\n",
       "</style>\n",
       "<table border=\"1\" class=\"dataframe\">\n",
       "  <thead>\n",
       "    <tr style=\"text-align: right;\">\n",
       "      <th></th>\n",
       "      <th>Hypothesis</th>\n",
       "      <th>ICE</th>\n",
       "    </tr>\n",
       "  </thead>\n",
       "  <tbody>\n",
       "    <tr>\n",
       "      <th>8</th>\n",
       "      <td>Запустить акцию, дающую скидку на товар в день...</td>\n",
       "      <td>16.20</td>\n",
       "    </tr>\n",
       "    <tr>\n",
       "      <th>0</th>\n",
       "      <td>Добавить два новых канала привлечения трафика,...</td>\n",
       "      <td>13.33</td>\n",
       "    </tr>\n",
       "    <tr>\n",
       "      <th>7</th>\n",
       "      <td>Добавить форму подписки на все основные страни...</td>\n",
       "      <td>11.20</td>\n",
       "    </tr>\n",
       "    <tr>\n",
       "      <th>6</th>\n",
       "      <td>Показать на главной странице баннеры с актуаль...</td>\n",
       "      <td>8.00</td>\n",
       "    </tr>\n",
       "    <tr>\n",
       "      <th>2</th>\n",
       "      <td>Добавить блоки рекомендаций товаров на сайт ин...</td>\n",
       "      <td>7.00</td>\n",
       "    </tr>\n",
       "    <tr>\n",
       "      <th>1</th>\n",
       "      <td>Запустить собственную службу доставки, что сок...</td>\n",
       "      <td>2.00</td>\n",
       "    </tr>\n",
       "    <tr>\n",
       "      <th>5</th>\n",
       "      <td>Добавить страницу отзывов клиентов о магазине,...</td>\n",
       "      <td>1.33</td>\n",
       "    </tr>\n",
       "    <tr>\n",
       "      <th>3</th>\n",
       "      <td>Изменить структура категорий, что увеличит кон...</td>\n",
       "      <td>1.12</td>\n",
       "    </tr>\n",
       "    <tr>\n",
       "      <th>4</th>\n",
       "      <td>Изменить цвет фона главной страницы, чтобы уве...</td>\n",
       "      <td>1.00</td>\n",
       "    </tr>\n",
       "  </tbody>\n",
       "</table>\n",
       "</div>"
      ],
      "text/plain": [
       "                                          Hypothesis    ICE\n",
       "8  Запустить акцию, дающую скидку на товар в день...  16.20\n",
       "0  Добавить два новых канала привлечения трафика,...  13.33\n",
       "7  Добавить форму подписки на все основные страни...  11.20\n",
       "6  Показать на главной странице баннеры с актуаль...   8.00\n",
       "2  Добавить блоки рекомендаций товаров на сайт ин...   7.00\n",
       "1  Запустить собственную службу доставки, что сок...   2.00\n",
       "5  Добавить страницу отзывов клиентов о магазине,...   1.33\n",
       "3  Изменить структура категорий, что увеличит кон...   1.12\n",
       "4  Изменить цвет фона главной страницы, чтобы уве...   1.00"
      ]
     },
     "execution_count": 4,
     "metadata": {},
     "output_type": "execute_result"
    }
   ],
   "source": [
    "hyp['ICE'] = hyp['Impact'] * hyp['Confidence'] / hyp['Efforts']\n",
    "\n",
    "hyp_sorted = hyp.sort_values(by='ICE', ascending=False)\n",
    "round(hyp_sorted[['Hypothesis', 'ICE']],2)"
   ]
  },
  {
   "cell_type": "markdown",
   "id": "32766d65",
   "metadata": {},
   "source": [
    "Пока лидируют гипотезы с индексами 8,0,7,6,2. Посмотрим как дела обстоят согласно фреймворку RICE. Там дополнительно учитывается параметр Reach."
   ]
  },
  {
   "cell_type": "code",
   "execution_count": 5,
   "id": "acfb01b7",
   "metadata": {},
   "outputs": [
    {
     "data": {
      "text/html": [
       "<div>\n",
       "<style scoped>\n",
       "    .dataframe tbody tr th:only-of-type {\n",
       "        vertical-align: middle;\n",
       "    }\n",
       "\n",
       "    .dataframe tbody tr th {\n",
       "        vertical-align: top;\n",
       "    }\n",
       "\n",
       "    .dataframe thead th {\n",
       "        text-align: right;\n",
       "    }\n",
       "</style>\n",
       "<table border=\"1\" class=\"dataframe\">\n",
       "  <thead>\n",
       "    <tr style=\"text-align: right;\">\n",
       "      <th></th>\n",
       "      <th>Hypothesis</th>\n",
       "      <th>RICE</th>\n",
       "    </tr>\n",
       "  </thead>\n",
       "  <tbody>\n",
       "    <tr>\n",
       "      <th>7</th>\n",
       "      <td>Добавить форму подписки на все основные страни...</td>\n",
       "      <td>112.0</td>\n",
       "    </tr>\n",
       "    <tr>\n",
       "      <th>2</th>\n",
       "      <td>Добавить блоки рекомендаций товаров на сайт ин...</td>\n",
       "      <td>56.0</td>\n",
       "    </tr>\n",
       "    <tr>\n",
       "      <th>0</th>\n",
       "      <td>Добавить два новых канала привлечения трафика,...</td>\n",
       "      <td>40.0</td>\n",
       "    </tr>\n",
       "    <tr>\n",
       "      <th>6</th>\n",
       "      <td>Показать на главной странице баннеры с актуаль...</td>\n",
       "      <td>40.0</td>\n",
       "    </tr>\n",
       "    <tr>\n",
       "      <th>8</th>\n",
       "      <td>Запустить акцию, дающую скидку на товар в день...</td>\n",
       "      <td>16.2</td>\n",
       "    </tr>\n",
       "    <tr>\n",
       "      <th>3</th>\n",
       "      <td>Изменить структура категорий, что увеличит кон...</td>\n",
       "      <td>9.0</td>\n",
       "    </tr>\n",
       "    <tr>\n",
       "      <th>1</th>\n",
       "      <td>Запустить собственную службу доставки, что сок...</td>\n",
       "      <td>4.0</td>\n",
       "    </tr>\n",
       "    <tr>\n",
       "      <th>5</th>\n",
       "      <td>Добавить страницу отзывов клиентов о магазине,...</td>\n",
       "      <td>4.0</td>\n",
       "    </tr>\n",
       "    <tr>\n",
       "      <th>4</th>\n",
       "      <td>Изменить цвет фона главной страницы, чтобы уве...</td>\n",
       "      <td>3.0</td>\n",
       "    </tr>\n",
       "  </tbody>\n",
       "</table>\n",
       "</div>"
      ],
      "text/plain": [
       "                                          Hypothesis   RICE\n",
       "7  Добавить форму подписки на все основные страни...  112.0\n",
       "2  Добавить блоки рекомендаций товаров на сайт ин...   56.0\n",
       "0  Добавить два новых канала привлечения трафика,...   40.0\n",
       "6  Показать на главной странице баннеры с актуаль...   40.0\n",
       "8  Запустить акцию, дающую скидку на товар в день...   16.2\n",
       "3  Изменить структура категорий, что увеличит кон...    9.0\n",
       "1  Запустить собственную службу доставки, что сок...    4.0\n",
       "5  Добавить страницу отзывов клиентов о магазине,...    4.0\n",
       "4  Изменить цвет фона главной страницы, чтобы уве...    3.0"
      ]
     },
     "execution_count": 5,
     "metadata": {},
     "output_type": "execute_result"
    }
   ],
   "source": [
    "hyp['RICE'] = hyp['Reach'] * hyp['Impact'] * hyp['Confidence'] / hyp['Efforts']\n",
    "\n",
    "hyp_sorted = hyp.sort_values(by='RICE', ascending=False)\n",
    "round(hyp_sorted[['Hypothesis', 'RICE']],2)"
   ]
  },
  {
   "cell_type": "markdown",
   "id": "bd4ce413",
   "metadata": {},
   "source": [
    "Теперь в лидерах гипотезы с индексами 7, 2, 0, 6, 8 - причем 7 лидирует с большим отрывом. Получились те же гипотезы, но в другом порядке. \n",
    "\n",
    "Изменение приоритета гипотез связано с тем, что у гипотез 7 и 2 самый большой уровень Reach - эти изменения затронут много пользователей. А у остальных лидирующих гипотез большие показатели по остальным параметрам и их не выкинуло из топа. \n",
    "\n",
    "Выбирать по-любому надо из этой пятерки, а какой методике отдать предпочтение - зависит от целей. Я бы выбрала RICE, так как речь о большом интернет-магазине и охват аудитории очень сильно может повлиять на количество денег, которые принесут положительные изменения. Наша цель все-таки увеличение размера выручки. Значит, берем гипотезу 7 о e-mail подписке."
   ]
  },
  {
   "cell_type": "markdown",
   "id": "02cdf6dc",
   "metadata": {},
   "source": [
    "## Часть."
   ]
  },
  {
   "cell_type": "markdown",
   "id": "02997d53",
   "metadata": {},
   "source": [
    "### Предобработка данных"
   ]
  },
  {
   "cell_type": "markdown",
   "id": "5ae1255d",
   "metadata": {},
   "source": [
    "Жребий брошен, гипотеза получила право быть протестированной - убедимся, что была выбрана гипотеза о подписке и что с данными все в порядке."
   ]
  },
  {
   "cell_type": "code",
   "execution_count": 6,
   "id": "6a79acce",
   "metadata": {},
   "outputs": [],
   "source": [
    "try:\n",
    "    orders = pd.read_csv('/datasets/orders.csv')\n",
    "except:\n",
    "    orders = pd.read_csv('/Users/elena/Desktop/Data Analitics/Projects/datasets/8/orders.csv')"
   ]
  },
  {
   "cell_type": "code",
   "execution_count": 7,
   "id": "5917568f",
   "metadata": {},
   "outputs": [],
   "source": [
    "try:\n",
    "    visitors = pd.read_csv('/datasets/visitors.csv')\n",
    "except:\n",
    "    visitors = pd.read_csv('/Users/elena/Desktop/Data Analitics/Projects/datasets/8/visitors.csv')"
   ]
  },
  {
   "cell_type": "code",
   "execution_count": 8,
   "id": "8ebc42d0",
   "metadata": {},
   "outputs": [
    {
     "data": {
      "text/plain": [
       "(1197, 5)"
      ]
     },
     "metadata": {},
     "output_type": "display_data"
    },
    {
     "data": {
      "text/html": [
       "<div>\n",
       "<style scoped>\n",
       "    .dataframe tbody tr th:only-of-type {\n",
       "        vertical-align: middle;\n",
       "    }\n",
       "\n",
       "    .dataframe tbody tr th {\n",
       "        vertical-align: top;\n",
       "    }\n",
       "\n",
       "    .dataframe thead th {\n",
       "        text-align: right;\n",
       "    }\n",
       "</style>\n",
       "<table border=\"1\" class=\"dataframe\">\n",
       "  <thead>\n",
       "    <tr style=\"text-align: right;\">\n",
       "      <th></th>\n",
       "      <th>transactionId</th>\n",
       "      <th>visitorId</th>\n",
       "      <th>date</th>\n",
       "      <th>revenue</th>\n",
       "      <th>group</th>\n",
       "    </tr>\n",
       "  </thead>\n",
       "  <tbody>\n",
       "    <tr>\n",
       "      <th>0</th>\n",
       "      <td>3667963787</td>\n",
       "      <td>3312258926</td>\n",
       "      <td>2019-08-15</td>\n",
       "      <td>1650</td>\n",
       "      <td>B</td>\n",
       "    </tr>\n",
       "    <tr>\n",
       "      <th>1</th>\n",
       "      <td>2804400009</td>\n",
       "      <td>3642806036</td>\n",
       "      <td>2019-08-15</td>\n",
       "      <td>730</td>\n",
       "      <td>B</td>\n",
       "    </tr>\n",
       "    <tr>\n",
       "      <th>2</th>\n",
       "      <td>2961555356</td>\n",
       "      <td>4069496402</td>\n",
       "      <td>2019-08-15</td>\n",
       "      <td>400</td>\n",
       "      <td>A</td>\n",
       "    </tr>\n",
       "    <tr>\n",
       "      <th>3</th>\n",
       "      <td>3797467345</td>\n",
       "      <td>1196621759</td>\n",
       "      <td>2019-08-15</td>\n",
       "      <td>9759</td>\n",
       "      <td>B</td>\n",
       "    </tr>\n",
       "    <tr>\n",
       "      <th>4</th>\n",
       "      <td>2282983706</td>\n",
       "      <td>2322279887</td>\n",
       "      <td>2019-08-15</td>\n",
       "      <td>2308</td>\n",
       "      <td>B</td>\n",
       "    </tr>\n",
       "  </tbody>\n",
       "</table>\n",
       "</div>"
      ],
      "text/plain": [
       "   transactionId   visitorId        date  revenue group\n",
       "0     3667963787  3312258926  2019-08-15     1650     B\n",
       "1     2804400009  3642806036  2019-08-15      730     B\n",
       "2     2961555356  4069496402  2019-08-15      400     A\n",
       "3     3797467345  1196621759  2019-08-15     9759     B\n",
       "4     2282983706  2322279887  2019-08-15     2308     B"
      ]
     },
     "execution_count": 8,
     "metadata": {},
     "output_type": "execute_result"
    }
   ],
   "source": [
    "display(orders.shape)\n",
    "orders.head()"
   ]
  },
  {
   "cell_type": "code",
   "execution_count": 9,
   "id": "807f78eb",
   "metadata": {},
   "outputs": [
    {
     "data": {
      "text/plain": [
       "(62, 3)"
      ]
     },
     "metadata": {},
     "output_type": "display_data"
    },
    {
     "data": {
      "text/html": [
       "<div>\n",
       "<style scoped>\n",
       "    .dataframe tbody tr th:only-of-type {\n",
       "        vertical-align: middle;\n",
       "    }\n",
       "\n",
       "    .dataframe tbody tr th {\n",
       "        vertical-align: top;\n",
       "    }\n",
       "\n",
       "    .dataframe thead th {\n",
       "        text-align: right;\n",
       "    }\n",
       "</style>\n",
       "<table border=\"1\" class=\"dataframe\">\n",
       "  <thead>\n",
       "    <tr style=\"text-align: right;\">\n",
       "      <th></th>\n",
       "      <th>date</th>\n",
       "      <th>group</th>\n",
       "      <th>visitors</th>\n",
       "    </tr>\n",
       "  </thead>\n",
       "  <tbody>\n",
       "    <tr>\n",
       "      <th>0</th>\n",
       "      <td>2019-08-01</td>\n",
       "      <td>A</td>\n",
       "      <td>719</td>\n",
       "    </tr>\n",
       "    <tr>\n",
       "      <th>1</th>\n",
       "      <td>2019-08-02</td>\n",
       "      <td>A</td>\n",
       "      <td>619</td>\n",
       "    </tr>\n",
       "    <tr>\n",
       "      <th>2</th>\n",
       "      <td>2019-08-03</td>\n",
       "      <td>A</td>\n",
       "      <td>507</td>\n",
       "    </tr>\n",
       "    <tr>\n",
       "      <th>3</th>\n",
       "      <td>2019-08-04</td>\n",
       "      <td>A</td>\n",
       "      <td>717</td>\n",
       "    </tr>\n",
       "    <tr>\n",
       "      <th>4</th>\n",
       "      <td>2019-08-05</td>\n",
       "      <td>A</td>\n",
       "      <td>756</td>\n",
       "    </tr>\n",
       "    <tr>\n",
       "      <th>5</th>\n",
       "      <td>2019-08-06</td>\n",
       "      <td>A</td>\n",
       "      <td>667</td>\n",
       "    </tr>\n",
       "    <tr>\n",
       "      <th>6</th>\n",
       "      <td>2019-08-07</td>\n",
       "      <td>A</td>\n",
       "      <td>644</td>\n",
       "    </tr>\n",
       "    <tr>\n",
       "      <th>7</th>\n",
       "      <td>2019-08-08</td>\n",
       "      <td>A</td>\n",
       "      <td>610</td>\n",
       "    </tr>\n",
       "    <tr>\n",
       "      <th>8</th>\n",
       "      <td>2019-08-09</td>\n",
       "      <td>A</td>\n",
       "      <td>617</td>\n",
       "    </tr>\n",
       "    <tr>\n",
       "      <th>9</th>\n",
       "      <td>2019-08-10</td>\n",
       "      <td>A</td>\n",
       "      <td>406</td>\n",
       "    </tr>\n",
       "  </tbody>\n",
       "</table>\n",
       "</div>"
      ],
      "text/plain": [
       "         date group  visitors\n",
       "0  2019-08-01     A       719\n",
       "1  2019-08-02     A       619\n",
       "2  2019-08-03     A       507\n",
       "3  2019-08-04     A       717\n",
       "4  2019-08-05     A       756\n",
       "5  2019-08-06     A       667\n",
       "6  2019-08-07     A       644\n",
       "7  2019-08-08     A       610\n",
       "8  2019-08-09     A       617\n",
       "9  2019-08-10     A       406"
      ]
     },
     "metadata": {},
     "output_type": "display_data"
    },
    {
     "data": {
      "text/plain": [
       "'2019-08-31'"
      ]
     },
     "execution_count": 9,
     "metadata": {},
     "output_type": "execute_result"
    }
   ],
   "source": [
    "display(visitors.shape)\n",
    "display(visitors.head(10))\n",
    "visitors['date'].max()"
   ]
  },
  {
   "cell_type": "markdown",
   "id": "bd896c36",
   "metadata": {},
   "source": [
    "На первый взгляд непонятно, какую гипотезу проверяли. Зато мы видим около 1200 заказов (orders), в таблице visitors мы видим сроки проведения теста - 31 день в 2019 году (август). Но строк в два раза больше - вероятно, сначала идет группа А, а затем уже группа B. Проверим: "
   ]
  },
  {
   "cell_type": "code",
   "execution_count": 10,
   "id": "1f1817c5",
   "metadata": {},
   "outputs": [
    {
     "data": {
      "text/html": [
       "<div>\n",
       "<style scoped>\n",
       "    .dataframe tbody tr th:only-of-type {\n",
       "        vertical-align: middle;\n",
       "    }\n",
       "\n",
       "    .dataframe tbody tr th {\n",
       "        vertical-align: top;\n",
       "    }\n",
       "\n",
       "    .dataframe thead th {\n",
       "        text-align: right;\n",
       "    }\n",
       "</style>\n",
       "<table border=\"1\" class=\"dataframe\">\n",
       "  <thead>\n",
       "    <tr style=\"text-align: right;\">\n",
       "      <th></th>\n",
       "      <th>date</th>\n",
       "      <th>group</th>\n",
       "      <th>visitors</th>\n",
       "    </tr>\n",
       "  </thead>\n",
       "  <tbody>\n",
       "    <tr>\n",
       "      <th>52</th>\n",
       "      <td>2019-08-22</td>\n",
       "      <td>B</td>\n",
       "      <td>650</td>\n",
       "    </tr>\n",
       "    <tr>\n",
       "      <th>53</th>\n",
       "      <td>2019-08-23</td>\n",
       "      <td>B</td>\n",
       "      <td>546</td>\n",
       "    </tr>\n",
       "    <tr>\n",
       "      <th>54</th>\n",
       "      <td>2019-08-24</td>\n",
       "      <td>B</td>\n",
       "      <td>378</td>\n",
       "    </tr>\n",
       "    <tr>\n",
       "      <th>55</th>\n",
       "      <td>2019-08-25</td>\n",
       "      <td>B</td>\n",
       "      <td>679</td>\n",
       "    </tr>\n",
       "    <tr>\n",
       "      <th>56</th>\n",
       "      <td>2019-08-26</td>\n",
       "      <td>B</td>\n",
       "      <td>676</td>\n",
       "    </tr>\n",
       "    <tr>\n",
       "      <th>57</th>\n",
       "      <td>2019-08-27</td>\n",
       "      <td>B</td>\n",
       "      <td>720</td>\n",
       "    </tr>\n",
       "    <tr>\n",
       "      <th>58</th>\n",
       "      <td>2019-08-28</td>\n",
       "      <td>B</td>\n",
       "      <td>654</td>\n",
       "    </tr>\n",
       "    <tr>\n",
       "      <th>59</th>\n",
       "      <td>2019-08-29</td>\n",
       "      <td>B</td>\n",
       "      <td>531</td>\n",
       "    </tr>\n",
       "    <tr>\n",
       "      <th>60</th>\n",
       "      <td>2019-08-30</td>\n",
       "      <td>B</td>\n",
       "      <td>490</td>\n",
       "    </tr>\n",
       "    <tr>\n",
       "      <th>61</th>\n",
       "      <td>2019-08-31</td>\n",
       "      <td>B</td>\n",
       "      <td>718</td>\n",
       "    </tr>\n",
       "  </tbody>\n",
       "</table>\n",
       "</div>"
      ],
      "text/plain": [
       "          date group  visitors\n",
       "52  2019-08-22     B       650\n",
       "53  2019-08-23     B       546\n",
       "54  2019-08-24     B       378\n",
       "55  2019-08-25     B       679\n",
       "56  2019-08-26     B       676\n",
       "57  2019-08-27     B       720\n",
       "58  2019-08-28     B       654\n",
       "59  2019-08-29     B       531\n",
       "60  2019-08-30     B       490\n",
       "61  2019-08-31     B       718"
      ]
     },
     "metadata": {},
     "output_type": "display_data"
    },
    {
     "data": {
      "text/plain": [
       "31"
      ]
     },
     "execution_count": 10,
     "metadata": {},
     "output_type": "execute_result"
    }
   ],
   "source": [
    "display(visitors.tail(10))\n",
    "visitors['date'].nunique()"
   ]
  },
  {
   "cell_type": "markdown",
   "id": "a6bcfb89",
   "metadata": {},
   "source": [
    "Так и есть. Проверим пропуски и явные дубликаты в обеих таблицах:"
   ]
  },
  {
   "cell_type": "code",
   "execution_count": 11,
   "id": "604fdf8b",
   "metadata": {},
   "outputs": [
    {
     "data": {
      "text/plain": [
       "0"
      ]
     },
     "metadata": {},
     "output_type": "display_data"
    },
    {
     "data": {
      "text/plain": [
       "0"
      ]
     },
     "execution_count": 11,
     "metadata": {},
     "output_type": "execute_result"
    }
   ],
   "source": [
    "display(orders.duplicated().sum())\n",
    "visitors.duplicated().sum()"
   ]
  },
  {
   "cell_type": "code",
   "execution_count": 12,
   "id": "65f37152",
   "metadata": {},
   "outputs": [
    {
     "data": {
      "text/plain": [
       "transactionId    0\n",
       "visitorId        0\n",
       "date             0\n",
       "revenue          0\n",
       "group            0\n",
       "dtype: int64"
      ]
     },
     "metadata": {},
     "output_type": "display_data"
    },
    {
     "data": {
      "text/plain": [
       "date        0\n",
       "group       0\n",
       "visitors    0\n",
       "dtype: int64"
      ]
     },
     "execution_count": 12,
     "metadata": {},
     "output_type": "execute_result"
    }
   ],
   "source": [
    "display(orders.isna().sum())\n",
    "visitors.isna().sum()"
   ]
  },
  {
   "cell_type": "markdown",
   "id": "d4c87bf1",
   "metadata": {},
   "source": [
    "Здесь все в порядке. Проверим типы данных в столбцах:\n"
   ]
  },
  {
   "cell_type": "code",
   "execution_count": 13,
   "id": "93ef089a",
   "metadata": {},
   "outputs": [
    {
     "name": "stdout",
     "output_type": "stream",
     "text": [
      "<class 'pandas.core.frame.DataFrame'>\n",
      "RangeIndex: 1197 entries, 0 to 1196\n",
      "Data columns (total 5 columns):\n",
      " #   Column         Non-Null Count  Dtype \n",
      "---  ------         --------------  ----- \n",
      " 0   transactionId  1197 non-null   int64 \n",
      " 1   visitorId      1197 non-null   int64 \n",
      " 2   date           1197 non-null   object\n",
      " 3   revenue        1197 non-null   int64 \n",
      " 4   group          1197 non-null   object\n",
      "dtypes: int64(3), object(2)\n",
      "memory usage: 46.9+ KB\n"
     ]
    }
   ],
   "source": [
    "orders.info()"
   ]
  },
  {
   "cell_type": "code",
   "execution_count": 14,
   "id": "35d6bd73",
   "metadata": {},
   "outputs": [
    {
     "name": "stdout",
     "output_type": "stream",
     "text": [
      "<class 'pandas.core.frame.DataFrame'>\n",
      "RangeIndex: 62 entries, 0 to 61\n",
      "Data columns (total 3 columns):\n",
      " #   Column    Non-Null Count  Dtype \n",
      "---  ------    --------------  ----- \n",
      " 0   date      62 non-null     object\n",
      " 1   group     62 non-null     object\n",
      " 2   visitors  62 non-null     int64 \n",
      "dtypes: int64(1), object(2)\n",
      "memory usage: 1.6+ KB\n"
     ]
    }
   ],
   "source": [
    "visitors.info()"
   ]
  },
  {
   "cell_type": "markdown",
   "id": "6505028b",
   "metadata": {},
   "source": [
    "Даты надо привести к типу datetime:"
   ]
  },
  {
   "cell_type": "code",
   "execution_count": 15,
   "id": "ee445613",
   "metadata": {},
   "outputs": [],
   "source": [
    "orders['date'] = pd.to_datetime(orders['date'], format='%Y.%m.%d')"
   ]
  },
  {
   "cell_type": "code",
   "execution_count": 16,
   "id": "90a207d2",
   "metadata": {},
   "outputs": [],
   "source": [
    "visitors['date'] = pd.to_datetime(visitors['date'], format='%Y.%m.%d')"
   ]
  },
  {
   "cell_type": "code",
   "execution_count": 17,
   "id": "99c0acd7",
   "metadata": {},
   "outputs": [
    {
     "name": "stdout",
     "output_type": "stream",
     "text": [
      "<class 'pandas.core.frame.DataFrame'>\n",
      "RangeIndex: 1197 entries, 0 to 1196\n",
      "Data columns (total 5 columns):\n",
      " #   Column         Non-Null Count  Dtype         \n",
      "---  ------         --------------  -----         \n",
      " 0   transactionId  1197 non-null   int64         \n",
      " 1   visitorId      1197 non-null   int64         \n",
      " 2   date           1197 non-null   datetime64[ns]\n",
      " 3   revenue        1197 non-null   int64         \n",
      " 4   group          1197 non-null   object        \n",
      "dtypes: datetime64[ns](1), int64(3), object(1)\n",
      "memory usage: 46.9+ KB\n"
     ]
    }
   ],
   "source": [
    "orders.info()"
   ]
  },
  {
   "cell_type": "code",
   "execution_count": 18,
   "id": "18b8e339",
   "metadata": {},
   "outputs": [
    {
     "name": "stdout",
     "output_type": "stream",
     "text": [
      "<class 'pandas.core.frame.DataFrame'>\n",
      "RangeIndex: 62 entries, 0 to 61\n",
      "Data columns (total 3 columns):\n",
      " #   Column    Non-Null Count  Dtype         \n",
      "---  ------    --------------  -----         \n",
      " 0   date      62 non-null     datetime64[ns]\n",
      " 1   group     62 non-null     object        \n",
      " 2   visitors  62 non-null     int64         \n",
      "dtypes: datetime64[ns](1), int64(1), object(1)\n",
      "memory usage: 1.6+ KB\n"
     ]
    }
   ],
   "source": [
    "visitors.info()"
   ]
  },
  {
   "cell_type": "markdown",
   "id": "60bfbe9e",
   "metadata": {},
   "source": [
    "И последнее - нейминг. Не знаю, почему в теории стали использовать CamelCase, но как-то_привычнее_так. "
   ]
  },
  {
   "cell_type": "code",
   "execution_count": 19,
   "id": "400983c4",
   "metadata": {},
   "outputs": [],
   "source": [
    "orders.columns = [\n",
    "    'transaction_id',\n",
    "    'visitor_id',\n",
    "    'date',\n",
    "    'revenue',\n",
    "    'group'\n",
    "]"
   ]
  },
  {
   "cell_type": "code",
   "execution_count": 20,
   "id": "bc187d09",
   "metadata": {},
   "outputs": [
    {
     "name": "stdout",
     "output_type": "stream",
     "text": [
      "<class 'pandas.core.frame.DataFrame'>\n",
      "RangeIndex: 1197 entries, 0 to 1196\n",
      "Data columns (total 5 columns):\n",
      " #   Column          Non-Null Count  Dtype         \n",
      "---  ------          --------------  -----         \n",
      " 0   transaction_id  1197 non-null   int64         \n",
      " 1   visitor_id      1197 non-null   int64         \n",
      " 2   date            1197 non-null   datetime64[ns]\n",
      " 3   revenue         1197 non-null   int64         \n",
      " 4   group           1197 non-null   object        \n",
      "dtypes: datetime64[ns](1), int64(3), object(1)\n",
      "memory usage: 46.9+ KB\n"
     ]
    }
   ],
   "source": [
    "orders.info()"
   ]
  },
  {
   "cell_type": "markdown",
   "id": "2e07108e",
   "metadata": {},
   "source": [
    "Мы ознакомились с двумя таблицами с результатами A/B теста. Первая, orders, содержит данные о всех заказах, участвовавших в проверке гипотезы - с id транзакции и посетителя, датой, суммой заказа и группой А или В. Вторая, visitors, о днях эксперимента - сколько было посетителей из каждой группы. Также мы выяснили, за какой период у нас данные - август 2019. После мы выполнили предобработку данных, проверив их на явные дубликаты и пропуски, приведя столбцы с датами к типу datetime и переименовав столбцы."
   ]
  },
  {
   "cell_type": "markdown",
   "id": "a24c4934",
   "metadata": {},
   "source": [
    "## Анализ А/B теста"
   ]
  },
  {
   "cell_type": "markdown",
   "id": "14ba9354",
   "metadata": {},
   "source": [
    "### График кумулятивной выручки по группам"
   ]
  },
  {
   "cell_type": "code",
   "execution_count": 21,
   "id": "64d89208",
   "metadata": {},
   "outputs": [],
   "source": [
    "# создаем массив уникальных пар значений дат и групп теста\n",
    "datesGroups = orders[['date','group']].drop_duplicates()"
   ]
  },
  {
   "cell_type": "code",
   "execution_count": 22,
   "id": "8214d6b6",
   "metadata": {},
   "outputs": [],
   "source": [
    "# получаем агрегированные кумулятивные по дням данные о заказах \n",
    "ordersAggregated = datesGroups.apply(lambda x: orders[np.logical_and(orders['date'] <= x['date'], orders['group'] == x['group'])].agg({'date' : 'max', 'group' : 'max', 'transaction_id' : 'nunique', 'visitor_id' : 'nunique', 'revenue' : 'sum'}), axis=1).sort_values(by=['date','group'])\n"
   ]
  },
  {
   "cell_type": "code",
   "execution_count": 23,
   "id": "8b8d3c68",
   "metadata": {},
   "outputs": [],
   "source": [
    "# получаем агрегированные кумулятивные по дням данные о посетителях интернет-магазина \n",
    "visitorsAggregated = datesGroups.apply(lambda x: visitors[np.logical_and(visitors['date'] <= x['date'], visitors['group'] == x['group'])].agg({'date' : 'max', 'group' : 'max', 'visitors' : 'sum'}), axis=1).sort_values(by=['date','group'])"
   ]
  },
  {
   "cell_type": "code",
   "execution_count": 24,
   "id": "76490725",
   "metadata": {},
   "outputs": [],
   "source": [
    "# объединяем кумулятивные данные в одной таблице и присваиваем ее столбцам понятные названия\n",
    "cumulativeData = ordersAggregated.merge(visitorsAggregated, left_on=['date', 'group'], right_on=['date', 'group'])\n",
    "cumulativeData.columns = ['date', 'group', 'orders', 'buyers', 'revenue', 'visitors']"
   ]
  },
  {
   "cell_type": "code",
   "execution_count": 25,
   "id": "6411559a",
   "metadata": {},
   "outputs": [
    {
     "name": "stdout",
     "output_type": "stream",
     "text": [
      "<class 'pandas.core.frame.DataFrame'>\n",
      "Int64Index: 62 entries, 0 to 61\n",
      "Data columns (total 6 columns):\n",
      " #   Column    Non-Null Count  Dtype         \n",
      "---  ------    --------------  -----         \n",
      " 0   date      62 non-null     datetime64[ns]\n",
      " 1   group     62 non-null     object        \n",
      " 2   orders    62 non-null     int64         \n",
      " 3   buyers    62 non-null     int64         \n",
      " 4   revenue   62 non-null     int64         \n",
      " 5   visitors  62 non-null     int64         \n",
      "dtypes: datetime64[ns](1), int64(4), object(1)\n",
      "memory usage: 3.4+ KB\n"
     ]
    },
    {
     "data": {
      "text/plain": [
       "None"
      ]
     },
     "metadata": {},
     "output_type": "display_data"
    },
    {
     "data": {
      "text/html": [
       "<div>\n",
       "<style scoped>\n",
       "    .dataframe tbody tr th:only-of-type {\n",
       "        vertical-align: middle;\n",
       "    }\n",
       "\n",
       "    .dataframe tbody tr th {\n",
       "        vertical-align: top;\n",
       "    }\n",
       "\n",
       "    .dataframe thead th {\n",
       "        text-align: right;\n",
       "    }\n",
       "</style>\n",
       "<table border=\"1\" class=\"dataframe\">\n",
       "  <thead>\n",
       "    <tr style=\"text-align: right;\">\n",
       "      <th></th>\n",
       "      <th>date</th>\n",
       "      <th>group</th>\n",
       "      <th>orders</th>\n",
       "      <th>buyers</th>\n",
       "      <th>revenue</th>\n",
       "      <th>visitors</th>\n",
       "    </tr>\n",
       "  </thead>\n",
       "  <tbody>\n",
       "    <tr>\n",
       "      <th>0</th>\n",
       "      <td>2019-08-01</td>\n",
       "      <td>A</td>\n",
       "      <td>24</td>\n",
       "      <td>20</td>\n",
       "      <td>148579</td>\n",
       "      <td>719</td>\n",
       "    </tr>\n",
       "    <tr>\n",
       "      <th>1</th>\n",
       "      <td>2019-08-01</td>\n",
       "      <td>B</td>\n",
       "      <td>21</td>\n",
       "      <td>20</td>\n",
       "      <td>101217</td>\n",
       "      <td>713</td>\n",
       "    </tr>\n",
       "    <tr>\n",
       "      <th>2</th>\n",
       "      <td>2019-08-02</td>\n",
       "      <td>A</td>\n",
       "      <td>44</td>\n",
       "      <td>38</td>\n",
       "      <td>242401</td>\n",
       "      <td>1338</td>\n",
       "    </tr>\n",
       "    <tr>\n",
       "      <th>3</th>\n",
       "      <td>2019-08-02</td>\n",
       "      <td>B</td>\n",
       "      <td>45</td>\n",
       "      <td>43</td>\n",
       "      <td>266748</td>\n",
       "      <td>1294</td>\n",
       "    </tr>\n",
       "    <tr>\n",
       "      <th>4</th>\n",
       "      <td>2019-08-03</td>\n",
       "      <td>A</td>\n",
       "      <td>68</td>\n",
       "      <td>62</td>\n",
       "      <td>354874</td>\n",
       "      <td>1845</td>\n",
       "    </tr>\n",
       "  </tbody>\n",
       "</table>\n",
       "</div>"
      ],
      "text/plain": [
       "        date group  orders  buyers  revenue  visitors\n",
       "0 2019-08-01     A      24      20   148579       719\n",
       "1 2019-08-01     B      21      20   101217       713\n",
       "2 2019-08-02     A      44      38   242401      1338\n",
       "3 2019-08-02     B      45      43   266748      1294\n",
       "4 2019-08-03     A      68      62   354874      1845"
      ]
     },
     "execution_count": 25,
     "metadata": {},
     "output_type": "execute_result"
    }
   ],
   "source": [
    "display(cumulativeData.info())\n",
    "cumulativeData.head()"
   ]
  },
  {
   "cell_type": "markdown",
   "id": "eee7e314",
   "metadata": {},
   "source": [
    "\n",
    "Проверим новый датафрейм на правильность. Для этого сопоставим минимальную и максимальную дату в нем с минимальной и максимальной датой в исходных датафреймах    \n",
    "\n"
   ]
  },
  {
   "cell_type": "code",
   "execution_count": 26,
   "id": "f53f074a",
   "metadata": {},
   "outputs": [
    {
     "data": {
      "text/plain": [
       "Timestamp('2019-08-01 00:00:00')"
      ]
     },
     "metadata": {},
     "output_type": "display_data"
    },
    {
     "data": {
      "text/plain": [
       "Timestamp('2019-08-31 00:00:00')"
      ]
     },
     "metadata": {},
     "output_type": "display_data"
    },
    {
     "data": {
      "text/plain": [
       "Timestamp('2019-08-01 00:00:00')"
      ]
     },
     "metadata": {},
     "output_type": "display_data"
    },
    {
     "data": {
      "text/plain": [
       "Timestamp('2019-08-31 00:00:00')"
      ]
     },
     "metadata": {},
     "output_type": "display_data"
    },
    {
     "data": {
      "text/plain": [
       "Timestamp('2019-08-01 00:00:00')"
      ]
     },
     "metadata": {},
     "output_type": "display_data"
    },
    {
     "data": {
      "text/plain": [
       "Timestamp('2019-08-31 00:00:00')"
      ]
     },
     "execution_count": 26,
     "metadata": {},
     "output_type": "execute_result"
    }
   ],
   "source": [
    "display(cumulativeData['date'].min())\n",
    "display(cumulativeData['date'].max())\n",
    "display(orders['date'].min())\n",
    "display(orders['date'].max())\n",
    "display(visitors['date'].min())\n",
    "visitors['date'].max()\n"
   ]
  },
  {
   "cell_type": "markdown",
   "id": "f9051e51",
   "metadata": {},
   "source": [
    "\n",
    "Даты совпадают, все в порядке\n"
   ]
  },
  {
   "cell_type": "code",
   "execution_count": 27,
   "id": "de38bf33",
   "metadata": {},
   "outputs": [],
   "source": [
    "# датафрейм с кумулятивным количеством заказов и кумулятивной выручкой по дням в группе А\n",
    "cumulativeRevenueA = cumulativeData[cumulativeData['group']=='A'][['date','revenue', 'orders']]"
   ]
  },
  {
   "cell_type": "code",
   "execution_count": 28,
   "id": "1c6fad3d",
   "metadata": {},
   "outputs": [],
   "source": [
    "# датафрейм с кумулятивным количеством заказов и кумулятивной выручкой по дням в группе B\n",
    "cumulativeRevenueB = cumulativeData[cumulativeData['group']=='B'][['date','revenue', 'orders']]"
   ]
  },
  {
   "cell_type": "code",
   "execution_count": 29,
   "id": "af0e3c6c",
   "metadata": {},
   "outputs": [
    {
     "data": {
      "image/png": "[encoded data removed]",
      "text/plain": [
       "<Figure size 792x432 with 1 Axes>"
      ]
     },
     "metadata": {
      "needs_background": "light"
     },
     "output_type": "display_data"
    }
   ],
   "source": [
    "plt.figure(figsize = (11,6))\n",
    "plt.title('График кумулятивной выручки по группам')\n",
    "plt.xlabel('Даты')\n",
    "plt.ylabel('Выручка')\n",
    "plt.grid()\n",
    "# Строим график выручки группы А\n",
    "plt.plot(cumulativeRevenueA['date'], cumulativeRevenueA['revenue'], label='A')\n",
    "# Строим график выручки группы B\n",
    "plt.plot(cumulativeRevenueB['date'], cumulativeRevenueB['revenue'], label='B')\n",
    "\n",
    "plt.legend()\n",
    "plt.show()\n"
   ]
  },
  {
   "cell_type": "markdown",
   "id": "fa244036",
   "metadata": {},
   "source": [
    "Как мы можем наблюдать, к середине экспериментального месяца группа B совершает рывок, который резко отдаляет ее от линии выручки группы A. Это могут быть выбросы или полезный эффект."
   ]
  },
  {
   "cell_type": "markdown",
   "id": "bc8fd595",
   "metadata": {},
   "source": [
    "### График кумулятивного среднего чека по группам"
   ]
  },
  {
   "cell_type": "code",
   "execution_count": 30,
   "id": "a82c8d8e",
   "metadata": {},
   "outputs": [
    {
     "data": {
      "image/png": "[encoded data removed]",
      "text/plain": [
       "<Figure size 792x432 with 1 Axes>"
      ]
     },
     "metadata": {
      "needs_background": "light"
     },
     "output_type": "display_data"
    }
   ],
   "source": [
    "plt.figure(figsize = (11,6))\n",
    "plt.title('График кумулятивного среднего чека по группам')\n",
    "plt.xlabel('Даты')\n",
    "plt.ylabel('Размер среднего чека')\n",
    "plt.grid()\n",
    "plt.plot(cumulativeRevenueA['date'], cumulativeRevenueA['revenue']/cumulativeRevenueA['orders'], label='A')\n",
    "plt.plot(cumulativeRevenueB['date'], cumulativeRevenueB['revenue']/cumulativeRevenueB['orders'], label='B')\n",
    "plt.legend()\n",
    "plt.show()"
   ]
  },
  {
   "cell_type": "markdown",
   "id": "24383ce3",
   "metadata": {},
   "source": [
    "В том же месте тот же  мгновенный рывок, даже еще более выраженный. До этого момента группа B показывала неплохие результаты. После - идет плавное снижение показателей группы B. Пока картина не очень стабильная."
   ]
  },
  {
   "cell_type": "markdown",
   "id": "7ac539a0",
   "metadata": {},
   "source": [
    "### График относительного изменения кумулятивного среднего чека группы В к А"
   ]
  },
  {
   "cell_type": "code",
   "execution_count": 31,
   "id": "8c7cafa5",
   "metadata": {},
   "outputs": [
    {
     "data": {
      "text/html": [
       "<div>\n",
       "<style scoped>\n",
       "    .dataframe tbody tr th:only-of-type {\n",
       "        vertical-align: middle;\n",
       "    }\n",
       "\n",
       "    .dataframe tbody tr th {\n",
       "        vertical-align: top;\n",
       "    }\n",
       "\n",
       "    .dataframe thead th {\n",
       "        text-align: right;\n",
       "    }\n",
       "</style>\n",
       "<table border=\"1\" class=\"dataframe\">\n",
       "  <thead>\n",
       "    <tr style=\"text-align: right;\">\n",
       "      <th></th>\n",
       "      <th>date</th>\n",
       "      <th>revenueA</th>\n",
       "      <th>ordersA</th>\n",
       "      <th>revenueB</th>\n",
       "      <th>ordersB</th>\n",
       "    </tr>\n",
       "  </thead>\n",
       "  <tbody>\n",
       "    <tr>\n",
       "      <th>0</th>\n",
       "      <td>2019-08-01</td>\n",
       "      <td>148579</td>\n",
       "      <td>24</td>\n",
       "      <td>101217</td>\n",
       "      <td>21</td>\n",
       "    </tr>\n",
       "    <tr>\n",
       "      <th>1</th>\n",
       "      <td>2019-08-02</td>\n",
       "      <td>242401</td>\n",
       "      <td>44</td>\n",
       "      <td>266748</td>\n",
       "      <td>45</td>\n",
       "    </tr>\n",
       "    <tr>\n",
       "      <th>2</th>\n",
       "      <td>2019-08-03</td>\n",
       "      <td>354874</td>\n",
       "      <td>68</td>\n",
       "      <td>380996</td>\n",
       "      <td>61</td>\n",
       "    </tr>\n",
       "    <tr>\n",
       "      <th>3</th>\n",
       "      <td>2019-08-04</td>\n",
       "      <td>425699</td>\n",
       "      <td>84</td>\n",
       "      <td>489567</td>\n",
       "      <td>78</td>\n",
       "    </tr>\n",
       "    <tr>\n",
       "      <th>4</th>\n",
       "      <td>2019-08-05</td>\n",
       "      <td>549917</td>\n",
       "      <td>109</td>\n",
       "      <td>581995</td>\n",
       "      <td>101</td>\n",
       "    </tr>\n",
       "  </tbody>\n",
       "</table>\n",
       "</div>"
      ],
      "text/plain": [
       "        date  revenueA  ordersA  revenueB  ordersB\n",
       "0 2019-08-01    148579       24    101217       21\n",
       "1 2019-08-02    242401       44    266748       45\n",
       "2 2019-08-03    354874       68    380996       61\n",
       "3 2019-08-04    425699       84    489567       78\n",
       "4 2019-08-05    549917      109    581995      101"
      ]
     },
     "execution_count": 31,
     "metadata": {},
     "output_type": "execute_result"
    }
   ],
   "source": [
    "# Чтобы построить этот график,нам надо объединить данные кумулятивной выручки обеих групп\n",
    "mergedCumulativeRevenue = cumulativeRevenueA.merge(cumulativeRevenueB, left_on='date', right_on='date', how='left', suffixes=['A', 'B'])\n",
    "mergedCumulativeRevenue.head()"
   ]
  },
  {
   "cell_type": "code",
   "execution_count": 32,
   "id": "b47dac3c",
   "metadata": {},
   "outputs": [
    {
     "data": {
      "image/png": "[encoded data removed]",
      "text/plain": [
       "<Figure size 792x432 with 1 Axes>"
      ]
     },
     "metadata": {
      "needs_background": "light"
     },
     "output_type": "display_data"
    }
   ],
   "source": [
    "# cтроим отношение средних чеков\n",
    "plt.figure(figsize = (11,6))\n",
    "plt.grid()\n",
    "plt.title('График относительного изменения кумулятивного среднего чека группы В к А')\n",
    "plt.xlabel('Даты')\n",
    "plt.ylabel('Отношение В к А')\n",
    "plt.plot(mergedCumulativeRevenue['date'], (mergedCumulativeRevenue['revenueB']/mergedCumulativeRevenue['ordersB'])/(mergedCumulativeRevenue['revenueA']/mergedCumulativeRevenue['ordersA'])-1)\n",
    "\n",
    "# добавляем ось X\n",
    "plt.axhline(y=0, color='black', linestyle='--')\n",
    "plt.show()"
   ]
  },
  {
   "cell_type": "markdown",
   "id": "53b266b3",
   "metadata": {},
   "source": [
    "У нас два взлета и два падения,  причем первое ниже уровня группы A. Эти места точно должны быть связаны с аномальными заказами."
   ]
  },
  {
   "cell_type": "markdown",
   "id": "430a7e2f",
   "metadata": {},
   "source": [
    "### График кумулятивного среднего количества заказов на посетителя по группам"
   ]
  },
  {
   "cell_type": "markdown",
   "id": "3a8ddefa",
   "metadata": {},
   "source": [
    "Создадим столбец, который условно назовем конверсией - там будет отношение числа заказов к числу пользователей - это и будет кумулятивным средним количеством заказов на человека. Считаем отдельно по группам."
   ]
  },
  {
   "cell_type": "code",
   "execution_count": 33,
   "id": "554301e0",
   "metadata": {},
   "outputs": [],
   "source": [
    "# считаем кумулятивную конверсию\n",
    "cumulativeData['conversion'] = cumulativeData['orders']/cumulativeData['visitors']\n",
    "\n",
    "# отделяем данные по группе A\n",
    "cumulativeDataA = cumulativeData[cumulativeData['group']=='A']\n",
    "\n",
    "# отделяем данные по группе B\n",
    "cumulativeDataB = cumulativeData[cumulativeData['group']=='B']\n"
   ]
  },
  {
   "cell_type": "code",
   "execution_count": 34,
   "id": "1ac00c43",
   "metadata": {},
   "outputs": [
    {
     "data": {
      "image/png": "[encoded data removed]",
      "text/plain": [
       "<Figure size 792x432 with 1 Axes>"
      ]
     },
     "metadata": {
      "needs_background": "light"
     },
     "output_type": "display_data"
    }
   ],
   "source": [
    "# строим графики\n",
    "plt.figure(figsize = (11,6))\n",
    "plt.plot(cumulativeDataA['date'], cumulativeDataA['conversion'], label='A')\n",
    "plt.plot(cumulativeDataB['date'], cumulativeDataB['conversion'], label='B')\n",
    "plt.legend()\n",
    "\n",
    "plt.grid()\n",
    "plt.title('График кумулятивного среднего количества заказов на посетителя по группам')\n",
    "plt.xlabel('Даты')\n",
    "plt.ylabel('Отношение числа заказов к числу пользователей')\n",
    "# задаем масштаб осей\n",
    "plt.axis([dt.datetime(2019, 8, 1), dt.datetime(2019, 8, 31), 0, 0.05])\n",
    "plt.show()\n"
   ]
  },
  {
   "cell_type": "markdown",
   "id": "85e01d7e",
   "metadata": {},
   "source": [
    "Очевидно, что группа B обогнала по среднему количеству заказов группу A. Значения более-менее стабилизировались. Интересно, почему показатели уменьшились в группе А, вроде же не должно было быть изменений, если группы не связаны. Впрочем, снижение небольшое, возможно, сезонное."
   ]
  },
  {
   "cell_type": "markdown",
   "id": "0329150b",
   "metadata": {},
   "source": [
    "### График относительного изменения кумулятивного среднего количества заказов на посетителя группы В к А"
   ]
  },
  {
   "cell_type": "code",
   "execution_count": 35,
   "id": "3f8cceaf",
   "metadata": {},
   "outputs": [
    {
     "data": {
      "text/html": [
       "<div>\n",
       "<style scoped>\n",
       "    .dataframe tbody tr th:only-of-type {\n",
       "        vertical-align: middle;\n",
       "    }\n",
       "\n",
       "    .dataframe tbody tr th {\n",
       "        vertical-align: top;\n",
       "    }\n",
       "\n",
       "    .dataframe thead th {\n",
       "        text-align: right;\n",
       "    }\n",
       "</style>\n",
       "<table border=\"1\" class=\"dataframe\">\n",
       "  <thead>\n",
       "    <tr style=\"text-align: right;\">\n",
       "      <th></th>\n",
       "      <th>date</th>\n",
       "      <th>conversionA</th>\n",
       "      <th>conversionB</th>\n",
       "    </tr>\n",
       "  </thead>\n",
       "  <tbody>\n",
       "    <tr>\n",
       "      <th>0</th>\n",
       "      <td>2019-08-01</td>\n",
       "      <td>0.033380</td>\n",
       "      <td>0.029453</td>\n",
       "    </tr>\n",
       "    <tr>\n",
       "      <th>1</th>\n",
       "      <td>2019-08-02</td>\n",
       "      <td>0.032885</td>\n",
       "      <td>0.034776</td>\n",
       "    </tr>\n",
       "    <tr>\n",
       "      <th>2</th>\n",
       "      <td>2019-08-03</td>\n",
       "      <td>0.036856</td>\n",
       "      <td>0.033833</td>\n",
       "    </tr>\n",
       "    <tr>\n",
       "      <th>3</th>\n",
       "      <td>2019-08-04</td>\n",
       "      <td>0.032787</td>\n",
       "      <td>0.030315</td>\n",
       "    </tr>\n",
       "    <tr>\n",
       "      <th>4</th>\n",
       "      <td>2019-08-05</td>\n",
       "      <td>0.032851</td>\n",
       "      <td>0.030793</td>\n",
       "    </tr>\n",
       "  </tbody>\n",
       "</table>\n",
       "</div>"
      ],
      "text/plain": [
       "        date  conversionA  conversionB\n",
       "0 2019-08-01     0.033380     0.029453\n",
       "1 2019-08-02     0.032885     0.034776\n",
       "2 2019-08-03     0.036856     0.033833\n",
       "3 2019-08-04     0.032787     0.030315\n",
       "4 2019-08-05     0.032851     0.030793"
      ]
     },
     "execution_count": 35,
     "metadata": {},
     "output_type": "execute_result"
    }
   ],
   "source": [
    "# Опять объединим данные по группам, чтобы посмотреть отношение\n",
    "mergedCumulativeConversions = cumulativeDataA[['date','conversion']].merge(cumulativeDataB[['date','conversion']], left_on='date', right_on='date', how='left', suffixes=['A', 'B'])\n",
    "mergedCumulativeConversions.head()"
   ]
  },
  {
   "cell_type": "code",
   "execution_count": 36,
   "id": "10867ce4",
   "metadata": {},
   "outputs": [
    {
     "data": {
      "image/png": "[encoded data removed]",
      "text/plain": [
       "<Figure size 792x432 with 1 Axes>"
      ]
     },
     "metadata": {
      "needs_background": "light"
     },
     "output_type": "display_data"
    }
   ],
   "source": [
    "plt.figure(figsize = (11,6))\n",
    "plt.title('График относительного изменения кумулятивного среднего количества заказов на посетителя группы В к А')\n",
    "plt.plot(mergedCumulativeConversions['date'], mergedCumulativeConversions['conversionB']/mergedCumulativeConversions['conversionA']-1, label=\"Относительный прирост числа заказов группы B относительно группы A\")\n",
    "plt.legend()\n",
    "plt.xlabel('Даты')\n",
    "plt.ylabel('Отношение B к А')\n",
    "plt.axhline(y=0, color='black', linestyle='--')\n",
    "plt.axhline(y=0.15, color='grey', linestyle='--')\n",
    "plt.axis([\"2019-08-01\", '2019-08-31', -0.5, 0.5])\n",
    "plt.show()"
   ]
  },
  {
   "cell_type": "markdown",
   "id": "d2f86b6b",
   "metadata": {},
   "source": [
    "Прирост относительно контрольной группы есть, но он не очень стабильный - сначала поднимается до отметки в 20%, потом снижается на треть, стабилизируясь на уровне около 15 %."
   ]
  },
  {
   "cell_type": "markdown",
   "id": "dd4b9841",
   "metadata": {},
   "source": [
    "### Точечный график количества заказов по пользователям"
   ]
  },
  {
   "cell_type": "markdown",
   "id": "e37a3804",
   "metadata": {},
   "source": [
    "Для начала найдем распределение заказов по юзерам, потом построем график методом scatter."
   ]
  },
  {
   "cell_type": "code",
   "execution_count": 37,
   "id": "1bff8de9",
   "metadata": {},
   "outputs": [
    {
     "name": "stdout",
     "output_type": "stream",
     "text": [
      "          userId  orders\n",
      "1023  4256040402      11\n",
      "591   2458001652      11\n",
      "569   2378935119       9\n",
      "487   2038680547       8\n",
      "44     199603092       5\n",
      "744   3062433592       5\n",
      "55     237748145       5\n",
      "917   3803269165       5\n",
      "299   1230306981       5\n",
      "897   3717692402       5\n"
     ]
    }
   ],
   "source": [
    "ordersByUsers = (\n",
    "    orders.groupby('visitor_id', as_index=False)\n",
    "    .agg({'transaction_id': 'nunique'})\n",
    ")\n",
    "\n",
    "ordersByUsers.columns = ['userId', 'orders']\n",
    "\n",
    "print(ordersByUsers.sort_values(by='orders', ascending=False).head(10))\n"
   ]
  },
  {
   "cell_type": "code",
   "execution_count": 38,
   "id": "d9dfdd15",
   "metadata": {},
   "outputs": [
    {
     "data": {
      "image/png": "[encoded data removed]",
      "text/plain": [
       "<Figure size 792x432 with 1 Axes>"
      ]
     },
     "metadata": {
      "needs_background": "light"
     },
     "output_type": "display_data"
    }
   ],
   "source": [
    "# серия из чисел от 0 до количества наблюдений в ordersByUsers\n",
    "x_values = pd.Series(range(0, len(ordersByUsers)))\n",
    "plt.figure(figsize = (11,6))\n",
    "plt.title('Точечный график количества заказов по пользователям')\n",
    "plt.xlabel('Индекс пользователя')\n",
    "plt.ylabel('Число заказов')\n",
    "plt.scatter(x_values, ordersByUsers['orders'])\n",
    "plt.show()\n"
   ]
  },
  {
   "cell_type": "markdown",
   "id": "74abecd2",
   "metadata": {},
   "source": [
    "У нас есть немного аномальных значений, когда количество заказов за месяц больше обычных 1-2. Сколько их в процентном соотношении? Узнать границу аномалии помогут 95 и 99 перцентили."
   ]
  },
  {
   "cell_type": "markdown",
   "id": "5bc1b064",
   "metadata": {},
   "source": [
    "### 95-й и 99-й перцентили количества заказов на пользователя. Граница аномалии"
   ]
  },
  {
   "cell_type": "code",
   "execution_count": 39,
   "id": "489b5a7e",
   "metadata": {},
   "outputs": [
    {
     "data": {
      "text/plain": [
       "array([2., 4.])"
      ]
     },
     "execution_count": 39,
     "metadata": {},
     "output_type": "execute_result"
    }
   ],
   "source": [
    "count_orders_perc = np.percentile(ordersByUsers['orders'], [95, 99])\n",
    "count_orders_perc"
   ]
  },
  {
   "cell_type": "markdown",
   "id": "95f3179d",
   "metadata": {},
   "source": [
    "95% всех пользователей сделали не более 2х заказов за месяц, и только 1% - больше 4 заказов. Мы можем определить границу аномалии на уровне 95 перцентиля, то есть двух заказов на человека."
   ]
  },
  {
   "cell_type": "markdown",
   "id": "d06fac21",
   "metadata": {},
   "source": [
    "### Точечный график стоимостей заказов"
   ]
  },
  {
   "cell_type": "code",
   "execution_count": 40,
   "id": "bc1add4a",
   "metadata": {},
   "outputs": [
    {
     "data": {
      "image/png": "[encoded data removed]",
      "text/plain": [
       "<Figure size 792x432 with 1 Axes>"
      ]
     },
     "metadata": {
      "needs_background": "light"
     },
     "output_type": "display_data"
    }
   ],
   "source": [
    "x_values = pd.Series(range(0, len(orders['revenue'])))\n",
    "plt.figure(figsize = (11,6))\n",
    "plt.title('Точечный график стоимостей заказов')\n",
    "plt.xlabel('Индекс пользователя')\n",
    "plt.ylabel('Стоимость заказа')\n",
    "plt.scatter(x_values, orders['revenue']) \n",
    "plt.show()\n"
   ]
  },
  {
   "cell_type": "markdown",
   "id": "8d711ad1",
   "metadata": {},
   "source": [
    "Заметны наши два главных выброса - дорогие заказы, которые влияли на скачки графиков. Основная масса заказов - не дороже 50000. Посмотрим по перцентилям, что считать нормальным."
   ]
  },
  {
   "cell_type": "markdown",
   "id": "29f90dc9",
   "metadata": {},
   "source": [
    "### 95-й и 99-й перцентили стоимости заказов. Граница аномалии"
   ]
  },
  {
   "cell_type": "code",
   "execution_count": 41,
   "id": "9457d5e9",
   "metadata": {},
   "outputs": [
    {
     "data": {
      "text/plain": [
       "array([28000. , 58233.2])"
      ]
     },
     "execution_count": 41,
     "metadata": {},
     "output_type": "execute_result"
    }
   ],
   "source": [
    "revenue_perc = np.percentile(orders['revenue'], [95, 99])\n",
    "revenue_perc"
   ]
  },
  {
   "cell_type": "markdown",
   "id": "b7715f07",
   "metadata": {},
   "source": [
    "Вот наш бюджет: 95% пользователей тратят на заказ до 28000, и 99% пользователей - до 58233. Опять же цифра в 28000 для интернет-покупок более номальна, оставим 95 перцентиль в качестве границы аномалии по выручке за заказ."
   ]
  },
  {
   "cell_type": "markdown",
   "id": "09864ca5",
   "metadata": {},
   "source": [
    "### Статистическая значимость различий в среднем количестве заказов между группами по \"сырым\" данным"
   ]
  },
  {
   "cell_type": "markdown",
   "id": "9c36bd9d",
   "metadata": {},
   "source": [
    "\n",
    "Подведем предварительные итоги, не убирая аномальные значения, а потом посмотрим, что изменилось при фильтрации аномалий. \n",
    "\n",
    "Сформулируем гипотезы. \n",
    "    \n",
    "**Нулевая гипотеза** Статистически значимых различий в среднем количестве заказов между группами по \"сырым\" данным нет.\n",
    "\n",
    "**Альтернативная гипотеза** Статистически значимые различия в среднем количестве заказов между группами по \"сырым\" данным есть.\n",
    "Так как мы работаем с данными, которые имеют выбросы, имеет смысл обратиться к критерию Манна-Уитни.\n",
    "Значение alpha для всех тестов возьмем 0.05.\n",
    "   "
   ]
  },
  {
   "cell_type": "code",
   "execution_count": 42,
   "id": "1837f2c0",
   "metadata": {},
   "outputs": [
    {
     "data": {
      "text/html": [
       "<div>\n",
       "<style scoped>\n",
       "    .dataframe tbody tr th:only-of-type {\n",
       "        vertical-align: middle;\n",
       "    }\n",
       "\n",
       "    .dataframe tbody tr th {\n",
       "        vertical-align: top;\n",
       "    }\n",
       "\n",
       "    .dataframe thead th {\n",
       "        text-align: right;\n",
       "    }\n",
       "</style>\n",
       "<table border=\"1\" class=\"dataframe\">\n",
       "  <thead>\n",
       "    <tr style=\"text-align: right;\">\n",
       "      <th></th>\n",
       "      <th>transaction_id</th>\n",
       "      <th>visitor_id</th>\n",
       "      <th>date</th>\n",
       "      <th>revenue</th>\n",
       "      <th>group</th>\n",
       "    </tr>\n",
       "  </thead>\n",
       "  <tbody>\n",
       "    <tr>\n",
       "      <th>0</th>\n",
       "      <td>3667963787</td>\n",
       "      <td>3312258926</td>\n",
       "      <td>2019-08-15</td>\n",
       "      <td>1650</td>\n",
       "      <td>B</td>\n",
       "    </tr>\n",
       "    <tr>\n",
       "      <th>1</th>\n",
       "      <td>2804400009</td>\n",
       "      <td>3642806036</td>\n",
       "      <td>2019-08-15</td>\n",
       "      <td>730</td>\n",
       "      <td>B</td>\n",
       "    </tr>\n",
       "    <tr>\n",
       "      <th>2</th>\n",
       "      <td>2961555356</td>\n",
       "      <td>4069496402</td>\n",
       "      <td>2019-08-15</td>\n",
       "      <td>400</td>\n",
       "      <td>A</td>\n",
       "    </tr>\n",
       "    <tr>\n",
       "      <th>3</th>\n",
       "      <td>3797467345</td>\n",
       "      <td>1196621759</td>\n",
       "      <td>2019-08-15</td>\n",
       "      <td>9759</td>\n",
       "      <td>B</td>\n",
       "    </tr>\n",
       "    <tr>\n",
       "      <th>4</th>\n",
       "      <td>2282983706</td>\n",
       "      <td>2322279887</td>\n",
       "      <td>2019-08-15</td>\n",
       "      <td>2308</td>\n",
       "      <td>B</td>\n",
       "    </tr>\n",
       "  </tbody>\n",
       "</table>\n",
       "</div>"
      ],
      "text/plain": [
       "   transaction_id  visitor_id       date  revenue group\n",
       "0      3667963787  3312258926 2019-08-15     1650     B\n",
       "1      2804400009  3642806036 2019-08-15      730     B\n",
       "2      2961555356  4069496402 2019-08-15      400     A\n",
       "3      3797467345  1196621759 2019-08-15     9759     B\n",
       "4      2282983706  2322279887 2019-08-15     2308     B"
      ]
     },
     "execution_count": 42,
     "metadata": {},
     "output_type": "execute_result"
    }
   ],
   "source": [
    "orders.head()"
   ]
  },
  {
   "cell_type": "code",
   "execution_count": 43,
   "id": "3e3fd4c1",
   "metadata": {},
   "outputs": [],
   "source": [
    "ordersByUsersA = (\n",
    "    orders[orders['group'] == 'A']\n",
    "    .groupby('visitor_id', as_index=False)\n",
    "    .agg({'transaction_id': pd.Series.nunique})\n",
    ")\n",
    "ordersByUsersA.columns = ['userId', 'orders']\n",
    "\n",
    "ordersByUsersB = (\n",
    "    orders[orders['group'] == 'B']\n",
    "    .groupby('visitor_id', as_index=False)\n",
    "    .agg({'transaction_id': pd.Series.nunique})\n",
    ")\n",
    "ordersByUsersB.columns = ['userId', 'orders']"
   ]
  },
  {
   "cell_type": "code",
   "execution_count": 44,
   "id": "b7174526",
   "metadata": {},
   "outputs": [
    {
     "name": "stdout",
     "output_type": "stream",
     "text": [
      "<class 'pandas.core.frame.DataFrame'>\n",
      "Int64Index: 503 entries, 0 to 502\n",
      "Data columns (total 2 columns):\n",
      " #   Column  Non-Null Count  Dtype\n",
      "---  ------  --------------  -----\n",
      " 0   userId  503 non-null    int64\n",
      " 1   orders  503 non-null    int64\n",
      "dtypes: int64(2)\n",
      "memory usage: 11.8 KB\n"
     ]
    },
    {
     "data": {
      "text/plain": [
       "None"
      ]
     },
     "metadata": {},
     "output_type": "display_data"
    },
    {
     "name": "stdout",
     "output_type": "stream",
     "text": [
      "<class 'pandas.core.frame.DataFrame'>\n",
      "Int64Index: 586 entries, 0 to 585\n",
      "Data columns (total 2 columns):\n",
      " #   Column  Non-Null Count  Dtype\n",
      "---  ------  --------------  -----\n",
      " 0   userId  586 non-null    int64\n",
      " 1   orders  586 non-null    int64\n",
      "dtypes: int64(2)\n",
      "memory usage: 13.7 KB\n"
     ]
    }
   ],
   "source": [
    "display(ordersByUsersA.info())\n",
    "ordersByUsersB.info()"
   ]
  },
  {
   "cell_type": "markdown",
   "id": "0c54433b",
   "metadata": {},
   "source": [
    "У нас не совсем равные группы, их стоит изучить внимательнее. Посмотрим, нет ли повторов ID в разных группах"
   ]
  },
  {
   "cell_type": "code",
   "execution_count": 45,
   "id": "40c39b15",
   "metadata": {},
   "outputs": [
    {
     "data": {
      "text/html": [
       "<div>\n",
       "<style scoped>\n",
       "    .dataframe tbody tr th:only-of-type {\n",
       "        vertical-align: middle;\n",
       "    }\n",
       "\n",
       "    .dataframe tbody tr th {\n",
       "        vertical-align: top;\n",
       "    }\n",
       "\n",
       "    .dataframe thead th {\n",
       "        text-align: right;\n",
       "    }\n",
       "</style>\n",
       "<table border=\"1\" class=\"dataframe\">\n",
       "  <thead>\n",
       "    <tr style=\"text-align: right;\">\n",
       "      <th></th>\n",
       "      <th>userId</th>\n",
       "      <th>ordersA</th>\n",
       "      <th>ordersB</th>\n",
       "    </tr>\n",
       "  </thead>\n",
       "  <tbody>\n",
       "    <tr>\n",
       "      <th>0</th>\n",
       "      <td>8300375</td>\n",
       "      <td>1</td>\n",
       "      <td>1.0</td>\n",
       "    </tr>\n",
       "    <tr>\n",
       "      <th>1</th>\n",
       "      <td>11685486</td>\n",
       "      <td>1</td>\n",
       "      <td>NaN</td>\n",
       "    </tr>\n",
       "    <tr>\n",
       "      <th>2</th>\n",
       "      <td>54447517</td>\n",
       "      <td>1</td>\n",
       "      <td>NaN</td>\n",
       "    </tr>\n",
       "    <tr>\n",
       "      <th>3</th>\n",
       "      <td>66685450</td>\n",
       "      <td>1</td>\n",
       "      <td>NaN</td>\n",
       "    </tr>\n",
       "    <tr>\n",
       "      <th>4</th>\n",
       "      <td>78758296</td>\n",
       "      <td>1</td>\n",
       "      <td>NaN</td>\n",
       "    </tr>\n",
       "  </tbody>\n",
       "</table>\n",
       "</div>"
      ],
      "text/plain": [
       "     userId  ordersA  ordersB\n",
       "0   8300375        1      1.0\n",
       "1  11685486        1      NaN\n",
       "2  54447517        1      NaN\n",
       "3  66685450        1      NaN\n",
       "4  78758296        1      NaN"
      ]
     },
     "metadata": {},
     "output_type": "display_data"
    },
    {
     "name": "stdout",
     "output_type": "stream",
     "text": [
      "<class 'pandas.core.frame.DataFrame'>\n",
      "Int64Index: 58 entries, 0 to 501\n",
      "Data columns (total 3 columns):\n",
      " #   Column   Non-Null Count  Dtype  \n",
      "---  ------   --------------  -----  \n",
      " 0   userId   58 non-null     int64  \n",
      " 1   ordersA  58 non-null     int64  \n",
      " 2   ordersB  58 non-null     float64\n",
      "dtypes: float64(1), int64(2)\n",
      "memory usage: 1.8 KB\n"
     ]
    },
    {
     "data": {
      "text/plain": [
       "None"
      ]
     },
     "metadata": {},
     "output_type": "display_data"
    }
   ],
   "source": [
    "mergedOrdersByUsers = ordersByUsersA.merge(ordersByUsersB, left_on='userId', right_on='userId', how='left', suffixes=['A','B'])\n",
    "display(mergedOrdersByUsers.head())\n",
    "A_i_B = mergedOrdersByUsers.query('ordersA >=1 and ordersB >=1')\n",
    "display(A_i_B.info())"
   ]
  },
  {
   "cell_type": "markdown",
   "id": "bb357b34",
   "metadata": {},
   "source": [
    "У нас имеется 58 \"засланных казачков\", они будут слегка искажать данные, так как мы не можем их отчислить из агрегированных данных.\n",
    "\n",
    "Далее возвращаемся к проверке гипотезы на сырых данных. Поделим таблицу с кумулятивными данными по группам"
   ]
  },
  {
   "cell_type": "markdown",
   "id": "0420dd41",
   "metadata": {},
   "source": [
    "\n",
    "    В дополнение собранным данным на дату нам могут понадобиться кумулятивные (накопительные) данные. Начнем с числа посетителей, затем найдем сумму заказов с накоплением. В итоге нам надо объединить эти данные в единую таблицу для дальнейших расчетов.\n"
   ]
  },
  {
   "cell_type": "code",
   "execution_count": 46,
   "id": "7ee4b302",
   "metadata": {},
   "outputs": [],
   "source": [
    "# Собираем кумулятивные данные по числу посетителей по группам\n",
    "visitorsADaily = visitors[visitors['group'] == 'A'][['date', 'visitors']]\n",
    "visitorsADaily.columns = ['date', 'visitorsPerDateA']\n",
    "\n",
    "\n",
    "visitorsBDaily = visitors[visitors['group'] == 'B'][['date', 'visitors']]\n",
    "visitorsBDaily.columns = ['date', 'visitorsPerDateB']\n",
    "\n"
   ]
  },
  {
   "cell_type": "code",
   "execution_count": 47,
   "id": "dd5492b0",
   "metadata": {},
   "outputs": [
    {
     "data": {
      "text/html": [
       "<div>\n",
       "<style scoped>\n",
       "    .dataframe tbody tr th:only-of-type {\n",
       "        vertical-align: middle;\n",
       "    }\n",
       "\n",
       "    .dataframe tbody tr th {\n",
       "        vertical-align: top;\n",
       "    }\n",
       "\n",
       "    .dataframe thead th {\n",
       "        text-align: right;\n",
       "    }\n",
       "</style>\n",
       "<table border=\"1\" class=\"dataframe\">\n",
       "  <thead>\n",
       "    <tr style=\"text-align: right;\">\n",
       "      <th></th>\n",
       "      <th>date</th>\n",
       "      <th>visitorsPerDateA</th>\n",
       "    </tr>\n",
       "  </thead>\n",
       "  <tbody>\n",
       "    <tr>\n",
       "      <th>0</th>\n",
       "      <td>2019-08-01</td>\n",
       "      <td>719</td>\n",
       "    </tr>\n",
       "    <tr>\n",
       "      <th>1</th>\n",
       "      <td>2019-08-02</td>\n",
       "      <td>619</td>\n",
       "    </tr>\n",
       "    <tr>\n",
       "      <th>2</th>\n",
       "      <td>2019-08-03</td>\n",
       "      <td>507</td>\n",
       "    </tr>\n",
       "    <tr>\n",
       "      <th>3</th>\n",
       "      <td>2019-08-04</td>\n",
       "      <td>717</td>\n",
       "    </tr>\n",
       "    <tr>\n",
       "      <th>4</th>\n",
       "      <td>2019-08-05</td>\n",
       "      <td>756</td>\n",
       "    </tr>\n",
       "  </tbody>\n",
       "</table>\n",
       "</div>"
      ],
      "text/plain": [
       "        date  visitorsPerDateA\n",
       "0 2019-08-01               719\n",
       "1 2019-08-02               619\n",
       "2 2019-08-03               507\n",
       "3 2019-08-04               717\n",
       "4 2019-08-05               756"
      ]
     },
     "metadata": {},
     "output_type": "display_data"
    },
    {
     "data": {
      "text/html": [
       "<div>\n",
       "<style scoped>\n",
       "    .dataframe tbody tr th:only-of-type {\n",
       "        vertical-align: middle;\n",
       "    }\n",
       "\n",
       "    .dataframe tbody tr th {\n",
       "        vertical-align: top;\n",
       "    }\n",
       "\n",
       "    .dataframe thead th {\n",
       "        text-align: right;\n",
       "    }\n",
       "</style>\n",
       "<table border=\"1\" class=\"dataframe\">\n",
       "  <thead>\n",
       "    <tr style=\"text-align: right;\">\n",
       "      <th></th>\n",
       "      <th>date</th>\n",
       "      <th>visitorsPerDateB</th>\n",
       "    </tr>\n",
       "  </thead>\n",
       "  <tbody>\n",
       "    <tr>\n",
       "      <th>31</th>\n",
       "      <td>2019-08-01</td>\n",
       "      <td>713</td>\n",
       "    </tr>\n",
       "    <tr>\n",
       "      <th>32</th>\n",
       "      <td>2019-08-02</td>\n",
       "      <td>581</td>\n",
       "    </tr>\n",
       "    <tr>\n",
       "      <th>33</th>\n",
       "      <td>2019-08-03</td>\n",
       "      <td>509</td>\n",
       "    </tr>\n",
       "    <tr>\n",
       "      <th>34</th>\n",
       "      <td>2019-08-04</td>\n",
       "      <td>770</td>\n",
       "    </tr>\n",
       "    <tr>\n",
       "      <th>35</th>\n",
       "      <td>2019-08-05</td>\n",
       "      <td>707</td>\n",
       "    </tr>\n",
       "  </tbody>\n",
       "</table>\n",
       "</div>"
      ],
      "text/plain": [
       "         date  visitorsPerDateB\n",
       "31 2019-08-01               713\n",
       "32 2019-08-02               581\n",
       "33 2019-08-03               509\n",
       "34 2019-08-04               770\n",
       "35 2019-08-05               707"
      ]
     },
     "metadata": {},
     "output_type": "display_data"
    }
   ],
   "source": [
    "# Проверяем получившиеся таблицы\n",
    "display(visitorsADaily.head(5))\n",
    "display(visitorsBDaily.head(5))\n"
   ]
  },
  {
   "cell_type": "code",
   "execution_count": 48,
   "id": "8e5f86f9",
   "metadata": {},
   "outputs": [],
   "source": [
    "# Собираем кумулятивные данные по числу заказов по группам\n",
    "ordersADaily = (\n",
    "    orders[orders['group'] == 'A'][['date', 'transaction_id', 'visitor_id', 'revenue']]\n",
    "    .groupby('date', as_index=False)\n",
    "    .agg({'transaction_id': pd.Series.nunique, 'revenue': 'sum'})\n",
    ")\n",
    "ordersADaily.columns = ['date', 'ordersPerDateA', 'revenuePerDateA']\n",
    "\n",
    "\n",
    "ordersBDaily = (\n",
    "    orders[orders['group'] == 'B'][['date', 'transaction_id', 'visitor_id', 'revenue']]\n",
    "    .groupby('date', as_index=False)\n",
    "    .agg({'transaction_id': pd.Series.nunique, 'revenue': 'sum'})\n",
    ")\n",
    "ordersBDaily.columns = ['date', 'ordersPerDateB', 'revenuePerDateB']\n",
    "\n"
   ]
  },
  {
   "cell_type": "code",
   "execution_count": 49,
   "id": "3d90e474",
   "metadata": {},
   "outputs": [
    {
     "data": {
      "text/html": [
       "<div>\n",
       "<style scoped>\n",
       "    .dataframe tbody tr th:only-of-type {\n",
       "        vertical-align: middle;\n",
       "    }\n",
       "\n",
       "    .dataframe tbody tr th {\n",
       "        vertical-align: top;\n",
       "    }\n",
       "\n",
       "    .dataframe thead th {\n",
       "        text-align: right;\n",
       "    }\n",
       "</style>\n",
       "<table border=\"1\" class=\"dataframe\">\n",
       "  <thead>\n",
       "    <tr style=\"text-align: right;\">\n",
       "      <th></th>\n",
       "      <th>date</th>\n",
       "      <th>ordersPerDateA</th>\n",
       "      <th>revenuePerDateA</th>\n",
       "    </tr>\n",
       "  </thead>\n",
       "  <tbody>\n",
       "    <tr>\n",
       "      <th>0</th>\n",
       "      <td>2019-08-01</td>\n",
       "      <td>24</td>\n",
       "      <td>148579</td>\n",
       "    </tr>\n",
       "    <tr>\n",
       "      <th>1</th>\n",
       "      <td>2019-08-02</td>\n",
       "      <td>20</td>\n",
       "      <td>93822</td>\n",
       "    </tr>\n",
       "    <tr>\n",
       "      <th>2</th>\n",
       "      <td>2019-08-03</td>\n",
       "      <td>24</td>\n",
       "      <td>112473</td>\n",
       "    </tr>\n",
       "    <tr>\n",
       "      <th>3</th>\n",
       "      <td>2019-08-04</td>\n",
       "      <td>16</td>\n",
       "      <td>70825</td>\n",
       "    </tr>\n",
       "    <tr>\n",
       "      <th>4</th>\n",
       "      <td>2019-08-05</td>\n",
       "      <td>25</td>\n",
       "      <td>124218</td>\n",
       "    </tr>\n",
       "  </tbody>\n",
       "</table>\n",
       "</div>"
      ],
      "text/plain": [
       "        date  ordersPerDateA  revenuePerDateA\n",
       "0 2019-08-01              24           148579\n",
       "1 2019-08-02              20            93822\n",
       "2 2019-08-03              24           112473\n",
       "3 2019-08-04              16            70825\n",
       "4 2019-08-05              25           124218"
      ]
     },
     "metadata": {},
     "output_type": "display_data"
    },
    {
     "data": {
      "text/html": [
       "<div>\n",
       "<style scoped>\n",
       "    .dataframe tbody tr th:only-of-type {\n",
       "        vertical-align: middle;\n",
       "    }\n",
       "\n",
       "    .dataframe tbody tr th {\n",
       "        vertical-align: top;\n",
       "    }\n",
       "\n",
       "    .dataframe thead th {\n",
       "        text-align: right;\n",
       "    }\n",
       "</style>\n",
       "<table border=\"1\" class=\"dataframe\">\n",
       "  <thead>\n",
       "    <tr style=\"text-align: right;\">\n",
       "      <th></th>\n",
       "      <th>date</th>\n",
       "      <th>ordersPerDateB</th>\n",
       "      <th>revenuePerDateB</th>\n",
       "    </tr>\n",
       "  </thead>\n",
       "  <tbody>\n",
       "    <tr>\n",
       "      <th>0</th>\n",
       "      <td>2019-08-01</td>\n",
       "      <td>21</td>\n",
       "      <td>101217</td>\n",
       "    </tr>\n",
       "    <tr>\n",
       "      <th>1</th>\n",
       "      <td>2019-08-02</td>\n",
       "      <td>24</td>\n",
       "      <td>165531</td>\n",
       "    </tr>\n",
       "    <tr>\n",
       "      <th>2</th>\n",
       "      <td>2019-08-03</td>\n",
       "      <td>16</td>\n",
       "      <td>114248</td>\n",
       "    </tr>\n",
       "    <tr>\n",
       "      <th>3</th>\n",
       "      <td>2019-08-04</td>\n",
       "      <td>17</td>\n",
       "      <td>108571</td>\n",
       "    </tr>\n",
       "    <tr>\n",
       "      <th>4</th>\n",
       "      <td>2019-08-05</td>\n",
       "      <td>23</td>\n",
       "      <td>92428</td>\n",
       "    </tr>\n",
       "  </tbody>\n",
       "</table>\n",
       "</div>"
      ],
      "text/plain": [
       "        date  ordersPerDateB  revenuePerDateB\n",
       "0 2019-08-01              21           101217\n",
       "1 2019-08-02              24           165531\n",
       "2 2019-08-03              16           114248\n",
       "3 2019-08-04              17           108571\n",
       "4 2019-08-05              23            92428"
      ]
     },
     "metadata": {},
     "output_type": "display_data"
    }
   ],
   "source": [
    "# Проверяем получившиеся таблицы\n",
    "display(ordersADaily.head(5))\n",
    "display(ordersBDaily.head(5))\n"
   ]
  },
  {
   "cell_type": "code",
   "execution_count": 50,
   "id": "751075cf",
   "metadata": {},
   "outputs": [
    {
     "name": "stdout",
     "output_type": "stream",
     "text": [
      "        date  ordersPerDateA  revenuePerDateA  ordersPerDateB  \\\n",
      "0 2019-08-01              24           148579              21   \n",
      "1 2019-08-02              20            93822              24   \n",
      "2 2019-08-03              24           112473              16   \n",
      "3 2019-08-04              16            70825              17   \n",
      "4 2019-08-05              25           124218              23   \n",
      "\n",
      "   revenuePerDateB  visitorsPerDateA  visitorsPerDateB  \n",
      "0           101217               719               713  \n",
      "1           165531               619               581  \n",
      "2           114248               507               509  \n",
      "3           108571               717               770  \n",
      "4            92428               756               707  \n"
     ]
    }
   ],
   "source": [
    "# Собираем воедино франкинштейна из этих таблиц:\n",
    "data = (\n",
    "    ordersADaily.merge(\n",
    "        ordersBDaily, left_on='date', right_on='date', how='left')\n",
    "    .merge(visitorsADaily, left_on='date', right_on='date', how='left')\n",
    "    .merge(visitorsBDaily, left_on='date', right_on='date', how='left')\n",
    ")\n",
    "\n",
    "print(data.head(5)) "
   ]
  },
  {
   "cell_type": "markdown",
   "id": "4ba2fbbe",
   "metadata": {},
   "source": [
    "Названия столбцов данных:\n",
    "\n",
    "- `date` — дата;\n",
    "- `ordersPerDateA` — количество заказов в выбранную дату в группе A;\n",
    "- `revenuePerDateA` — суммарная выручка в выбранную дату в группе A;\n",
    "- `ordersPerDateB` — количество заказов в выбранную дату в группе B;\n",
    "- `revenuePerDateB` — суммарная выручка в выбранную дату в группе B;\n",
    "- `visitorsPerDateA` — количество пользователей в выбранную дату в группе A;\n",
    "- `visitorsPerDateB` — количество пользователей в выбранную дату в группе B.\n",
    "    \n",
    " Осталось проверить гипотезу   \n",
    "   "
   ]
  },
  {
   "cell_type": "code",
   "execution_count": 51,
   "id": "a79d980e",
   "metadata": {},
   "outputs": [
    {
     "name": "stdout",
     "output_type": "stream",
     "text": [
      "Значение p-value: 0.017\n",
      "Относительный прирост среднего числа заказов группы В к А: 0.138\n"
     ]
    }
   ],
   "source": [
    "# Объявим переменные sampleA и sampleB, в которых пользователям из разных групп будет соответствовать количество заказов. \n",
    "# Тем, кто ничего не заказал, будут соответствовать нули. \n",
    "\n",
    "sampleA = pd.concat(\n",
    "    [\n",
    "        ordersByUsersA['orders'],\n",
    "        pd.Series(\n",
    "            0,\n",
    "            index=np.arange(\n",
    "                data['visitorsPerDateA'].sum() - len(ordersByUsersA['orders'])\n",
    "            ),\n",
    "            name='orders',\n",
    "        ),\n",
    "    ],\n",
    "    axis=0,\n",
    ")\n",
    "\n",
    "sampleB = pd.concat(\n",
    "    [\n",
    "        ordersByUsersB['orders'],\n",
    "        pd.Series(\n",
    "            0,\n",
    "            index=np.arange(\n",
    "                data['visitorsPerDateB'].sum() - len(ordersByUsersB['orders'])\n",
    "            ),\n",
    "            name='orders',\n",
    "        ),\n",
    "    ],\n",
    "    axis=0,\n",
    ")\n",
    "\n",
    "# Применим критерий Манна-Уитни и отформатируем p-value, округлив его до трёх знаков после запятой.\n",
    "print('Значение p-value:',\"{0:.3f}\".format(stats.mannwhitneyu(sampleA, sampleB)[1]))\n",
    "\n",
    "print('Относительный прирост среднего числа заказов группы В к А:',\"{0:.3f}\".format(sampleB.mean() / sampleA.mean() - 1))\n"
   ]
  },
  {
   "cell_type": "markdown",
   "id": "e78e5daa",
   "metadata": {},
   "source": [
    "Если использовать alpha = 0.05, то мы видим, что первое число, которое и есть значение критерия Манна-Уитни для среднего количества заказов в группе, меньше этого значения. Это значит, что мы можем отвергнуть нулевую гипотезу об отсутствии различий между группами. \n",
    "\n",
    "Второе число  - это относительный прирост среднего числа заказов группы B: среднее число заказов группы B / среднее число заказов группы A - 1. Прирост числа заказов во 2 группе в среднем составляет 14 процентов."
   ]
  },
  {
   "cell_type": "markdown",
   "id": "6b2d4716",
   "metadata": {},
   "source": [
    "### Статистическая значимость различий в среднем чеке заказа между группами по \"сырым\" данным"
   ]
  },
  {
   "cell_type": "markdown",
   "id": "65a02453",
   "metadata": {},
   "source": [
    "Теперь проверим статистическую значимость различий в среднем чеке между сегментами. \n",
    "\n",
    "Нулевая гипотеза: различий в среднем чеке между группами нет. Альтернативная гипотеза: различия в среднем чеке между группами есть. \n",
    "\n",
    "Чтобы рассчитать статистическую значимость различий в среднем чеке, передадим критерию mannwhitneyu() данные о выручке с заказов. "
   ]
  },
  {
   "cell_type": "code",
   "execution_count": 52,
   "id": "820b8d55",
   "metadata": {},
   "outputs": [
    {
     "name": "stdout",
     "output_type": "stream",
     "text": [
      "Значение p-value: 0.729\n",
      "Относительный прирост среднего чека заказа группы В к А: 0.259\n"
     ]
    }
   ],
   "source": [
    "print('Значение p-value:','{0:.3f}'.format(stats.mannwhitneyu(orders[orders['group']=='A']['revenue'], orders[orders['group']=='B']['revenue'])[1]))\n",
    "print('Относительный прирост среднего чека заказа группы В к А:','{0:.3f}'.format(orders[orders['group']=='B']['revenue'].mean()/orders[orders['group']=='A']['revenue'].mean()-1))\n"
   ]
  },
  {
   "cell_type": "markdown",
   "id": "169725f0",
   "metadata": {},
   "source": [
    "Первое значение значительно больше alpha - это значит, что статистически значимых различий между группами здесь нет. Мы не можем отвергнуть нулевую гипотезу. Второе число говорит, однако о том, что чеки второй группы на 25% больше чеков 1 группы. Нужно очистить данные, чтобы разрешить это противоречие."
   ]
  },
  {
   "cell_type": "markdown",
   "id": "ca892edb",
   "metadata": {},
   "source": [
    "### Статистическая значимость различий в среднем количестве заказов на посетителя между А и В по \"очищенным\" данным"
   ]
  },
  {
   "cell_type": "markdown",
   "id": "db29f585",
   "metadata": {},
   "source": [
    "Прежде всего нам надо \"очистить\" данные от аномалий, которые мы определили ранее (по 95 перцентилю). "
   ]
  },
  {
   "cell_type": "code",
   "execution_count": 53,
   "id": "270ae8b2",
   "metadata": {},
   "outputs": [
    {
     "name": "stdout",
     "output_type": "stream",
     "text": [
      "1099     148427295\n",
      "18       199603092\n",
      "928      204675465\n",
      "23       237748145\n",
      "37       249864742\n",
      "           ...    \n",
      "723     4009017467\n",
      "627     4120364173\n",
      "743     4133034833\n",
      "499     4256040402\n",
      "662     4266935830\n",
      "Length: 74, dtype: int64\n"
     ]
    }
   ],
   "source": [
    "usersWithManyOrders = pd.concat(\n",
    "    [\n",
    "        ordersByUsersA[ordersByUsersA['orders'] > count_orders_perc[0]]['userId'],\n",
    "        ordersByUsersB[ordersByUsersB['orders'] > count_orders_perc[0]]['userId'],\n",
    "    ],\n",
    "    axis=0,\n",
    ")\n",
    "usersWithExpensiveOrders = orders[orders['revenue'] > revenue_perc[0]]['visitor_id']\n",
    "abnormalUsers = (\n",
    "    pd.concat([usersWithManyOrders, usersWithExpensiveOrders], axis=0)\n",
    "    .drop_duplicates()\n",
    "    .sort_values()\n",
    ")\n",
    "print(abnormalUsers)\n"
   ]
  },
  {
   "cell_type": "markdown",
   "id": "326f845a",
   "metadata": {},
   "source": [
    "Вот они, 74 аномальных юзера. Осталось их удалить из sample 1 и 2 и заново посчитать критерий Манна-Уитни."
   ]
  },
  {
   "cell_type": "markdown",
   "id": "1e11e700",
   "metadata": {},
   "source": [
    "\n",
    "    \n",
    "Напомним гипотезы:\n",
    "    \n",
    "**Нулевая гипотеза** Статистически значимых различий в среднем количестве заказов между группами по обработанным данным нет.\n",
    "\n",
    "**Альтернативная гипотеза** Статистически значимые различия в среднем количестве заказов между группами по обработанным данным есть.\n",
    "\n",
    "Значение alpha возьмем 0.05. Метод проверки - критерий Манна-Уитни.\n"
   ]
  },
  {
   "cell_type": "code",
   "execution_count": 54,
   "id": "2b19af45",
   "metadata": {},
   "outputs": [
    {
     "name": "stdout",
     "output_type": "stream",
     "text": [
      "Значение p-value: 0.013\n",
      "Относительный прирост среднего числа заказов группы В к А: 0.173\n"
     ]
    }
   ],
   "source": [
    "sampleAFiltered = pd.concat(\n",
    "    [\n",
    "        ordersByUsersA[\n",
    "            np.logical_not(ordersByUsersA['userId'].isin(abnormalUsers))\n",
    "        ]['orders'],\n",
    "        pd.Series(\n",
    "            0,\n",
    "            index=np.arange(\n",
    "                data['visitorsPerDateA'].sum() - len(ordersByUsersA['orders'])\n",
    "            ),\n",
    "            name='orders',\n",
    "        ),\n",
    "    ],\n",
    "    axis=0,\n",
    ")\n",
    "\n",
    "sampleBFiltered = pd.concat(\n",
    "    [\n",
    "        ordersByUsersB[\n",
    "            np.logical_not(ordersByUsersB['userId'].isin(abnormalUsers))\n",
    "        ]['orders'],\n",
    "        pd.Series(\n",
    "            0,\n",
    "            index=np.arange(\n",
    "                data['visitorsPerDateB'].sum() - len(ordersByUsersB['orders'])\n",
    "            ),\n",
    "            name='orders',\n",
    "        ),\n",
    "    ],\n",
    "    axis=0,\n",
    ")\n",
    "print('Значение p-value: ''{0:.3f}'.format(stats.mannwhitneyu(sampleAFiltered, sampleBFiltered)[1]))\n",
    "print('Относительный прирост среднего числа заказов группы В к А: ''{0:.3f}'.format(sampleBFiltered.mean()/sampleAFiltered.mean()-1))\n"
   ]
  },
  {
   "cell_type": "markdown",
   "id": "f9e2e0d0",
   "metadata": {},
   "source": [
    "Значение p-value меньше критического 0.05 позволяет нам говорить о статистически значимых различиях между группами А и В. Таким образом, мы отвергаем нулевую гипотезу о равенстве групп.\n",
    "\n",
    "Второе число позволяет нам отпределить, насколько в среднем больше число заказов у посетителей группы В по сравнению с группой А - на 17,8%. "
   ]
  },
  {
   "cell_type": "markdown",
   "id": "ce1156bd",
   "metadata": {},
   "source": [
    "### Статистическая значимость различий в среднем чеке заказа между группами по \"очищенным\" данным"
   ]
  },
  {
   "cell_type": "markdown",
   "id": "e7e42421",
   "metadata": {},
   "source": [
    "\n",
    "\n",
    "Осталось выяснить, насколько значимы различия между группами в среднем чеке. Нулевая гипотеза: различий в среднем чеке между группами нет. Альтернативная гипотеза: различия в среднем чеке между группами есть. \n",
    "\n",
    "Чтобы рассчитать статистическую значимость различий в среднем чеке, передадим критерию mannwhitneyu() данные о выручке с заказов. "
   ]
  },
  {
   "cell_type": "code",
   "execution_count": 55,
   "id": "2487bcfd",
   "metadata": {},
   "outputs": [
    {
     "name": "stdout",
     "output_type": "stream",
     "text": [
      "Значение p-value: 0.738\n",
      "Относительный прирост среднего чека заказа группы В к А: -0.020\n"
     ]
    }
   ],
   "source": [
    "print(\n",
    "    'Значение p-value:','{0:.3f}'.format(\n",
    "        stats.mannwhitneyu(\n",
    "            orders[\n",
    "                np.logical_and(\n",
    "                    orders['group'] == 'A',\n",
    "                    np.logical_not(orders['visitor_id'].isin(abnormalUsers)),\n",
    "                )\n",
    "            ]['revenue'],\n",
    "            orders[\n",
    "                np.logical_and(\n",
    "                    orders['group'] == 'B',\n",
    "                    np.logical_not(orders['visitor_id'].isin(abnormalUsers)),\n",
    "                )\n",
    "            ]['revenue'],\n",
    "        )[1]\n",
    "    )\n",
    ")\n",
    "\n",
    "print('Относительный прирост среднего чека заказа группы В к А:',\n",
    "    \"{0:.3f}\".format(\n",
    "        orders[\n",
    "            np.logical_and(\n",
    "                orders['group'] == 'B',\n",
    "                np.logical_not(orders['visitor_id'].isin(abnormalUsers)),\n",
    "            )\n",
    "        ]['revenue'].mean()\n",
    "        / orders[\n",
    "            np.logical_and(\n",
    "                orders['group'] == 'A',\n",
    "                np.logical_not(orders['visitor_id'].isin(abnormalUsers)),\n",
    "            )\n",
    "        ]['revenue'].mean()\n",
    "        - 1\n",
    "    )\n",
    ")"
   ]
  },
  {
   "cell_type": "markdown",
   "id": "cebfac70",
   "metadata": {},
   "source": [
    "Здесь результат не такой гладкий: мы не можем отвергнуть нулевую гипотезу, так как для статистических различий нам нужно было значения ниже уровня значимости 0.05. У нас намного больше результат теста. Второе число показывает, что результаты группы В по среднему чеку на 2% уступают результатам группы А.\n"
   ]
  },
  {
   "cell_type": "markdown",
   "id": "078536be",
   "metadata": {},
   "source": [
    "### Решение по результатам A/B теста"
   ]
  },
  {
   "cell_type": "markdown",
   "id": "306446db",
   "metadata": {},
   "source": [
    "Результат исследования амбивалентен: \n",
    "1) один показатель в результате изменения улучшился - среднее количество заказов на пользователя. Другой слегка ухудшился - средний чек заказа;\n",
    "\n",
    "2) по среднему количеству заказов группы имеют статистически значимые различия, по среднему чеку - не имеют (мы не отвергли нулевую гипотезу);\n",
    "\n",
    "3) график относительного изменения количества заказов на человека (пункт 3.5 исследования) показывают неплохую динамику, хотя и не сногсшибательную;\n",
    "\n",
    "4) график относительного изменения среднего чека (пункт 3.3) показывает в целом положительную динамику, хотя и с резкими скачками туда-сюда."
   ]
  },
  {
   "cell_type": "markdown",
   "id": "6d61ef1e",
   "metadata": {},
   "source": [
    "## Выводы и рекомендации"
   ]
  },
  {
   "cell_type": "markdown",
   "id": "3a704d21",
   "metadata": {},
   "source": [
    "- Мы провели исследование, которое включало в себя приоритизацию гипотез методами ICE и RICE, а также анализ проведенного А/В теста для проверки одной из них. Контекст - требуется увеличить выручку крупного интернет-магазина. Также мы проверили данные на дубликаты и пропуски, сделали предобработку. \n",
    "\n",
    "\n",
    "- В ходе работы выяснилось, что у нас в обеих группах есть пересекающиеся пользователи, которых убрать довольно затруднительно, поскольку даны сразу агрегированные данные по дням. Также у нас были аномально крупные заказы и аномально большое число заказов в 74 случаях, если срезать аномалии по 95 перцентилю. Они влияли на результат, поэтому пришлось чистить данные от них, чтобы тесты были точнее.\n",
    "\n",
    "\n",
    "- Тест на среднее число заказов по пользователям по \"сырым\" данным показал, что отличия между группами есть, и в пользу группы В. Данные теста по очищенным данным это подтвердили и показали еще более крепкие показатели роста среднего числа заказов на пользователя - почти 18 %. \n",
    "\n",
    "\n",
    "- Тест по \"сырым\" данным на определение, есть ли различия между группами по показателю среднего чека не позволил нам отвергнуть нулевую гипотезу о равенстве групп. Однако показал прирост чека в группе В на 25%, что не очень похоже на равенство групп. Тест по очищенным данным показал снижение показателей группы В на 2 % относительно группы А и подтвердил отсутствие статистически значимых отличий между группами. \n",
    "\n",
    "\n",
    "- Таким образом, мы видим, что положительная динамика проявилась скорее не в выручке, а в росте числа заказов на пользователя. Это не решает главной поставленной задачи - увеличить выручку магазина, хотя в перспективе может увеличить ее, если добавить что-то еще, что заставит покупателей  тратить больше. \n",
    "\n",
    "-  Вывод: тест показал, что один из параметров улучшился, и, хотя второй не улучшился, это позволяет нам остановить тест и зафиксировать победу группы В.\n"
   ]
  },
  {
   "cell_type": "markdown",
   "id": "ca31cd83",
   "metadata": {
    "toc": true
   },
   "source": [
    "<h1>Table of Contents<span class=\"tocSkip\"></span></h1>\n",
    "<div class=\"toc\"><ul class=\"toc-item\"><li><span><a href=\"#Часть.-Приоритизация-гипотез\" data-toc-modified-id=\"Часть.-Приоритизация-гипотез-1\"><span class=\"toc-item-num\">1&nbsp;&nbsp;</span>Часть. Приоритизация гипотез</a></span></li><li><span><a href=\"#Часть.\" data-toc-modified-id=\"Часть.-2\"><span class=\"toc-item-num\">2&nbsp;&nbsp;</span>Часть.</a></span><ul class=\"toc-item\"><li><span><a href=\"#Предобработка-данных\" data-toc-modified-id=\"Предобработка-данных-2.1\"><span class=\"toc-item-num\">2.1&nbsp;&nbsp;</span>Предобработка данных</a></span></li></ul></li><li><span><a href=\"#Анализ-А/B-теста\" data-toc-modified-id=\"Анализ-А/B-теста-3\"><span class=\"toc-item-num\">3&nbsp;&nbsp;</span>Анализ А/B теста</a></span><ul class=\"toc-item\"><li><span><a href=\"#График-кумулятивной-выручки-по-группам\" data-toc-modified-id=\"График-кумулятивной-выручки-по-группам-3.1\"><span class=\"toc-item-num\">3.1&nbsp;&nbsp;</span>График кумулятивной выручки по группам</a></span></li><li><span><a href=\"#График-кумулятивного-среднего-чека-по-группам\" data-toc-modified-id=\"График-кумулятивного-среднего-чека-по-группам-3.2\"><span class=\"toc-item-num\">3.2&nbsp;&nbsp;</span>График кумулятивного среднего чека по группам</a></span></li><li><span><a href=\"#График-относительного-изменения-кумулятивного-среднего-чека-группы-В-к-А\" data-toc-modified-id=\"График-относительного-изменения-кумулятивного-среднего-чека-группы-В-к-А-3.3\"><span class=\"toc-item-num\">3.3&nbsp;&nbsp;</span>График относительного изменения кумулятивного среднего чека группы В к А</a></span></li><li><span><a href=\"#График-кумулятивного-среднего-количества-заказов-на-посетителя-по-группам\" data-toc-modified-id=\"График-кумулятивного-среднего-количества-заказов-на-посетителя-по-группам-3.4\"><span class=\"toc-item-num\">3.4&nbsp;&nbsp;</span>График кумулятивного среднего количества заказов на посетителя по группам</a></span></li><li><span><a href=\"#График-относительного-изменения-кумулятивного-среднего-количества-заказов-на-посетителя-группы-В-к-А\" data-toc-modified-id=\"График-относительного-изменения-кумулятивного-среднего-количества-заказов-на-посетителя-группы-В-к-А-3.5\"><span class=\"toc-item-num\">3.5&nbsp;&nbsp;</span>График относительного изменения кумулятивного среднего количества заказов на посетителя группы В к А</a></span></li><li><span><a href=\"#Точечный-график-количества-заказов-по-пользователям\" data-toc-modified-id=\"Точечный-график-количества-заказов-по-пользователям-3.6\"><span class=\"toc-item-num\">3.6&nbsp;&nbsp;</span>Точечный график количества заказов по пользователям</a></span></li><li><span><a href=\"#95-й-и-99-й-перцентили-количества-заказов-на-пользователя.-Граница-аномалии\" data-toc-modified-id=\"95-й-и-99-й-перцентили-количества-заказов-на-пользователя.-Граница-аномалии-3.7\"><span class=\"toc-item-num\">3.7&nbsp;&nbsp;</span>95-й и 99-й перцентили количества заказов на пользователя. Граница аномалии</a></span></li><li><span><a href=\"#Точечный-график-стоимостей-заказов\" data-toc-modified-id=\"Точечный-график-стоимостей-заказов-3.8\"><span class=\"toc-item-num\">3.8&nbsp;&nbsp;</span>Точечный график стоимостей заказов</a></span></li><li><span><a href=\"#95-й-и-99-й-перцентили-стоимости-заказов.-Граница-аномалии\" data-toc-modified-id=\"95-й-и-99-й-перцентили-стоимости-заказов.-Граница-аномалии-3.9\"><span class=\"toc-item-num\">3.9&nbsp;&nbsp;</span>95-й и 99-й перцентили стоимости заказов. Граница аномалии</a></span></li><li><span><a href=\"#Статистическая-значимость-различий-в-среднем-количестве-заказов-между-группами-по-&quot;сырым&quot;-данным\" data-toc-modified-id=\"Статистическая-значимость-различий-в-среднем-количестве-заказов-между-группами-по-&quot;сырым&quot;-данным-3.10\"><span class=\"toc-item-num\">3.10&nbsp;&nbsp;</span>Статистическая значимость различий в среднем количестве заказов между группами по \"сырым\" данным</a></span></li><li><span><a href=\"#Статистическая-значимость-различий-в-среднем-чеке-заказа-между-группами-по-&quot;сырым&quot;-данным\" data-toc-modified-id=\"Статистическая-значимость-различий-в-среднем-чеке-заказа-между-группами-по-&quot;сырым&quot;-данным-3.11\"><span class=\"toc-item-num\">3.11&nbsp;&nbsp;</span>Статистическая значимость различий в среднем чеке заказа между группами по \"сырым\" данным</a></span></li><li><span><a href=\"#Статистическая-значимость-различий-в-среднем-количестве-заказов-на-посетителя-между-А-и-В-по-&quot;очищенным&quot;-данным\" data-toc-modified-id=\"Статистическая-значимость-различий-в-среднем-количестве-заказов-на-посетителя-между-А-и-В-по-&quot;очищенным&quot;-данным-3.12\"><span class=\"toc-item-num\">3.12&nbsp;&nbsp;</span>Статистическая значимость различий в среднем количестве заказов на посетителя между А и В по \"очищенным\" данным</a></span></li><li><span><a href=\"#Статистическая-значимость-различий-в-среднем-чеке-заказа-между-группами-по-&quot;очищенным&quot;-данным\" data-toc-modified-id=\"Статистическая-значимость-различий-в-среднем-чеке-заказа-между-группами-по-&quot;очищенным&quot;-данным-3.13\"><span class=\"toc-item-num\">3.13&nbsp;&nbsp;</span>Статистическая значимость различий в среднем чеке заказа между группами по \"очищенным\" данным</a></span></li><li><span><a href=\"#Решение-по-результатам-A/B-теста\" data-toc-modified-id=\"Решение-по-результатам-A/B-теста-3.14\"><span class=\"toc-item-num\">3.14&nbsp;&nbsp;</span>Решение по результатам A/B теста</a></span></li></ul></li><li><span><a href=\"#Выводы-и-рекомендации\" data-toc-modified-id=\"Выводы-и-рекомендации-4\"><span class=\"toc-item-num\">4&nbsp;&nbsp;</span>Выводы и рекомендации</a></span></li></ul></div>"
   ]
  },
  {
   "cell_type": "markdown",
   "id": "28850a9d",
   "metadata": {
    "toc": true
   },
   "source": [
    "<h1>Table of Contents<span class=\"tocSkip\"></span></h1>\n",
    "<div class=\"toc\"><ul class=\"toc-item\"><li><span><a href=\"#Часть.-Приоритизация-гипотез\" data-toc-modified-id=\"Часть.-Приоритизация-гипотез-1\"><span class=\"toc-item-num\">1&nbsp;&nbsp;</span>Часть. Приоритизация гипотез</a></span></li><li><span><a href=\"#Часть.\" data-toc-modified-id=\"Часть.-2\"><span class=\"toc-item-num\">2&nbsp;&nbsp;</span>Часть.</a></span><ul class=\"toc-item\"><li><span><a href=\"#Предобработка-данных\" data-toc-modified-id=\"Предобработка-данных-2.1\"><span class=\"toc-item-num\">2.1&nbsp;&nbsp;</span>Предобработка данных</a></span></li></ul></li><li><span><a href=\"#Анализ-А/B-теста\" data-toc-modified-id=\"Анализ-А/B-теста-3\"><span class=\"toc-item-num\">3&nbsp;&nbsp;</span>Анализ А/B теста</a></span><ul class=\"toc-item\"><li><span><a href=\"#График-кумулятивной-выручки-по-группам\" data-toc-modified-id=\"График-кумулятивной-выручки-по-группам-3.1\"><span class=\"toc-item-num\">3.1&nbsp;&nbsp;</span>График кумулятивной выручки по группам</a></span></li><li><span><a href=\"#График-кумулятивного-среднего-чека-по-группам\" data-toc-modified-id=\"График-кумулятивного-среднего-чека-по-группам-3.2\"><span class=\"toc-item-num\">3.2&nbsp;&nbsp;</span>График кумулятивного среднего чека по группам</a></span></li><li><span><a href=\"#График-относительного-изменения-кумулятивного-среднего-чека-группы-В-к-А\" data-toc-modified-id=\"График-относительного-изменения-кумулятивного-среднего-чека-группы-В-к-А-3.3\"><span class=\"toc-item-num\">3.3&nbsp;&nbsp;</span>График относительного изменения кумулятивного среднего чека группы В к А</a></span></li><li><span><a href=\"#График-кумулятивного-среднего-количества-заказов-на-посетителя-по-группам\" data-toc-modified-id=\"График-кумулятивного-среднего-количества-заказов-на-посетителя-по-группам-3.4\"><span class=\"toc-item-num\">3.4&nbsp;&nbsp;</span>График кумулятивного среднего количества заказов на посетителя по группам</a></span></li><li><span><a href=\"#График-относительного-изменения-кумулятивного-среднего-количества-заказов-на-посетителя-группы-В-к-А\" data-toc-modified-id=\"График-относительного-изменения-кумулятивного-среднего-количества-заказов-на-посетителя-группы-В-к-А-3.5\"><span class=\"toc-item-num\">3.5&nbsp;&nbsp;</span>График относительного изменения кумулятивного среднего количества заказов на посетителя группы В к А</a></span></li><li><span><a href=\"#Точечный-график-количества-заказов-по-пользователям\" data-toc-modified-id=\"Точечный-график-количества-заказов-по-пользователям-3.6\"><span class=\"toc-item-num\">3.6&nbsp;&nbsp;</span>Точечный график количества заказов по пользователям</a></span></li><li><span><a href=\"#95-й-и-99-й-перцентили-количества-заказов-на-пользователя.-Граница-аномалии\" data-toc-modified-id=\"95-й-и-99-й-перцентили-количества-заказов-на-пользователя.-Граница-аномалии-3.7\"><span class=\"toc-item-num\">3.7&nbsp;&nbsp;</span>95-й и 99-й перцентили количества заказов на пользователя. Граница аномалии</a></span></li><li><span><a href=\"#Точечный-график-стоимостей-заказов\" data-toc-modified-id=\"Точечный-график-стоимостей-заказов-3.8\"><span class=\"toc-item-num\">3.8&nbsp;&nbsp;</span>Точечный график стоимостей заказов</a></span></li><li><span><a href=\"#95-й-и-99-й-перцентили-стоимости-заказов.-Граница-аномалии\" data-toc-modified-id=\"95-й-и-99-й-перцентили-стоимости-заказов.-Граница-аномалии-3.9\"><span class=\"toc-item-num\">3.9&nbsp;&nbsp;</span>95-й и 99-й перцентили стоимости заказов. Граница аномалии</a></span></li><li><span><a href=\"#Статистическая-значимость-различий-в-среднем-количестве-заказов-между-группами-по-&quot;сырым&quot;-данным\" data-toc-modified-id=\"Статистическая-значимость-различий-в-среднем-количестве-заказов-между-группами-по-&quot;сырым&quot;-данным-3.10\"><span class=\"toc-item-num\">3.10&nbsp;&nbsp;</span>Статистическая значимость различий в среднем количестве заказов между группами по \"сырым\" данным</a></span></li><li><span><a href=\"#Статистическая-значимость-различий-в-среднем-чеке-заказа-между-группами-по-&quot;сырым&quot;-данным\" data-toc-modified-id=\"Статистическая-значимость-различий-в-среднем-чеке-заказа-между-группами-по-&quot;сырым&quot;-данным-3.11\"><span class=\"toc-item-num\">3.11&nbsp;&nbsp;</span>Статистическая значимость различий в среднем чеке заказа между группами по \"сырым\" данным</a></span></li><li><span><a href=\"#Статистическая-значимость-различий-в-среднем-количестве-заказов-на-посетителя-между-А-и-В-по-&quot;очищенным&quot;-данным\" data-toc-modified-id=\"Статистическая-значимость-различий-в-среднем-количестве-заказов-на-посетителя-между-А-и-В-по-&quot;очищенным&quot;-данным-3.12\"><span class=\"toc-item-num\">3.12&nbsp;&nbsp;</span>Статистическая значимость различий в среднем количестве заказов на посетителя между А и В по \"очищенным\" данным</a></span></li><li><span><a href=\"#Статистическая-значимость-различий-в-среднем-чеке-заказа-между-группами-по-&quot;очищенным&quot;-данным\" data-toc-modified-id=\"Статистическая-значимость-различий-в-среднем-чеке-заказа-между-группами-по-&quot;очищенным&quot;-данным-3.13\"><span class=\"toc-item-num\">3.13&nbsp;&nbsp;</span>Статистическая значимость различий в среднем чеке заказа между группами по \"очищенным\" данным</a></span></li><li><span><a href=\"#Решение-по-результатам-A/B-теста\" data-toc-modified-id=\"Решение-по-результатам-A/B-теста-3.14\"><span class=\"toc-item-num\">3.14&nbsp;&nbsp;</span>Решение по результатам A/B теста</a></span></li></ul></li><li><span><a href=\"#Выводы-и-рекомендации\" data-toc-modified-id=\"Выводы-и-рекомендации-4\"><span class=\"toc-item-num\">4&nbsp;&nbsp;</span>Выводы и рекомендации</a></span></li></ul></div>"
   ]
  }
 ],
 "metadata": {
  "ExecuteTimeLog": [
   {
    "duration": 1282,
    "start_time": "2023-03-21T23:49:40.524Z"
   },
   {
    "duration": 107,
    "start_time": "2023-03-21T23:49:41.808Z"
   },
   {
    "duration": 12,
    "start_time": "2023-03-21T23:49:41.917Z"
   },
   {
    "duration": 27,
    "start_time": "2023-03-21T23:49:41.932Z"
   },
   {
    "duration": 34,
    "start_time": "2023-03-21T23:49:41.962Z"
   },
   {
    "duration": 9,
    "start_time": "2023-03-21T23:49:41.997Z"
   },
   {
    "duration": 132,
    "start_time": "2023-03-21T23:49:42.008Z"
   },
   {
    "duration": 77,
    "start_time": "2023-03-21T23:49:42.147Z"
   },
   {
    "duration": 9,
    "start_time": "2023-03-21T23:49:42.226Z"
   },
   {
    "duration": 14,
    "start_time": "2023-03-21T23:49:42.236Z"
   },
   {
    "duration": 47,
    "start_time": "2023-03-21T23:49:42.252Z"
   },
   {
    "duration": 13,
    "start_time": "2023-03-21T23:49:42.301Z"
   },
   {
    "duration": 12,
    "start_time": "2023-03-21T23:49:42.316Z"
   },
   {
    "duration": 17,
    "start_time": "2023-03-21T23:49:42.333Z"
   },
   {
    "duration": 51,
    "start_time": "2023-03-21T23:49:42.352Z"
   },
   {
    "duration": 11,
    "start_time": "2023-03-21T23:49:42.405Z"
   },
   {
    "duration": 6,
    "start_time": "2023-03-21T23:49:42.419Z"
   },
   {
    "duration": 20,
    "start_time": "2023-03-21T23:49:42.427Z"
   },
   {
    "duration": 52,
    "start_time": "2023-03-21T23:49:42.449Z"
   },
   {
    "duration": 8,
    "start_time": "2023-03-21T23:49:42.503Z"
   },
   {
    "duration": 17,
    "start_time": "2023-03-21T23:49:42.513Z"
   },
   {
    "duration": 21,
    "start_time": "2023-03-21T23:49:42.532Z"
   },
   {
    "duration": 227,
    "start_time": "2023-03-21T23:49:42.562Z"
   },
   {
    "duration": 143,
    "start_time": "2023-03-21T23:49:42.792Z"
   },
   {
    "duration": 27,
    "start_time": "2023-03-21T23:49:42.937Z"
   },
   {
    "duration": 45,
    "start_time": "2023-03-21T23:49:42.966Z"
   },
   {
    "duration": 5,
    "start_time": "2023-03-21T23:49:43.013Z"
   },
   {
    "duration": 9,
    "start_time": "2023-03-21T23:49:43.019Z"
   },
   {
    "duration": 476,
    "start_time": "2023-03-21T23:49:43.030Z"
   },
   {
    "duration": 217,
    "start_time": "2023-03-21T23:49:43.508Z"
   },
   {
    "duration": 29,
    "start_time": "2023-03-21T23:49:43.727Z"
   },
   {
    "duration": 337,
    "start_time": "2023-03-21T23:49:43.758Z"
   },
   {
    "duration": 6,
    "start_time": "2023-03-21T23:49:44.097Z"
   },
   {
    "duration": 204,
    "start_time": "2023-03-21T23:49:44.107Z"
   },
   {
    "duration": 15,
    "start_time": "2023-03-21T23:49:44.314Z"
   },
   {
    "duration": 339,
    "start_time": "2023-03-21T23:49:44.342Z"
   },
   {
    "duration": 14,
    "start_time": "2023-03-21T23:49:44.683Z"
   },
   {
    "duration": 131,
    "start_time": "2023-03-21T23:49:44.701Z"
   },
   {
    "duration": 18,
    "start_time": "2023-03-21T23:49:44.833Z"
   },
   {
    "duration": 177,
    "start_time": "2023-03-21T23:49:44.852Z"
   },
   {
    "duration": 29,
    "start_time": "2023-03-21T23:49:45.033Z"
   },
   {
    "duration": 46,
    "start_time": "2023-03-21T23:49:45.070Z"
   },
   {
    "duration": 221,
    "start_time": "2023-03-21T23:49:45.118Z"
   },
   {
    "duration": 27,
    "start_time": "2023-03-21T23:49:45.351Z"
   },
   {
    "duration": 39,
    "start_time": "2023-03-21T23:49:45.380Z"
   },
   {
    "duration": 11,
    "start_time": "2023-03-21T23:49:45.421Z"
   },
   {
    "duration": 54,
    "start_time": "2023-03-21T23:49:45.433Z"
   },
   {
    "duration": 475,
    "start_time": "2023-03-21T23:49:45.491Z"
   },
   {
    "duration": 20,
    "start_time": "2023-03-21T23:49:45.972Z"
   },
   {
    "duration": 31,
    "start_time": "2023-03-21T23:49:46.001Z"
   },
   {
    "duration": 541,
    "start_time": "2023-03-21T23:49:46.034Z"
   },
   {
    "duration": 17,
    "start_time": "2023-03-21T23:49:46.576Z"
   },
   {
    "duration": 1275,
    "start_time": "2023-03-22T01:12:37.604Z"
   },
   {
    "duration": 84,
    "start_time": "2023-03-22T01:12:38.882Z"
   },
   {
    "duration": 11,
    "start_time": "2023-03-22T01:12:38.967Z"
   },
   {
    "duration": 13,
    "start_time": "2023-03-22T01:12:38.980Z"
   },
   {
    "duration": 27,
    "start_time": "2023-03-22T01:12:38.996Z"
   },
   {
    "duration": 9,
    "start_time": "2023-03-22T01:12:39.026Z"
   },
   {
    "duration": 94,
    "start_time": "2023-03-22T01:12:39.037Z"
   },
   {
    "duration": 60,
    "start_time": "2023-03-22T01:12:39.132Z"
   },
   {
    "duration": 10,
    "start_time": "2023-03-22T01:12:39.194Z"
   },
   {
    "duration": 16,
    "start_time": "2023-03-22T01:12:39.206Z"
   },
   {
    "duration": 12,
    "start_time": "2023-03-22T01:12:39.224Z"
   },
   {
    "duration": 11,
    "start_time": "2023-03-22T01:12:39.237Z"
   },
   {
    "duration": 51,
    "start_time": "2023-03-22T01:12:39.250Z"
   },
   {
    "duration": 16,
    "start_time": "2023-03-22T01:12:39.305Z"
   },
   {
    "duration": 25,
    "start_time": "2023-03-22T01:12:39.323Z"
   },
   {
    "duration": 8,
    "start_time": "2023-03-22T01:12:39.350Z"
   },
   {
    "duration": 12,
    "start_time": "2023-03-22T01:12:39.361Z"
   },
   {
    "duration": 34,
    "start_time": "2023-03-22T01:12:39.375Z"
   },
   {
    "duration": 17,
    "start_time": "2023-03-22T01:12:39.411Z"
   },
   {
    "duration": 5,
    "start_time": "2023-03-22T01:12:39.430Z"
   },
   {
    "duration": 16,
    "start_time": "2023-03-22T01:12:39.437Z"
   },
   {
    "duration": 9,
    "start_time": "2023-03-22T01:12:39.456Z"
   },
   {
    "duration": 216,
    "start_time": "2023-03-22T01:12:39.468Z"
   },
   {
    "duration": 199,
    "start_time": "2023-03-22T01:12:39.687Z"
   },
   {
    "duration": 14,
    "start_time": "2023-03-22T01:12:39.889Z"
   },
   {
    "duration": 27,
    "start_time": "2023-03-22T01:12:39.905Z"
   },
   {
    "duration": 18,
    "start_time": "2023-03-22T01:12:39.934Z"
   },
   {
    "duration": 32,
    "start_time": "2023-03-22T01:12:39.954Z"
   },
   {
    "duration": 495,
    "start_time": "2023-03-22T01:12:39.988Z"
   },
   {
    "duration": 245,
    "start_time": "2023-03-22T01:12:40.485Z"
   },
   {
    "duration": 13,
    "start_time": "2023-03-22T01:12:40.732Z"
   },
   {
    "duration": 389,
    "start_time": "2023-03-22T01:12:40.747Z"
   },
   {
    "duration": 6,
    "start_time": "2023-03-22T01:12:41.137Z"
   },
   {
    "duration": 183,
    "start_time": "2023-03-22T01:12:41.145Z"
   },
   {
    "duration": 14,
    "start_time": "2023-03-22T01:12:41.330Z"
   },
   {
    "duration": 314,
    "start_time": "2023-03-22T01:12:41.346Z"
   },
   {
    "duration": 9,
    "start_time": "2023-03-22T01:12:41.662Z"
   },
   {
    "duration": 141,
    "start_time": "2023-03-22T01:12:41.673Z"
   },
   {
    "duration": 5,
    "start_time": "2023-03-22T01:12:41.816Z"
   },
   {
    "duration": 164,
    "start_time": "2023-03-22T01:12:41.823Z"
   },
   {
    "duration": 6,
    "start_time": "2023-03-22T01:12:41.997Z"
   },
   {
    "duration": 13,
    "start_time": "2023-03-22T01:12:42.005Z"
   },
   {
    "duration": 159,
    "start_time": "2023-03-22T01:12:42.020Z"
   },
   {
    "duration": 30,
    "start_time": "2023-03-22T01:12:42.181Z"
   },
   {
    "duration": 24,
    "start_time": "2023-03-22T01:12:42.213Z"
   },
   {
    "duration": 11,
    "start_time": "2023-03-22T01:12:42.239Z"
   },
   {
    "duration": 55,
    "start_time": "2023-03-22T01:12:42.252Z"
   },
   {
    "duration": 413,
    "start_time": "2023-03-22T01:12:42.309Z"
   },
   {
    "duration": 13,
    "start_time": "2023-03-22T01:12:42.725Z"
   },
   {
    "duration": 13,
    "start_time": "2023-03-22T01:12:42.740Z"
   },
   {
    "duration": 425,
    "start_time": "2023-03-22T01:12:42.755Z"
   },
   {
    "duration": 22,
    "start_time": "2023-03-22T01:12:43.182Z"
   },
   {
    "duration": 1211,
    "start_time": "2023-03-22T05:01:33.259Z"
   },
   {
    "duration": 79,
    "start_time": "2023-03-22T05:01:34.472Z"
   },
   {
    "duration": 9,
    "start_time": "2023-03-22T05:01:34.553Z"
   },
   {
    "duration": 10,
    "start_time": "2023-03-22T05:01:34.564Z"
   },
   {
    "duration": 9,
    "start_time": "2023-03-22T05:01:34.576Z"
   },
   {
    "duration": 8,
    "start_time": "2023-03-22T05:01:34.586Z"
   },
   {
    "duration": 78,
    "start_time": "2023-03-22T05:01:34.596Z"
   },
   {
    "duration": 66,
    "start_time": "2023-03-22T05:01:34.676Z"
   },
   {
    "duration": 10,
    "start_time": "2023-03-22T05:01:34.744Z"
   },
   {
    "duration": 12,
    "start_time": "2023-03-22T05:01:34.758Z"
   },
   {
    "duration": 11,
    "start_time": "2023-03-22T05:01:34.772Z"
   },
   {
    "duration": 10,
    "start_time": "2023-03-22T05:01:34.785Z"
   },
   {
    "duration": 13,
    "start_time": "2023-03-22T05:01:34.800Z"
   },
   {
    "duration": 12,
    "start_time": "2023-03-22T05:01:34.815Z"
   },
   {
    "duration": 11,
    "start_time": "2023-03-22T05:01:34.829Z"
   },
   {
    "duration": 6,
    "start_time": "2023-03-22T05:01:34.842Z"
   },
   {
    "duration": 43,
    "start_time": "2023-03-22T05:01:34.850Z"
   },
   {
    "duration": 15,
    "start_time": "2023-03-22T05:01:34.896Z"
   },
   {
    "duration": 12,
    "start_time": "2023-03-22T05:01:34.912Z"
   },
   {
    "duration": 4,
    "start_time": "2023-03-22T05:01:34.925Z"
   },
   {
    "duration": 12,
    "start_time": "2023-03-22T05:01:34.930Z"
   },
   {
    "duration": 9,
    "start_time": "2023-03-22T05:01:34.944Z"
   },
   {
    "duration": 208,
    "start_time": "2023-03-22T05:01:34.954Z"
   },
   {
    "duration": 156,
    "start_time": "2023-03-22T05:01:35.163Z"
   },
   {
    "duration": 6,
    "start_time": "2023-03-22T05:01:35.321Z"
   },
   {
    "duration": 23,
    "start_time": "2023-03-22T05:01:35.329Z"
   },
   {
    "duration": 4,
    "start_time": "2023-03-22T05:01:35.354Z"
   },
   {
    "duration": 27,
    "start_time": "2023-03-22T05:01:35.362Z"
   },
   {
    "duration": 438,
    "start_time": "2023-03-22T05:01:35.393Z"
   },
   {
    "duration": 205,
    "start_time": "2023-03-22T05:01:35.833Z"
   },
   {
    "duration": 12,
    "start_time": "2023-03-22T05:01:36.040Z"
   },
   {
    "duration": 368,
    "start_time": "2023-03-22T05:01:36.053Z"
   },
   {
    "duration": 7,
    "start_time": "2023-03-22T05:01:36.422Z"
   },
   {
    "duration": 199,
    "start_time": "2023-03-22T05:01:36.430Z"
   },
   {
    "duration": 16,
    "start_time": "2023-03-22T05:01:36.631Z"
   },
   {
    "duration": 345,
    "start_time": "2023-03-22T05:01:36.649Z"
   },
   {
    "duration": 14,
    "start_time": "2023-03-22T05:01:36.997Z"
   },
   {
    "duration": 138,
    "start_time": "2023-03-22T05:01:37.013Z"
   },
   {
    "duration": 4,
    "start_time": "2023-03-22T05:01:37.153Z"
   },
   {
    "duration": 166,
    "start_time": "2023-03-22T05:01:37.159Z"
   },
   {
    "duration": 5,
    "start_time": "2023-03-22T05:01:37.327Z"
   },
   {
    "duration": 12,
    "start_time": "2023-03-22T05:01:37.334Z"
   },
   {
    "duration": 213,
    "start_time": "2023-03-22T05:01:37.348Z"
   },
   {
    "duration": 33,
    "start_time": "2023-03-22T05:01:37.563Z"
   },
   {
    "duration": 25,
    "start_time": "2023-03-22T05:01:37.598Z"
   },
   {
    "duration": 10,
    "start_time": "2023-03-22T05:01:37.624Z"
   },
   {
    "duration": 20,
    "start_time": "2023-03-22T05:01:37.636Z"
   },
   {
    "duration": 438,
    "start_time": "2023-03-22T05:01:37.691Z"
   },
   {
    "duration": 10,
    "start_time": "2023-03-22T05:01:38.130Z"
   },
   {
    "duration": 10,
    "start_time": "2023-03-22T05:01:38.142Z"
   },
   {
    "duration": 429,
    "start_time": "2023-03-22T05:01:38.153Z"
   },
   {
    "duration": 21,
    "start_time": "2023-03-22T05:01:38.584Z"
   },
   {
    "duration": 175,
    "start_time": "2023-03-22T05:13:33.320Z"
   },
   {
    "duration": 265,
    "start_time": "2023-03-22T05:13:39.804Z"
   },
   {
    "duration": 178,
    "start_time": "2023-03-22T05:14:44.316Z"
   },
   {
    "duration": 179,
    "start_time": "2023-03-22T05:14:50.843Z"
   },
   {
    "duration": 10,
    "start_time": "2023-03-22T05:29:24.439Z"
   },
   {
    "duration": 1163,
    "start_time": "2023-03-23T00:34:30.953Z"
   },
   {
    "duration": 73,
    "start_time": "2023-03-23T00:34:32.118Z"
   },
   {
    "duration": 48,
    "start_time": "2023-03-23T00:34:32.193Z"
   },
   {
    "duration": 15,
    "start_time": "2023-03-23T00:34:32.243Z"
   },
   {
    "duration": 11,
    "start_time": "2023-03-23T00:34:32.260Z"
   },
   {
    "duration": 102,
    "start_time": "2023-03-23T00:34:32.272Z"
   },
   {
    "duration": 63,
    "start_time": "2023-03-23T00:34:32.376Z"
   },
   {
    "duration": 10,
    "start_time": "2023-03-23T00:34:32.441Z"
   },
   {
    "duration": 9,
    "start_time": "2023-03-23T00:34:32.453Z"
   },
   {
    "duration": 12,
    "start_time": "2023-03-23T00:34:32.465Z"
   },
   {
    "duration": 9,
    "start_time": "2023-03-23T00:34:32.479Z"
   },
   {
    "duration": 11,
    "start_time": "2023-03-23T00:34:32.490Z"
   },
   {
    "duration": 47,
    "start_time": "2023-03-23T00:34:32.503Z"
   },
   {
    "duration": 14,
    "start_time": "2023-03-23T00:34:32.552Z"
   },
   {
    "duration": 7,
    "start_time": "2023-03-23T00:34:32.568Z"
   },
   {
    "duration": 7,
    "start_time": "2023-03-23T00:34:32.576Z"
   },
   {
    "duration": 14,
    "start_time": "2023-03-23T00:34:32.585Z"
   },
   {
    "duration": 12,
    "start_time": "2023-03-23T00:34:32.601Z"
   },
   {
    "duration": 26,
    "start_time": "2023-03-23T00:34:32.615Z"
   },
   {
    "duration": 11,
    "start_time": "2023-03-23T00:34:32.644Z"
   },
   {
    "duration": 19,
    "start_time": "2023-03-23T00:34:32.657Z"
   },
   {
    "duration": 166,
    "start_time": "2023-03-23T00:34:32.678Z"
   },
   {
    "duration": 124,
    "start_time": "2023-03-23T00:34:32.846Z"
   },
   {
    "duration": 6,
    "start_time": "2023-03-23T00:34:32.972Z"
   },
   {
    "duration": 30,
    "start_time": "2023-03-23T00:34:32.980Z"
   },
   {
    "duration": 13,
    "start_time": "2023-03-23T00:34:33.012Z"
   },
   {
    "duration": 5,
    "start_time": "2023-03-23T00:34:33.041Z"
   },
   {
    "duration": 9,
    "start_time": "2023-03-23T00:34:33.049Z"
   },
   {
    "duration": 314,
    "start_time": "2023-03-23T00:34:33.059Z"
   },
   {
    "duration": 216,
    "start_time": "2023-03-23T00:34:33.375Z"
   },
   {
    "duration": 12,
    "start_time": "2023-03-23T00:34:33.594Z"
   },
   {
    "duration": 362,
    "start_time": "2023-03-23T00:34:33.608Z"
   },
   {
    "duration": 6,
    "start_time": "2023-03-23T00:34:33.972Z"
   },
   {
    "duration": 245,
    "start_time": "2023-03-23T00:34:33.980Z"
   },
   {
    "duration": 23,
    "start_time": "2023-03-23T00:34:34.226Z"
   },
   {
    "duration": 329,
    "start_time": "2023-03-23T00:34:34.251Z"
   },
   {
    "duration": 9,
    "start_time": "2023-03-23T00:34:34.582Z"
   },
   {
    "duration": 165,
    "start_time": "2023-03-23T00:34:34.593Z"
   },
   {
    "duration": 5,
    "start_time": "2023-03-23T00:34:34.759Z"
   },
   {
    "duration": 160,
    "start_time": "2023-03-23T00:34:34.766Z"
   },
   {
    "duration": 5,
    "start_time": "2023-03-23T00:34:34.928Z"
   },
   {
    "duration": 12,
    "start_time": "2023-03-23T00:34:34.941Z"
   },
   {
    "duration": 134,
    "start_time": "2023-03-23T00:34:34.954Z"
   },
   {
    "duration": 21,
    "start_time": "2023-03-23T00:34:35.090Z"
   },
   {
    "duration": 136,
    "start_time": "2023-03-23T00:34:35.112Z"
   },
   {
    "duration": 102,
    "start_time": "2023-03-23T00:34:35.250Z"
   },
   {
    "duration": 17,
    "start_time": "2023-03-23T00:34:35.354Z"
   },
   {
    "duration": 125,
    "start_time": "2023-03-23T00:34:35.373Z"
   },
   {
    "duration": 18,
    "start_time": "2023-03-23T00:34:35.499Z"
   },
   {
    "duration": 40,
    "start_time": "2023-03-23T00:34:35.519Z"
   },
   {
    "duration": 26,
    "start_time": "2023-03-23T00:34:35.560Z"
   },
   {
    "duration": 11,
    "start_time": "2023-03-23T00:34:35.587Z"
   },
   {
    "duration": 10,
    "start_time": "2023-03-23T00:34:35.600Z"
   },
   {
    "duration": 413,
    "start_time": "2023-03-23T00:34:35.612Z"
   },
   {
    "duration": 24,
    "start_time": "2023-03-23T00:34:36.027Z"
   },
   {
    "duration": 219,
    "start_time": "2023-03-23T00:37:41.618Z"
   },
   {
    "duration": 233,
    "start_time": "2023-03-23T00:37:43.677Z"
   },
   {
    "duration": 1355,
    "start_time": "2023-03-23T08:27:03.461Z"
   },
   {
    "duration": 91,
    "start_time": "2023-03-23T08:27:04.819Z"
   },
   {
    "duration": 94,
    "start_time": "2023-03-23T08:27:04.913Z"
   },
   {
    "duration": 23,
    "start_time": "2023-03-23T08:27:05.010Z"
   },
   {
    "duration": 22,
    "start_time": "2023-03-23T08:27:05.037Z"
   },
   {
    "duration": 132,
    "start_time": "2023-03-23T08:27:05.061Z"
   },
   {
    "duration": 74,
    "start_time": "2023-03-23T08:27:05.196Z"
   },
   {
    "duration": 13,
    "start_time": "2023-03-23T08:27:05.272Z"
   },
   {
    "duration": 27,
    "start_time": "2023-03-23T08:27:05.287Z"
   },
   {
    "duration": 15,
    "start_time": "2023-03-23T08:27:05.317Z"
   },
   {
    "duration": 10,
    "start_time": "2023-03-23T08:27:05.334Z"
   },
   {
    "duration": 10,
    "start_time": "2023-03-23T08:27:05.346Z"
   },
   {
    "duration": 50,
    "start_time": "2023-03-23T08:27:05.357Z"
   },
   {
    "duration": 13,
    "start_time": "2023-03-23T08:27:05.410Z"
   },
   {
    "duration": 7,
    "start_time": "2023-03-23T08:27:05.425Z"
   },
   {
    "duration": 8,
    "start_time": "2023-03-23T08:27:05.434Z"
   },
   {
    "duration": 12,
    "start_time": "2023-03-23T08:27:05.444Z"
   },
   {
    "duration": 12,
    "start_time": "2023-03-23T08:27:05.458Z"
   },
   {
    "duration": 34,
    "start_time": "2023-03-23T08:27:05.472Z"
   },
   {
    "duration": 17,
    "start_time": "2023-03-23T08:27:05.508Z"
   },
   {
    "duration": 7,
    "start_time": "2023-03-23T08:27:05.528Z"
   },
   {
    "duration": 237,
    "start_time": "2023-03-23T08:27:05.537Z"
   },
   {
    "duration": 153,
    "start_time": "2023-03-23T08:27:05.776Z"
   },
   {
    "duration": 9,
    "start_time": "2023-03-23T08:27:05.930Z"
   },
   {
    "duration": 29,
    "start_time": "2023-03-23T08:27:05.940Z"
   },
   {
    "duration": 37,
    "start_time": "2023-03-23T08:27:05.973Z"
   },
   {
    "duration": 10,
    "start_time": "2023-03-23T08:27:06.011Z"
   },
   {
    "duration": 8,
    "start_time": "2023-03-23T08:27:06.025Z"
   },
   {
    "duration": 355,
    "start_time": "2023-03-23T08:27:06.038Z"
   },
   {
    "duration": 254,
    "start_time": "2023-03-23T08:27:06.394Z"
   },
   {
    "duration": 12,
    "start_time": "2023-03-23T08:27:06.649Z"
   },
   {
    "duration": 461,
    "start_time": "2023-03-23T08:27:06.663Z"
   },
   {
    "duration": 9,
    "start_time": "2023-03-23T08:27:07.126Z"
   },
   {
    "duration": 255,
    "start_time": "2023-03-23T08:27:07.137Z"
   },
   {
    "duration": 18,
    "start_time": "2023-03-23T08:27:07.403Z"
   },
   {
    "duration": 330,
    "start_time": "2023-03-23T08:27:07.423Z"
   },
   {
    "duration": 11,
    "start_time": "2023-03-23T08:27:07.754Z"
   },
   {
    "duration": 193,
    "start_time": "2023-03-23T08:27:07.766Z"
   },
   {
    "duration": 6,
    "start_time": "2023-03-23T08:27:07.962Z"
   },
   {
    "duration": 213,
    "start_time": "2023-03-23T08:27:07.972Z"
   },
   {
    "duration": 6,
    "start_time": "2023-03-23T08:27:08.188Z"
   },
   {
    "duration": 10,
    "start_time": "2023-03-23T08:27:08.204Z"
   },
   {
    "duration": 180,
    "start_time": "2023-03-23T08:27:08.216Z"
   },
   {
    "duration": 28,
    "start_time": "2023-03-23T08:27:08.398Z"
   },
   {
    "duration": 130,
    "start_time": "2023-03-23T08:27:08.427Z"
   },
   {
    "duration": 115,
    "start_time": "2023-03-23T08:27:08.559Z"
   },
   {
    "duration": 57,
    "start_time": "2023-03-23T08:27:08.676Z"
   },
   {
    "duration": 34,
    "start_time": "2023-03-23T08:27:13.694Z"
   },
   {
    "duration": 13,
    "start_time": "2023-03-23T08:27:15.833Z"
   },
   {
    "duration": 15,
    "start_time": "2023-03-23T08:28:09.629Z"
   },
   {
    "duration": 28,
    "start_time": "2023-03-23T08:30:12.250Z"
   },
   {
    "duration": 126,
    "start_time": "2023-03-23T08:46:13.334Z"
   },
   {
    "duration": 252,
    "start_time": "2023-03-23T08:54:40.323Z"
   },
   {
    "duration": 278,
    "start_time": "2023-03-23T08:54:49.596Z"
   },
   {
    "duration": 305,
    "start_time": "2023-03-23T08:55:58.290Z"
   },
   {
    "duration": 321,
    "start_time": "2023-03-23T08:56:06.240Z"
   },
   {
    "duration": 289,
    "start_time": "2023-03-23T08:56:13.978Z"
   },
   {
    "duration": 385,
    "start_time": "2023-03-23T08:56:24.453Z"
   },
   {
    "duration": 189,
    "start_time": "2023-03-23T08:56:34.544Z"
   },
   {
    "duration": 192,
    "start_time": "2023-03-23T08:56:43.133Z"
   },
   {
    "duration": 1688,
    "start_time": "2023-03-23T09:15:30.929Z"
   },
   {
    "duration": 152,
    "start_time": "2023-03-23T09:15:32.625Z"
   },
   {
    "duration": 87,
    "start_time": "2023-03-23T09:15:32.780Z"
   },
   {
    "duration": 26,
    "start_time": "2023-03-23T09:15:32.872Z"
   },
   {
    "duration": 23,
    "start_time": "2023-03-23T09:15:32.904Z"
   },
   {
    "duration": 139,
    "start_time": "2023-03-23T09:15:32.934Z"
   },
   {
    "duration": 87,
    "start_time": "2023-03-23T09:15:33.076Z"
   },
   {
    "duration": 14,
    "start_time": "2023-03-23T09:15:33.166Z"
   },
   {
    "duration": 16,
    "start_time": "2023-03-23T09:15:33.182Z"
   },
   {
    "duration": 13,
    "start_time": "2023-03-23T09:15:33.200Z"
   },
   {
    "duration": 35,
    "start_time": "2023-03-23T09:15:33.215Z"
   },
   {
    "duration": 14,
    "start_time": "2023-03-23T09:15:33.254Z"
   },
   {
    "duration": 14,
    "start_time": "2023-03-23T09:15:33.271Z"
   },
   {
    "duration": 15,
    "start_time": "2023-03-23T09:15:33.290Z"
   },
   {
    "duration": 8,
    "start_time": "2023-03-23T09:15:33.307Z"
   },
   {
    "duration": 9,
    "start_time": "2023-03-23T09:15:33.318Z"
   },
   {
    "duration": 39,
    "start_time": "2023-03-23T09:15:33.329Z"
   },
   {
    "duration": 14,
    "start_time": "2023-03-23T09:15:33.371Z"
   },
   {
    "duration": 3,
    "start_time": "2023-03-23T09:15:33.389Z"
   },
   {
    "duration": 19,
    "start_time": "2023-03-23T09:15:33.395Z"
   },
   {
    "duration": 13,
    "start_time": "2023-03-23T09:15:33.417Z"
   },
   {
    "duration": 252,
    "start_time": "2023-03-23T09:15:33.436Z"
   },
   {
    "duration": 170,
    "start_time": "2023-03-23T09:15:33.691Z"
   },
   {
    "duration": 10,
    "start_time": "2023-03-23T09:15:33.866Z"
   },
   {
    "duration": 41,
    "start_time": "2023-03-23T09:15:33.878Z"
   },
   {
    "duration": 17,
    "start_time": "2023-03-23T09:15:33.923Z"
   },
   {
    "duration": 6,
    "start_time": "2023-03-23T09:15:33.941Z"
   },
   {
    "duration": 12,
    "start_time": "2023-03-23T09:15:33.948Z"
   },
   {
    "duration": 481,
    "start_time": "2023-03-23T09:15:33.962Z"
   },
   {
    "duration": 281,
    "start_time": "2023-03-23T09:15:34.447Z"
   },
   {
    "duration": 17,
    "start_time": "2023-03-23T09:15:34.731Z"
   },
   {
    "duration": 430,
    "start_time": "2023-03-23T09:15:34.750Z"
   },
   {
    "duration": 7,
    "start_time": "2023-03-23T09:15:35.182Z"
   },
   {
    "duration": 262,
    "start_time": "2023-03-23T09:15:35.191Z"
   },
   {
    "duration": 21,
    "start_time": "2023-03-23T09:15:35.455Z"
   },
   {
    "duration": 411,
    "start_time": "2023-03-23T09:15:35.478Z"
   },
   {
    "duration": 37,
    "start_time": "2023-03-23T09:15:35.892Z"
   },
   {
    "duration": 209,
    "start_time": "2023-03-23T09:15:35.931Z"
   },
   {
    "duration": 10,
    "start_time": "2023-03-23T09:15:36.143Z"
   },
   {
    "duration": 223,
    "start_time": "2023-03-23T09:15:36.156Z"
   },
   {
    "duration": 10,
    "start_time": "2023-03-23T09:15:36.410Z"
   },
   {
    "duration": 28,
    "start_time": "2023-03-23T09:15:36.423Z"
   },
   {
    "duration": 470,
    "start_time": "2023-03-23T09:15:36.454Z"
   },
   {
    "duration": 76,
    "start_time": "2023-03-23T09:15:36.934Z"
   },
   {
    "duration": 233,
    "start_time": "2023-03-23T09:15:37.014Z"
   },
   {
    "duration": 295,
    "start_time": "2023-03-23T09:15:37.250Z"
   },
   {
    "duration": 88,
    "start_time": "2023-03-23T09:15:37.547Z"
   },
   {
    "duration": 81,
    "start_time": "2023-03-23T09:15:37.636Z"
   },
   {
    "duration": 26,
    "start_time": "2023-03-23T09:15:37.719Z"
   },
   {
    "duration": 72,
    "start_time": "2023-03-23T09:15:37.747Z"
   },
   {
    "duration": 96,
    "start_time": "2023-03-23T09:15:37.821Z"
   },
   {
    "duration": 16,
    "start_time": "2023-03-23T09:15:37.919Z"
   },
   {
    "duration": 15,
    "start_time": "2023-03-23T09:15:37.937Z"
   },
   {
    "duration": 965,
    "start_time": "2023-03-23T09:15:37.955Z"
   },
   {
    "duration": 20,
    "start_time": "2023-03-23T09:15:38.922Z"
   },
   {
    "duration": 1417,
    "start_time": "2023-03-23T09:17:54.442Z"
   },
   {
    "duration": 30,
    "start_time": "2023-03-23T09:17:55.862Z"
   },
   {
    "duration": 77,
    "start_time": "2023-03-23T09:17:55.895Z"
   },
   {
    "duration": 22,
    "start_time": "2023-03-23T09:17:55.974Z"
   },
   {
    "duration": 18,
    "start_time": "2023-03-23T09:17:56.003Z"
   },
   {
    "duration": 49,
    "start_time": "2023-03-23T09:17:56.030Z"
   },
   {
    "duration": 18,
    "start_time": "2023-03-23T09:17:56.082Z"
   },
   {
    "duration": 13,
    "start_time": "2023-03-23T09:17:56.102Z"
   },
   {
    "duration": 15,
    "start_time": "2023-03-23T09:17:56.117Z"
   },
   {
    "duration": 16,
    "start_time": "2023-03-23T09:17:56.134Z"
   },
   {
    "duration": 49,
    "start_time": "2023-03-23T09:17:56.153Z"
   },
   {
    "duration": 13,
    "start_time": "2023-03-23T09:17:56.205Z"
   },
   {
    "duration": 15,
    "start_time": "2023-03-23T09:17:56.220Z"
   },
   {
    "duration": 15,
    "start_time": "2023-03-23T09:17:56.240Z"
   },
   {
    "duration": 47,
    "start_time": "2023-03-23T09:17:56.257Z"
   },
   {
    "duration": 6,
    "start_time": "2023-03-23T09:17:56.306Z"
   },
   {
    "duration": 16,
    "start_time": "2023-03-23T09:17:56.314Z"
   },
   {
    "duration": 15,
    "start_time": "2023-03-23T09:17:56.332Z"
   },
   {
    "duration": 4,
    "start_time": "2023-03-23T09:17:56.350Z"
   },
   {
    "duration": 47,
    "start_time": "2023-03-23T09:17:56.357Z"
   },
   {
    "duration": 24,
    "start_time": "2023-03-23T09:17:56.407Z"
   },
   {
    "duration": 221,
    "start_time": "2023-03-23T09:17:56.433Z"
   },
   {
    "duration": 162,
    "start_time": "2023-03-23T09:17:56.656Z"
   },
   {
    "duration": 8,
    "start_time": "2023-03-23T09:17:56.819Z"
   },
   {
    "duration": 28,
    "start_time": "2023-03-23T09:17:56.829Z"
   },
   {
    "duration": 47,
    "start_time": "2023-03-23T09:17:56.859Z"
   },
   {
    "duration": 5,
    "start_time": "2023-03-23T09:17:56.908Z"
   },
   {
    "duration": 6,
    "start_time": "2023-03-23T09:17:56.916Z"
   },
   {
    "duration": 391,
    "start_time": "2023-03-23T09:17:56.924Z"
   },
   {
    "duration": 290,
    "start_time": "2023-03-23T09:17:57.317Z"
   },
   {
    "duration": 16,
    "start_time": "2023-03-23T09:17:57.609Z"
   },
   {
    "duration": 374,
    "start_time": "2023-03-23T09:17:57.627Z"
   },
   {
    "duration": 7,
    "start_time": "2023-03-23T09:17:58.004Z"
   },
   {
    "duration": 256,
    "start_time": "2023-03-23T09:17:58.014Z"
   },
   {
    "duration": 15,
    "start_time": "2023-03-23T09:17:58.272Z"
   },
   {
    "duration": 417,
    "start_time": "2023-03-23T09:17:58.289Z"
   },
   {
    "duration": 14,
    "start_time": "2023-03-23T09:17:58.708Z"
   },
   {
    "duration": 186,
    "start_time": "2023-03-23T09:17:58.724Z"
   },
   {
    "duration": 6,
    "start_time": "2023-03-23T09:17:58.912Z"
   },
   {
    "duration": 234,
    "start_time": "2023-03-23T09:17:58.920Z"
   },
   {
    "duration": 7,
    "start_time": "2023-03-23T09:17:59.160Z"
   },
   {
    "duration": 13,
    "start_time": "2023-03-23T09:17:59.169Z"
   },
   {
    "duration": 212,
    "start_time": "2023-03-23T09:17:59.184Z"
   },
   {
    "duration": 23,
    "start_time": "2023-03-23T09:17:59.403Z"
   },
   {
    "duration": 121,
    "start_time": "2023-03-23T09:17:59.428Z"
   },
   {
    "duration": 8,
    "start_time": "2023-03-23T09:17:59.551Z"
   },
   {
    "duration": 185,
    "start_time": "2023-03-23T09:17:59.561Z"
   },
   {
    "duration": 0,
    "start_time": "2023-03-23T09:17:59.748Z"
   },
   {
    "duration": 0,
    "start_time": "2023-03-23T09:17:59.750Z"
   },
   {
    "duration": 0,
    "start_time": "2023-03-23T09:17:59.752Z"
   },
   {
    "duration": 0,
    "start_time": "2023-03-23T09:17:59.753Z"
   },
   {
    "duration": 0,
    "start_time": "2023-03-23T09:17:59.755Z"
   },
   {
    "duration": 1,
    "start_time": "2023-03-23T09:17:59.756Z"
   },
   {
    "duration": 0,
    "start_time": "2023-03-23T09:17:59.758Z"
   },
   {
    "duration": 0,
    "start_time": "2023-03-23T09:17:59.759Z"
   },
   {
    "duration": 29,
    "start_time": "2023-03-23T09:18:14.714Z"
   },
   {
    "duration": 17,
    "start_time": "2023-03-23T09:18:15.486Z"
   },
   {
    "duration": 17,
    "start_time": "2023-03-23T09:18:17.737Z"
   },
   {
    "duration": 43,
    "start_time": "2023-03-23T09:18:20.676Z"
   },
   {
    "duration": 1373,
    "start_time": "2023-03-23T09:18:40.382Z"
   },
   {
    "duration": 43,
    "start_time": "2023-03-23T09:18:41.758Z"
   },
   {
    "duration": 85,
    "start_time": "2023-03-23T09:18:41.803Z"
   },
   {
    "duration": 23,
    "start_time": "2023-03-23T09:18:41.902Z"
   },
   {
    "duration": 19,
    "start_time": "2023-03-23T09:18:41.927Z"
   },
   {
    "duration": 54,
    "start_time": "2023-03-23T09:18:41.948Z"
   },
   {
    "duration": 23,
    "start_time": "2023-03-23T09:18:42.005Z"
   },
   {
    "duration": 13,
    "start_time": "2023-03-23T09:18:42.030Z"
   },
   {
    "duration": 14,
    "start_time": "2023-03-23T09:18:42.045Z"
   },
   {
    "duration": 13,
    "start_time": "2023-03-23T09:18:42.063Z"
   },
   {
    "duration": 33,
    "start_time": "2023-03-23T09:18:42.078Z"
   },
   {
    "duration": 13,
    "start_time": "2023-03-23T09:18:42.113Z"
   },
   {
    "duration": 16,
    "start_time": "2023-03-23T09:18:42.128Z"
   },
   {
    "duration": 16,
    "start_time": "2023-03-23T09:18:42.146Z"
   },
   {
    "duration": 8,
    "start_time": "2023-03-23T09:18:42.206Z"
   },
   {
    "duration": 6,
    "start_time": "2023-03-23T09:18:42.217Z"
   },
   {
    "duration": 22,
    "start_time": "2023-03-23T09:18:42.225Z"
   },
   {
    "duration": 56,
    "start_time": "2023-03-23T09:18:42.250Z"
   },
   {
    "duration": 18,
    "start_time": "2023-03-23T09:18:42.308Z"
   },
   {
    "duration": 18,
    "start_time": "2023-03-23T09:18:42.327Z"
   },
   {
    "duration": 7,
    "start_time": "2023-03-23T09:18:42.347Z"
   },
   {
    "duration": 555,
    "start_time": "2023-03-23T09:18:42.356Z"
   },
   {
    "duration": 405,
    "start_time": "2023-03-23T09:18:42.914Z"
   },
   {
    "duration": 9,
    "start_time": "2023-03-23T09:18:43.321Z"
   },
   {
    "duration": 84,
    "start_time": "2023-03-23T09:18:43.333Z"
   },
   {
    "duration": 17,
    "start_time": "2023-03-23T09:18:43.420Z"
   },
   {
    "duration": 64,
    "start_time": "2023-03-23T09:18:43.439Z"
   },
   {
    "duration": 7,
    "start_time": "2023-03-23T09:18:43.508Z"
   },
   {
    "duration": 923,
    "start_time": "2023-03-23T09:18:43.516Z"
   },
   {
    "duration": 429,
    "start_time": "2023-03-23T09:18:44.442Z"
   },
   {
    "duration": 16,
    "start_time": "2023-03-23T09:18:44.874Z"
   },
   {
    "duration": 427,
    "start_time": "2023-03-23T09:18:44.892Z"
   },
   {
    "duration": 7,
    "start_time": "2023-03-23T09:18:45.321Z"
   },
   {
    "duration": 318,
    "start_time": "2023-03-23T09:18:45.330Z"
   },
   {
    "duration": 21,
    "start_time": "2023-03-23T09:18:45.650Z"
   },
   {
    "duration": 423,
    "start_time": "2023-03-23T09:18:45.673Z"
   },
   {
    "duration": 12,
    "start_time": "2023-03-23T09:18:46.099Z"
   },
   {
    "duration": 237,
    "start_time": "2023-03-23T09:18:46.113Z"
   },
   {
    "duration": 8,
    "start_time": "2023-03-23T09:18:46.352Z"
   },
   {
    "duration": 261,
    "start_time": "2023-03-23T09:18:46.363Z"
   },
   {
    "duration": 7,
    "start_time": "2023-03-23T09:18:46.626Z"
   },
   {
    "duration": 11,
    "start_time": "2023-03-23T09:18:46.635Z"
   },
   {
    "duration": 248,
    "start_time": "2023-03-23T09:18:46.648Z"
   },
   {
    "duration": 29,
    "start_time": "2023-03-23T09:18:46.899Z"
   },
   {
    "duration": 146,
    "start_time": "2023-03-23T09:18:46.930Z"
   },
   {
    "duration": 140,
    "start_time": "2023-03-23T09:18:47.079Z"
   },
   {
    "duration": 28,
    "start_time": "2023-03-23T09:18:47.221Z"
   },
   {
    "duration": 58,
    "start_time": "2023-03-23T09:18:47.252Z"
   },
   {
    "duration": 19,
    "start_time": "2023-03-23T09:18:47.312Z"
   },
   {
    "duration": 20,
    "start_time": "2023-03-23T09:18:47.333Z"
   },
   {
    "duration": 66,
    "start_time": "2023-03-23T09:18:47.355Z"
   },
   {
    "duration": 16,
    "start_time": "2023-03-23T09:18:47.423Z"
   },
   {
    "duration": 15,
    "start_time": "2023-03-23T09:18:47.441Z"
   },
   {
    "duration": 561,
    "start_time": "2023-03-23T09:18:47.458Z"
   },
   {
    "duration": 28,
    "start_time": "2023-03-23T09:18:48.021Z"
   },
   {
    "duration": 11,
    "start_time": "2023-03-23T09:22:25.186Z"
   },
   {
    "duration": 31,
    "start_time": "2023-03-23T09:22:34.537Z"
   },
   {
    "duration": 43,
    "start_time": "2023-03-23T09:23:11.954Z"
   },
   {
    "duration": 29,
    "start_time": "2023-03-23T09:23:33.965Z"
   },
   {
    "duration": 358,
    "start_time": "2023-03-23T09:23:40.974Z"
   },
   {
    "duration": 41,
    "start_time": "2023-03-23T09:25:45.991Z"
   },
   {
    "duration": 440,
    "start_time": "2023-03-23T09:25:52.007Z"
   },
   {
    "duration": 41,
    "start_time": "2023-03-23T09:34:53.986Z"
   },
   {
    "duration": 344,
    "start_time": "2023-03-23T09:35:00.575Z"
   },
   {
    "duration": 16,
    "start_time": "2023-03-23T10:09:21.682Z"
   },
   {
    "duration": 9,
    "start_time": "2023-03-23T10:09:42.212Z"
   },
   {
    "duration": 13,
    "start_time": "2023-03-23T10:09:44.611Z"
   },
   {
    "duration": 25,
    "start_time": "2023-03-23T10:13:58.008Z"
   },
   {
    "duration": 5,
    "start_time": "2023-03-23T10:14:03.568Z"
   },
   {
    "duration": 36,
    "start_time": "2023-03-23T10:14:03.576Z"
   },
   {
    "duration": 20,
    "start_time": "2023-03-23T10:14:03.615Z"
   },
   {
    "duration": 28,
    "start_time": "2023-03-23T10:14:03.638Z"
   },
   {
    "duration": 25,
    "start_time": "2023-03-23T10:14:03.672Z"
   },
   {
    "duration": 54,
    "start_time": "2023-03-23T10:14:03.708Z"
   },
   {
    "duration": 17,
    "start_time": "2023-03-23T10:14:03.765Z"
   },
   {
    "duration": 18,
    "start_time": "2023-03-23T10:14:03.785Z"
   },
   {
    "duration": 17,
    "start_time": "2023-03-23T10:14:03.807Z"
   },
   {
    "duration": 13,
    "start_time": "2023-03-23T10:14:03.826Z"
   },
   {
    "duration": 22,
    "start_time": "2023-03-23T10:14:03.840Z"
   },
   {
    "duration": 42,
    "start_time": "2023-03-23T10:14:03.865Z"
   },
   {
    "duration": 14,
    "start_time": "2023-03-23T10:14:03.910Z"
   },
   {
    "duration": 34,
    "start_time": "2023-03-23T10:14:03.927Z"
   },
   {
    "duration": 10,
    "start_time": "2023-03-23T10:14:03.964Z"
   },
   {
    "duration": 19,
    "start_time": "2023-03-23T10:14:03.977Z"
   },
   {
    "duration": 23,
    "start_time": "2023-03-23T10:14:04.003Z"
   },
   {
    "duration": 18,
    "start_time": "2023-03-23T10:14:04.028Z"
   },
   {
    "duration": 9,
    "start_time": "2023-03-23T10:14:04.049Z"
   },
   {
    "duration": 20,
    "start_time": "2023-03-23T10:14:04.060Z"
   },
   {
    "duration": 25,
    "start_time": "2023-03-23T10:14:04.083Z"
   },
   {
    "duration": 304,
    "start_time": "2023-03-23T10:14:04.111Z"
   },
   {
    "duration": 188,
    "start_time": "2023-03-23T10:14:04.417Z"
   },
   {
    "duration": 9,
    "start_time": "2023-03-23T10:14:04.610Z"
   },
   {
    "duration": 37,
    "start_time": "2023-03-23T10:14:04.622Z"
   },
   {
    "duration": 46,
    "start_time": "2023-03-23T10:14:04.661Z"
   },
   {
    "duration": 6,
    "start_time": "2023-03-23T10:14:04.710Z"
   },
   {
    "duration": 15,
    "start_time": "2023-03-23T10:14:04.718Z"
   },
   {
    "duration": 349,
    "start_time": "2023-03-23T10:14:04.735Z"
   },
   {
    "duration": 349,
    "start_time": "2023-03-23T10:14:05.086Z"
   },
   {
    "duration": 18,
    "start_time": "2023-03-23T10:14:05.437Z"
   },
   {
    "duration": 457,
    "start_time": "2023-03-23T10:14:05.457Z"
   },
   {
    "duration": 12,
    "start_time": "2023-03-23T10:14:05.916Z"
   },
   {
    "duration": 451,
    "start_time": "2023-03-23T10:14:05.930Z"
   },
   {
    "duration": 26,
    "start_time": "2023-03-23T10:14:06.383Z"
   },
   {
    "duration": 425,
    "start_time": "2023-03-23T10:14:06.412Z"
   },
   {
    "duration": 12,
    "start_time": "2023-03-23T10:14:06.839Z"
   },
   {
    "duration": 232,
    "start_time": "2023-03-23T10:14:06.854Z"
   },
   {
    "duration": 9,
    "start_time": "2023-03-23T10:14:07.089Z"
   },
   {
    "duration": 276,
    "start_time": "2023-03-23T10:14:07.103Z"
   },
   {
    "duration": 7,
    "start_time": "2023-03-23T10:14:07.386Z"
   },
   {
    "duration": 24,
    "start_time": "2023-03-23T10:14:07.395Z"
   },
   {
    "duration": 267,
    "start_time": "2023-03-23T10:14:07.421Z"
   },
   {
    "duration": 33,
    "start_time": "2023-03-23T10:14:07.692Z"
   },
   {
    "duration": 30,
    "start_time": "2023-03-23T10:14:07.726Z"
   },
   {
    "duration": 11,
    "start_time": "2023-03-23T10:14:07.758Z"
   },
   {
    "duration": 44,
    "start_time": "2023-03-23T10:14:07.771Z"
   },
   {
    "duration": 41,
    "start_time": "2023-03-23T10:14:07.817Z"
   },
   {
    "duration": 29,
    "start_time": "2023-03-23T10:14:07.861Z"
   },
   {
    "duration": 27,
    "start_time": "2023-03-23T10:14:07.894Z"
   },
   {
    "duration": 53,
    "start_time": "2023-03-23T10:14:07.923Z"
   },
   {
    "duration": 25,
    "start_time": "2023-03-23T10:14:07.978Z"
   },
   {
    "duration": 39,
    "start_time": "2023-03-23T10:14:08.005Z"
   },
   {
    "duration": 41,
    "start_time": "2023-03-23T10:14:11.693Z"
   },
   {
    "duration": 1436,
    "start_time": "2023-03-23T10:38:28.531Z"
   },
   {
    "duration": 29,
    "start_time": "2023-03-23T10:38:29.969Z"
   },
   {
    "duration": 93,
    "start_time": "2023-03-23T10:38:30.000Z"
   },
   {
    "duration": 26,
    "start_time": "2023-03-23T10:38:30.097Z"
   },
   {
    "duration": 21,
    "start_time": "2023-03-23T10:38:30.130Z"
   },
   {
    "duration": 42,
    "start_time": "2023-03-23T10:38:30.154Z"
   },
   {
    "duration": 17,
    "start_time": "2023-03-23T10:38:30.199Z"
   },
   {
    "duration": 38,
    "start_time": "2023-03-23T10:38:30.218Z"
   },
   {
    "duration": 29,
    "start_time": "2023-03-23T10:38:30.258Z"
   },
   {
    "duration": 35,
    "start_time": "2023-03-23T10:38:30.289Z"
   },
   {
    "duration": 19,
    "start_time": "2023-03-23T10:38:30.330Z"
   },
   {
    "duration": 32,
    "start_time": "2023-03-23T10:38:30.351Z"
   },
   {
    "duration": 26,
    "start_time": "2023-03-23T10:38:30.385Z"
   },
   {
    "duration": 27,
    "start_time": "2023-03-23T10:38:30.423Z"
   },
   {
    "duration": 45,
    "start_time": "2023-03-23T10:38:30.453Z"
   },
   {
    "duration": 28,
    "start_time": "2023-03-23T10:38:30.500Z"
   },
   {
    "duration": 33,
    "start_time": "2023-03-23T10:38:30.531Z"
   },
   {
    "duration": 15,
    "start_time": "2023-03-23T10:38:30.573Z"
   },
   {
    "duration": 9,
    "start_time": "2023-03-23T10:38:30.590Z"
   },
   {
    "duration": 46,
    "start_time": "2023-03-23T10:38:30.601Z"
   },
   {
    "duration": 18,
    "start_time": "2023-03-23T10:38:30.650Z"
   },
   {
    "duration": 271,
    "start_time": "2023-03-23T10:38:30.670Z"
   },
   {
    "duration": 204,
    "start_time": "2023-03-23T10:38:30.943Z"
   },
   {
    "duration": 11,
    "start_time": "2023-03-23T10:38:31.149Z"
   },
   {
    "duration": 86,
    "start_time": "2023-03-23T10:38:31.162Z"
   },
   {
    "duration": 28,
    "start_time": "2023-03-23T10:38:31.250Z"
   },
   {
    "duration": 19,
    "start_time": "2023-03-23T10:38:31.280Z"
   },
   {
    "duration": 37,
    "start_time": "2023-03-23T10:38:31.302Z"
   },
   {
    "duration": 482,
    "start_time": "2023-03-23T10:38:31.342Z"
   },
   {
    "duration": 364,
    "start_time": "2023-03-23T10:38:31.828Z"
   },
   {
    "duration": 20,
    "start_time": "2023-03-23T10:38:32.195Z"
   },
   {
    "duration": 409,
    "start_time": "2023-03-23T10:38:32.217Z"
   },
   {
    "duration": 9,
    "start_time": "2023-03-23T10:38:32.631Z"
   },
   {
    "duration": 345,
    "start_time": "2023-03-23T10:38:32.643Z"
   },
   {
    "duration": 44,
    "start_time": "2023-03-23T10:38:32.991Z"
   },
   {
    "duration": 393,
    "start_time": "2023-03-23T10:38:33.038Z"
   },
   {
    "duration": 15,
    "start_time": "2023-03-23T10:38:33.436Z"
   },
   {
    "duration": 245,
    "start_time": "2023-03-23T10:38:33.454Z"
   },
   {
    "duration": 28,
    "start_time": "2023-03-23T10:38:33.705Z"
   },
   {
    "duration": 245,
    "start_time": "2023-03-23T10:38:33.736Z"
   },
   {
    "duration": 22,
    "start_time": "2023-03-23T10:38:33.987Z"
   },
   {
    "duration": 30,
    "start_time": "2023-03-23T10:38:34.011Z"
   },
   {
    "duration": 218,
    "start_time": "2023-03-23T10:38:34.043Z"
   },
   {
    "duration": 27,
    "start_time": "2023-03-23T10:38:34.264Z"
   },
   {
    "duration": 141,
    "start_time": "2023-03-23T10:38:34.307Z"
   },
   {
    "duration": 10,
    "start_time": "2023-03-23T10:38:34.449Z"
   },
   {
    "duration": 19,
    "start_time": "2023-03-23T10:38:34.461Z"
   },
   {
    "duration": 56,
    "start_time": "2023-03-23T10:38:34.482Z"
   },
   {
    "duration": 18,
    "start_time": "2023-03-23T10:38:34.541Z"
   },
   {
    "duration": 20,
    "start_time": "2023-03-23T10:38:34.561Z"
   },
   {
    "duration": 45,
    "start_time": "2023-03-23T10:38:34.606Z"
   },
   {
    "duration": 16,
    "start_time": "2023-03-23T10:38:34.653Z"
   },
   {
    "duration": 44,
    "start_time": "2023-03-23T10:38:34.671Z"
   },
   {
    "duration": 40,
    "start_time": "2023-03-23T10:38:34.718Z"
   },
   {
    "duration": 21,
    "start_time": "2023-03-23T10:38:34.760Z"
   }
  ],
  "kernelspec": {
   "display_name": "Python 3 (ipykernel)",
   "language": "python",
   "name": "python3"
  },
  "language_info": {
   "codemirror_mode": {
    "name": "ipython",
    "version": 3
   },
   "file_extension": ".py",
   "mimetype": "text/x-python",
   "name": "python",
   "nbconvert_exporter": "python",
   "pygments_lexer": "ipython3",
   "version": "3.9.13"
  },
  "toc": {
   "base_numbering": 1,
   "nav_menu": {
    "height": "438px",
    "width": "730px"
   },
   "number_sections": true,
   "sideBar": true,
   "skip_h1_title": true,
   "title_cell": "Table of Contents",
   "title_sidebar": "Contents",
   "toc_cell": true,
   "toc_position": {
    "height": "calc(100% - 180px)",
    "left": "10px",
    "top": "150px",
    "width": "331.865px"
   },
   "toc_section_display": true,
   "toc_window_display": true
  }
 },
 "nbformat": 4,
 "nbformat_minor": 5
}
