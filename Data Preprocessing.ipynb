{
 "cells": [
  {
   "cell_type": "markdown",
   "id": "a40fc851",
   "metadata": {
    "deletable": false,
    "editable": false,
    "id": "c81daeeb"
   },
   "source": [
    "# Исследование надежности заемщиков\n"
   ]
  },
  {
   "cell_type": "markdown",
   "id": "6c817d63",
   "metadata": {
    "deletable": false,
    "editable": false,
    "id": "827c20bf"
   },
   "source": [
    "Во второй части проекта вы выполните шаги 3 и 4. Их вручную проверит ревьюер.\n",
    "Чтобы вам не пришлось писать код заново для шагов 1 и 2, мы добавили авторские решения в ячейки с кодом. \n",
    "\n"
   ]
  },
  {
   "cell_type": "markdown",
   "id": "a6ef59f1",
   "metadata": {
    "deletable": false,
    "editable": false,
    "id": "744d7639"
   },
   "source": [
    "## Откройте таблицу и изучите общую информацию о данных"
   ]
  },
  {
   "cell_type": "markdown",
   "id": "98b8f4ac",
   "metadata": {
    "deletable": false,
    "editable": false,
    "id": "e7a14c31"
   },
   "source": [
    "**Задание 1. Импортируйте библиотеку pandas. Считайте данные из csv-файла в датафрейм и сохраните в переменную `data`. Путь к файлу:**\n",
    "\n",
    "`/datasets/data.csv`"
   ]
  },
  {
   "cell_type": "code",
   "execution_count": 1,
   "id": "aba44e2f",
   "metadata": {
    "deletable": false,
    "id": "7bcf75c9"
   },
   "outputs": [],
   "source": [
    "import pandas as pd\n",
    "\n",
    "try:\n",
    "    data = pd.read_csv('/datasets/data.csv')\n",
    "except:\n",
    "    data = pd.read_csv('https://code.s3.yandex.net/datasets/data.csv')"
   ]
  },
  {
   "cell_type": "markdown",
   "id": "e42b84de",
   "metadata": {
    "deletable": false,
    "editable": false,
    "id": "b8038fe3"
   },
   "source": [
    "**Задание 2. Выведите первые 20 строчек датафрейма `data` на экран.**"
   ]
  },
  {
   "cell_type": "code",
   "execution_count": 2,
   "id": "1b33f586",
   "metadata": {
    "deletable": false,
    "id": "2a7cab99",
    "outputId": "1a8f3ef2-d323-4ec2-ddf7-89670b5944c4"
   },
   "outputs": [
    {
     "data": {
      "text/html": [
       "<div>\n",
       "<style scoped>\n",
       "    .dataframe tbody tr th:only-of-type {\n",
       "        vertical-align: middle;\n",
       "    }\n",
       "\n",
       "    .dataframe tbody tr th {\n",
       "        vertical-align: top;\n",
       "    }\n",
       "\n",
       "    .dataframe thead th {\n",
       "        text-align: right;\n",
       "    }\n",
       "</style>\n",
       "<table border=\"1\" class=\"dataframe\">\n",
       "  <thead>\n",
       "    <tr style=\"text-align: right;\">\n",
       "      <th></th>\n",
       "      <th>children</th>\n",
       "      <th>days_employed</th>\n",
       "      <th>dob_years</th>\n",
       "      <th>education</th>\n",
       "      <th>education_id</th>\n",
       "      <th>family_status</th>\n",
       "      <th>family_status_id</th>\n",
       "      <th>gender</th>\n",
       "      <th>income_type</th>\n",
       "      <th>debt</th>\n",
       "      <th>total_income</th>\n",
       "      <th>purpose</th>\n",
       "    </tr>\n",
       "  </thead>\n",
       "  <tbody>\n",
       "    <tr>\n",
       "      <th>0</th>\n",
       "      <td>1</td>\n",
       "      <td>-8437.673028</td>\n",
       "      <td>42</td>\n",
       "      <td>высшее</td>\n",
       "      <td>0</td>\n",
       "      <td>женат / замужем</td>\n",
       "      <td>0</td>\n",
       "      <td>F</td>\n",
       "      <td>сотрудник</td>\n",
       "      <td>0</td>\n",
       "      <td>253875.639453</td>\n",
       "      <td>покупка жилья</td>\n",
       "    </tr>\n",
       "    <tr>\n",
       "      <th>1</th>\n",
       "      <td>1</td>\n",
       "      <td>-4024.803754</td>\n",
       "      <td>36</td>\n",
       "      <td>среднее</td>\n",
       "      <td>1</td>\n",
       "      <td>женат / замужем</td>\n",
       "      <td>0</td>\n",
       "      <td>F</td>\n",
       "      <td>сотрудник</td>\n",
       "      <td>0</td>\n",
       "      <td>112080.014102</td>\n",
       "      <td>приобретение автомобиля</td>\n",
       "    </tr>\n",
       "    <tr>\n",
       "      <th>2</th>\n",
       "      <td>0</td>\n",
       "      <td>-5623.422610</td>\n",
       "      <td>33</td>\n",
       "      <td>Среднее</td>\n",
       "      <td>1</td>\n",
       "      <td>женат / замужем</td>\n",
       "      <td>0</td>\n",
       "      <td>M</td>\n",
       "      <td>сотрудник</td>\n",
       "      <td>0</td>\n",
       "      <td>145885.952297</td>\n",
       "      <td>покупка жилья</td>\n",
       "    </tr>\n",
       "    <tr>\n",
       "      <th>3</th>\n",
       "      <td>3</td>\n",
       "      <td>-4124.747207</td>\n",
       "      <td>32</td>\n",
       "      <td>среднее</td>\n",
       "      <td>1</td>\n",
       "      <td>женат / замужем</td>\n",
       "      <td>0</td>\n",
       "      <td>M</td>\n",
       "      <td>сотрудник</td>\n",
       "      <td>0</td>\n",
       "      <td>267628.550329</td>\n",
       "      <td>дополнительное образование</td>\n",
       "    </tr>\n",
       "    <tr>\n",
       "      <th>4</th>\n",
       "      <td>0</td>\n",
       "      <td>340266.072047</td>\n",
       "      <td>53</td>\n",
       "      <td>среднее</td>\n",
       "      <td>1</td>\n",
       "      <td>гражданский брак</td>\n",
       "      <td>1</td>\n",
       "      <td>F</td>\n",
       "      <td>пенсионер</td>\n",
       "      <td>0</td>\n",
       "      <td>158616.077870</td>\n",
       "      <td>сыграть свадьбу</td>\n",
       "    </tr>\n",
       "    <tr>\n",
       "      <th>5</th>\n",
       "      <td>0</td>\n",
       "      <td>-926.185831</td>\n",
       "      <td>27</td>\n",
       "      <td>высшее</td>\n",
       "      <td>0</td>\n",
       "      <td>гражданский брак</td>\n",
       "      <td>1</td>\n",
       "      <td>M</td>\n",
       "      <td>компаньон</td>\n",
       "      <td>0</td>\n",
       "      <td>255763.565419</td>\n",
       "      <td>покупка жилья</td>\n",
       "    </tr>\n",
       "    <tr>\n",
       "      <th>6</th>\n",
       "      <td>0</td>\n",
       "      <td>-2879.202052</td>\n",
       "      <td>43</td>\n",
       "      <td>высшее</td>\n",
       "      <td>0</td>\n",
       "      <td>женат / замужем</td>\n",
       "      <td>0</td>\n",
       "      <td>F</td>\n",
       "      <td>компаньон</td>\n",
       "      <td>0</td>\n",
       "      <td>240525.971920</td>\n",
       "      <td>операции с жильем</td>\n",
       "    </tr>\n",
       "    <tr>\n",
       "      <th>7</th>\n",
       "      <td>0</td>\n",
       "      <td>-152.779569</td>\n",
       "      <td>50</td>\n",
       "      <td>СРЕДНЕЕ</td>\n",
       "      <td>1</td>\n",
       "      <td>женат / замужем</td>\n",
       "      <td>0</td>\n",
       "      <td>M</td>\n",
       "      <td>сотрудник</td>\n",
       "      <td>0</td>\n",
       "      <td>135823.934197</td>\n",
       "      <td>образование</td>\n",
       "    </tr>\n",
       "    <tr>\n",
       "      <th>8</th>\n",
       "      <td>2</td>\n",
       "      <td>-6929.865299</td>\n",
       "      <td>35</td>\n",
       "      <td>ВЫСШЕЕ</td>\n",
       "      <td>0</td>\n",
       "      <td>гражданский брак</td>\n",
       "      <td>1</td>\n",
       "      <td>F</td>\n",
       "      <td>сотрудник</td>\n",
       "      <td>0</td>\n",
       "      <td>95856.832424</td>\n",
       "      <td>на проведение свадьбы</td>\n",
       "    </tr>\n",
       "    <tr>\n",
       "      <th>9</th>\n",
       "      <td>0</td>\n",
       "      <td>-2188.756445</td>\n",
       "      <td>41</td>\n",
       "      <td>среднее</td>\n",
       "      <td>1</td>\n",
       "      <td>женат / замужем</td>\n",
       "      <td>0</td>\n",
       "      <td>M</td>\n",
       "      <td>сотрудник</td>\n",
       "      <td>0</td>\n",
       "      <td>144425.938277</td>\n",
       "      <td>покупка жилья для семьи</td>\n",
       "    </tr>\n",
       "    <tr>\n",
       "      <th>10</th>\n",
       "      <td>2</td>\n",
       "      <td>-4171.483647</td>\n",
       "      <td>36</td>\n",
       "      <td>высшее</td>\n",
       "      <td>0</td>\n",
       "      <td>женат / замужем</td>\n",
       "      <td>0</td>\n",
       "      <td>M</td>\n",
       "      <td>компаньон</td>\n",
       "      <td>0</td>\n",
       "      <td>113943.491460</td>\n",
       "      <td>покупка недвижимости</td>\n",
       "    </tr>\n",
       "    <tr>\n",
       "      <th>11</th>\n",
       "      <td>0</td>\n",
       "      <td>-792.701887</td>\n",
       "      <td>40</td>\n",
       "      <td>среднее</td>\n",
       "      <td>1</td>\n",
       "      <td>женат / замужем</td>\n",
       "      <td>0</td>\n",
       "      <td>F</td>\n",
       "      <td>сотрудник</td>\n",
       "      <td>0</td>\n",
       "      <td>77069.234271</td>\n",
       "      <td>покупка коммерческой недвижимости</td>\n",
       "    </tr>\n",
       "    <tr>\n",
       "      <th>12</th>\n",
       "      <td>0</td>\n",
       "      <td>NaN</td>\n",
       "      <td>65</td>\n",
       "      <td>среднее</td>\n",
       "      <td>1</td>\n",
       "      <td>гражданский брак</td>\n",
       "      <td>1</td>\n",
       "      <td>M</td>\n",
       "      <td>пенсионер</td>\n",
       "      <td>0</td>\n",
       "      <td>NaN</td>\n",
       "      <td>сыграть свадьбу</td>\n",
       "    </tr>\n",
       "    <tr>\n",
       "      <th>13</th>\n",
       "      <td>0</td>\n",
       "      <td>-1846.641941</td>\n",
       "      <td>54</td>\n",
       "      <td>неоконченное высшее</td>\n",
       "      <td>2</td>\n",
       "      <td>женат / замужем</td>\n",
       "      <td>0</td>\n",
       "      <td>F</td>\n",
       "      <td>сотрудник</td>\n",
       "      <td>0</td>\n",
       "      <td>130458.228857</td>\n",
       "      <td>приобретение автомобиля</td>\n",
       "    </tr>\n",
       "    <tr>\n",
       "      <th>14</th>\n",
       "      <td>0</td>\n",
       "      <td>-1844.956182</td>\n",
       "      <td>56</td>\n",
       "      <td>высшее</td>\n",
       "      <td>0</td>\n",
       "      <td>гражданский брак</td>\n",
       "      <td>1</td>\n",
       "      <td>F</td>\n",
       "      <td>компаньон</td>\n",
       "      <td>1</td>\n",
       "      <td>165127.911772</td>\n",
       "      <td>покупка жилой недвижимости</td>\n",
       "    </tr>\n",
       "    <tr>\n",
       "      <th>15</th>\n",
       "      <td>1</td>\n",
       "      <td>-972.364419</td>\n",
       "      <td>26</td>\n",
       "      <td>среднее</td>\n",
       "      <td>1</td>\n",
       "      <td>женат / замужем</td>\n",
       "      <td>0</td>\n",
       "      <td>F</td>\n",
       "      <td>сотрудник</td>\n",
       "      <td>0</td>\n",
       "      <td>116820.904450</td>\n",
       "      <td>строительство собственной недвижимости</td>\n",
       "    </tr>\n",
       "    <tr>\n",
       "      <th>16</th>\n",
       "      <td>0</td>\n",
       "      <td>-1719.934226</td>\n",
       "      <td>35</td>\n",
       "      <td>среднее</td>\n",
       "      <td>1</td>\n",
       "      <td>женат / замужем</td>\n",
       "      <td>0</td>\n",
       "      <td>F</td>\n",
       "      <td>сотрудник</td>\n",
       "      <td>0</td>\n",
       "      <td>289202.704229</td>\n",
       "      <td>недвижимость</td>\n",
       "    </tr>\n",
       "    <tr>\n",
       "      <th>17</th>\n",
       "      <td>0</td>\n",
       "      <td>-2369.999720</td>\n",
       "      <td>33</td>\n",
       "      <td>высшее</td>\n",
       "      <td>0</td>\n",
       "      <td>гражданский брак</td>\n",
       "      <td>1</td>\n",
       "      <td>M</td>\n",
       "      <td>сотрудник</td>\n",
       "      <td>0</td>\n",
       "      <td>90410.586745</td>\n",
       "      <td>строительство недвижимости</td>\n",
       "    </tr>\n",
       "    <tr>\n",
       "      <th>18</th>\n",
       "      <td>0</td>\n",
       "      <td>400281.136913</td>\n",
       "      <td>53</td>\n",
       "      <td>среднее</td>\n",
       "      <td>1</td>\n",
       "      <td>вдовец / вдова</td>\n",
       "      <td>2</td>\n",
       "      <td>F</td>\n",
       "      <td>пенсионер</td>\n",
       "      <td>0</td>\n",
       "      <td>56823.777243</td>\n",
       "      <td>на покупку подержанного автомобиля</td>\n",
       "    </tr>\n",
       "    <tr>\n",
       "      <th>19</th>\n",
       "      <td>0</td>\n",
       "      <td>-10038.818549</td>\n",
       "      <td>48</td>\n",
       "      <td>СРЕДНЕЕ</td>\n",
       "      <td>1</td>\n",
       "      <td>в разводе</td>\n",
       "      <td>3</td>\n",
       "      <td>F</td>\n",
       "      <td>сотрудник</td>\n",
       "      <td>0</td>\n",
       "      <td>242831.107982</td>\n",
       "      <td>на покупку своего автомобиля</td>\n",
       "    </tr>\n",
       "  </tbody>\n",
       "</table>\n",
       "</div>"
      ],
      "text/plain": [
       "    children  days_employed  dob_years            education  education_id  \\\n",
       "0          1   -8437.673028         42               высшее             0   \n",
       "1          1   -4024.803754         36              среднее             1   \n",
       "2          0   -5623.422610         33              Среднее             1   \n",
       "3          3   -4124.747207         32              среднее             1   \n",
       "4          0  340266.072047         53              среднее             1   \n",
       "5          0    -926.185831         27               высшее             0   \n",
       "6          0   -2879.202052         43               высшее             0   \n",
       "7          0    -152.779569         50              СРЕДНЕЕ             1   \n",
       "8          2   -6929.865299         35               ВЫСШЕЕ             0   \n",
       "9          0   -2188.756445         41              среднее             1   \n",
       "10         2   -4171.483647         36               высшее             0   \n",
       "11         0    -792.701887         40              среднее             1   \n",
       "12         0            NaN         65              среднее             1   \n",
       "13         0   -1846.641941         54  неоконченное высшее             2   \n",
       "14         0   -1844.956182         56               высшее             0   \n",
       "15         1    -972.364419         26              среднее             1   \n",
       "16         0   -1719.934226         35              среднее             1   \n",
       "17         0   -2369.999720         33               высшее             0   \n",
       "18         0  400281.136913         53              среднее             1   \n",
       "19         0  -10038.818549         48              СРЕДНЕЕ             1   \n",
       "\n",
       "       family_status  family_status_id gender income_type  debt  \\\n",
       "0    женат / замужем                 0      F   сотрудник     0   \n",
       "1    женат / замужем                 0      F   сотрудник     0   \n",
       "2    женат / замужем                 0      M   сотрудник     0   \n",
       "3    женат / замужем                 0      M   сотрудник     0   \n",
       "4   гражданский брак                 1      F   пенсионер     0   \n",
       "5   гражданский брак                 1      M   компаньон     0   \n",
       "6    женат / замужем                 0      F   компаньон     0   \n",
       "7    женат / замужем                 0      M   сотрудник     0   \n",
       "8   гражданский брак                 1      F   сотрудник     0   \n",
       "9    женат / замужем                 0      M   сотрудник     0   \n",
       "10   женат / замужем                 0      M   компаньон     0   \n",
       "11   женат / замужем                 0      F   сотрудник     0   \n",
       "12  гражданский брак                 1      M   пенсионер     0   \n",
       "13   женат / замужем                 0      F   сотрудник     0   \n",
       "14  гражданский брак                 1      F   компаньон     1   \n",
       "15   женат / замужем                 0      F   сотрудник     0   \n",
       "16   женат / замужем                 0      F   сотрудник     0   \n",
       "17  гражданский брак                 1      M   сотрудник     0   \n",
       "18    вдовец / вдова                 2      F   пенсионер     0   \n",
       "19         в разводе                 3      F   сотрудник     0   \n",
       "\n",
       "     total_income                                 purpose  \n",
       "0   253875.639453                           покупка жилья  \n",
       "1   112080.014102                 приобретение автомобиля  \n",
       "2   145885.952297                           покупка жилья  \n",
       "3   267628.550329              дополнительное образование  \n",
       "4   158616.077870                         сыграть свадьбу  \n",
       "5   255763.565419                           покупка жилья  \n",
       "6   240525.971920                       операции с жильем  \n",
       "7   135823.934197                             образование  \n",
       "8    95856.832424                   на проведение свадьбы  \n",
       "9   144425.938277                 покупка жилья для семьи  \n",
       "10  113943.491460                    покупка недвижимости  \n",
       "11   77069.234271       покупка коммерческой недвижимости  \n",
       "12            NaN                         сыграть свадьбу  \n",
       "13  130458.228857                 приобретение автомобиля  \n",
       "14  165127.911772              покупка жилой недвижимости  \n",
       "15  116820.904450  строительство собственной недвижимости  \n",
       "16  289202.704229                            недвижимость  \n",
       "17   90410.586745              строительство недвижимости  \n",
       "18   56823.777243      на покупку подержанного автомобиля  \n",
       "19  242831.107982            на покупку своего автомобиля  "
      ]
     },
     "execution_count": 2,
     "metadata": {},
     "output_type": "execute_result"
    }
   ],
   "source": [
    "data.head(20)"
   ]
  },
  {
   "cell_type": "markdown",
   "id": "9c31910f",
   "metadata": {
    "deletable": false,
    "editable": false,
    "id": "1c12e233"
   },
   "source": [
    "**Задание 3. Выведите основную информацию о датафрейме с помощью метода `info()`.**"
   ]
  },
  {
   "cell_type": "code",
   "execution_count": 3,
   "id": "45fb45d3",
   "metadata": {
    "deletable": false,
    "id": "2b757bca",
    "outputId": "15376089-8dad-46c9-b520-c05248d43158"
   },
   "outputs": [
    {
     "name": "stdout",
     "output_type": "stream",
     "text": [
      "<class 'pandas.core.frame.DataFrame'>\n",
      "RangeIndex: 21525 entries, 0 to 21524\n",
      "Data columns (total 12 columns):\n",
      " #   Column            Non-Null Count  Dtype  \n",
      "---  ------            --------------  -----  \n",
      " 0   children          21525 non-null  int64  \n",
      " 1   days_employed     19351 non-null  float64\n",
      " 2   dob_years         21525 non-null  int64  \n",
      " 3   education         21525 non-null  object \n",
      " 4   education_id      21525 non-null  int64  \n",
      " 5   family_status     21525 non-null  object \n",
      " 6   family_status_id  21525 non-null  int64  \n",
      " 7   gender            21525 non-null  object \n",
      " 8   income_type       21525 non-null  object \n",
      " 9   debt              21525 non-null  int64  \n",
      " 10  total_income      19351 non-null  float64\n",
      " 11  purpose           21525 non-null  object \n",
      "dtypes: float64(2), int64(5), object(5)\n",
      "memory usage: 2.0+ MB\n"
     ]
    }
   ],
   "source": [
    "data.info()"
   ]
  },
  {
   "cell_type": "markdown",
   "id": "94dced4f",
   "metadata": {
    "deletable": false,
    "editable": false,
    "id": "333ec665"
   },
   "source": [
    "## Предобработка данных"
   ]
  },
  {
   "cell_type": "markdown",
   "id": "7cd36451",
   "metadata": {
    "deletable": false,
    "editable": false,
    "id": "02d92d53"
   },
   "source": [
    "### Удаление пропусков"
   ]
  },
  {
   "cell_type": "markdown",
   "id": "02ba88f2",
   "metadata": {
    "deletable": false,
    "editable": false,
    "id": "cd84967c"
   },
   "source": [
    "**Задание 4. Выведите количество пропущенных значений для каждого столбца. Используйте комбинацию двух методов.**"
   ]
  },
  {
   "cell_type": "code",
   "execution_count": 4,
   "id": "88dc9ec2",
   "metadata": {
    "deletable": false,
    "id": "7f9b2309",
    "outputId": "81f4d817-781c-465c-ed15-91ce4446810d"
   },
   "outputs": [
    {
     "data": {
      "text/plain": [
       "children               0\n",
       "days_employed       2174\n",
       "dob_years              0\n",
       "education              0\n",
       "education_id           0\n",
       "family_status          0\n",
       "family_status_id       0\n",
       "gender                 0\n",
       "income_type            0\n",
       "debt                   0\n",
       "total_income        2174\n",
       "purpose                0\n",
       "dtype: int64"
      ]
     },
     "execution_count": 4,
     "metadata": {},
     "output_type": "execute_result"
    }
   ],
   "source": [
    "data.isna().sum()"
   ]
  },
  {
   "cell_type": "markdown",
   "id": "dea17672",
   "metadata": {
    "deletable": false,
    "editable": false,
    "id": "db86e27b"
   },
   "source": [
    "**Задание 5. В двух столбцах есть пропущенные значения. Один из них — `days_employed`. Пропуски в этом столбце вы обработаете на следующем этапе. Другой столбец с пропущенными значениями — `total_income` — хранит данные о доходах. На сумму дохода сильнее всего влияет тип занятости, поэтому заполнить пропуски в этом столбце нужно медианным значением по каждому типу из столбца `income_type`. Например, у человека с типом занятости `сотрудник` пропуск в столбце `total_income` должен быть заполнен медианным доходом среди всех записей с тем же типом.**"
   ]
  },
  {
   "cell_type": "code",
   "execution_count": 5,
   "id": "7b1f4d0b",
   "metadata": {
    "deletable": false,
    "id": "42006a93"
   },
   "outputs": [],
   "source": [
    "for t in data['income_type'].unique():\n",
    "    data.loc[(data['income_type'] == t) & (data['total_income'].isna()), 'total_income'] = \\\n",
    "    data.loc[(data['income_type'] == t), 'total_income'].median()"
   ]
  },
  {
   "cell_type": "markdown",
   "id": "d917d487",
   "metadata": {
    "deletable": false,
    "editable": false,
    "id": "89da5ece"
   },
   "source": [
    "### Обработка аномальных значений"
   ]
  },
  {
   "cell_type": "markdown",
   "id": "febebdcc",
   "metadata": {
    "deletable": false,
    "editable": false,
    "id": "57964554"
   },
   "source": [
    "**Задание 6. В данных могут встречаться артефакты (аномалии) — значения, которые не отражают действительность и появились по какой-то ошибке. таким артефактом будет отрицательное количество дней трудового стажа в столбце `days_employed`. Для реальных данных это нормально. Обработайте значения в этом столбце: замените все отрицательные значения положительными с помощью метода `abs()`.**"
   ]
  },
  {
   "cell_type": "code",
   "execution_count": 6,
   "id": "eb0dc5a5",
   "metadata": {
    "deletable": false,
    "id": "f6f055bf"
   },
   "outputs": [],
   "source": [
    "data['days_employed'] = data['days_employed'].abs()"
   ]
  },
  {
   "cell_type": "markdown",
   "id": "3f85382b",
   "metadata": {
    "deletable": false,
    "editable": false,
    "id": "6107dd2f"
   },
   "source": [
    "**Задание 7. Для каждого типа занятости выведите медианное значение трудового стажа `days_employed` в днях.**"
   ]
  },
  {
   "cell_type": "code",
   "execution_count": 7,
   "id": "43014dce",
   "metadata": {
    "deletable": false,
    "id": "85a5faf6",
    "outputId": "801ef80e-522b-4668-f34e-565af7432bcf"
   },
   "outputs": [
    {
     "data": {
      "text/plain": [
       "income_type\n",
       "безработный        366413.652744\n",
       "в декрете            3296.759962\n",
       "госслужащий          2689.368353\n",
       "компаньон            1547.382223\n",
       "пенсионер          365213.306266\n",
       "предприниматель       520.848083\n",
       "сотрудник            1574.202821\n",
       "студент               578.751554\n",
       "Name: days_employed, dtype: float64"
      ]
     },
     "execution_count": 7,
     "metadata": {},
     "output_type": "execute_result"
    }
   ],
   "source": [
    "data.groupby('income_type')['days_employed'].agg('median')"
   ]
  },
  {
   "cell_type": "markdown",
   "id": "a78dc5db",
   "metadata": {
    "deletable": false,
    "editable": false,
    "id": "38d1a030"
   },
   "source": [
    "У двух типов (безработные и пенсионеры) получатся аномально большие значения. Исправить такие значения сложно, поэтому оставьте их как есть. Тем более этот столбец не понадобится вам для исследования."
   ]
  },
  {
   "cell_type": "markdown",
   "id": "7dc9dcf2",
   "metadata": {
    "deletable": false,
    "editable": false,
    "id": "d8a9f147"
   },
   "source": [
    "**Задание 8. Выведите перечень уникальных значений столбца `children`.**"
   ]
  },
  {
   "cell_type": "code",
   "execution_count": 8,
   "id": "270ceba7",
   "metadata": {
    "deletable": false,
    "id": "ef5056eb",
    "outputId": "6975b15c-7f95-4697-d16d-a0c79b657b03"
   },
   "outputs": [
    {
     "data": {
      "text/plain": [
       "array([ 1,  0,  3,  2, -1,  4, 20,  5])"
      ]
     },
     "execution_count": 8,
     "metadata": {},
     "output_type": "execute_result"
    }
   ],
   "source": [
    "data['children'].unique()"
   ]
  },
  {
   "cell_type": "markdown",
   "id": "7c8e4403",
   "metadata": {
    "deletable": false,
    "editable": false,
    "id": "40b9ebf2"
   },
   "source": [
    "**Задание 9. В столбце `children` есть два аномальных значения. Удалите строки, в которых встречаются такие аномальные значения из датафрейма `data`.**"
   ]
  },
  {
   "cell_type": "code",
   "execution_count": 9,
   "id": "b16e3291",
   "metadata": {
    "deletable": false,
    "id": "3ff9801d"
   },
   "outputs": [],
   "source": [
    "data = data[(data['children'] != -1) & (data['children'] != 20)]"
   ]
  },
  {
   "cell_type": "markdown",
   "id": "e6a73c56",
   "metadata": {
    "deletable": false,
    "editable": false,
    "id": "bbc4d0ce"
   },
   "source": [
    "**Задание 10. Ещё раз выведите перечень уникальных значений столбца `children`, чтобы убедиться, что артефакты удалены.**"
   ]
  },
  {
   "cell_type": "code",
   "execution_count": 10,
   "id": "b1aba676",
   "metadata": {
    "deletable": false,
    "id": "ad4fa8b7",
    "outputId": "b2097101-d49d-44d9-901b-32a65c9463d1"
   },
   "outputs": [
    {
     "data": {
      "text/plain": [
       "array([1, 0, 3, 2, 4, 5])"
      ]
     },
     "execution_count": 10,
     "metadata": {},
     "output_type": "execute_result"
    }
   ],
   "source": [
    "data['children'].unique()"
   ]
  },
  {
   "cell_type": "markdown",
   "id": "32afd314",
   "metadata": {
    "deletable": false,
    "editable": false,
    "id": "75440b63"
   },
   "source": [
    "### Удаление пропусков (продолжение)"
   ]
  },
  {
   "cell_type": "markdown",
   "id": "6731ba25",
   "metadata": {
    "deletable": false,
    "editable": false,
    "id": "f4ea573f"
   },
   "source": [
    "**Задание 11. Заполните пропуски в столбце `days_employed` медианными значениями по каждого типа занятости `income_type`.**"
   ]
  },
  {
   "cell_type": "code",
   "execution_count": 11,
   "id": "e2302073",
   "metadata": {
    "deletable": false,
    "id": "af6b1a7e"
   },
   "outputs": [],
   "source": [
    "for t in data['income_type'].unique():\n",
    "    data.loc[(data['income_type'] == t) & (data['days_employed'].isna()), 'days_employed'] = \\\n",
    "    data.loc[(data['income_type'] == t), 'days_employed'].median()"
   ]
  },
  {
   "cell_type": "markdown",
   "id": "5f0247f7",
   "metadata": {
    "deletable": false,
    "editable": false,
    "id": "2753f40d"
   },
   "source": [
    "**Задание 12. Убедитесь, что все пропуски заполнены. Проверьте себя и ещё раз выведите количество пропущенных значений для каждого столбца с помощью двух методов.**"
   ]
  },
  {
   "cell_type": "code",
   "execution_count": 12,
   "id": "88495e0b",
   "metadata": {
    "deletable": false,
    "id": "55f78bc2",
    "outputId": "8da1e4e1-358e-4e87-98c9-f261bce0a7b2"
   },
   "outputs": [
    {
     "data": {
      "text/plain": [
       "children            0\n",
       "days_employed       0\n",
       "dob_years           0\n",
       "education           0\n",
       "education_id        0\n",
       "family_status       0\n",
       "family_status_id    0\n",
       "gender              0\n",
       "income_type         0\n",
       "debt                0\n",
       "total_income        0\n",
       "purpose             0\n",
       "dtype: int64"
      ]
     },
     "execution_count": 12,
     "metadata": {},
     "output_type": "execute_result"
    }
   ],
   "source": [
    "data.isna().sum()"
   ]
  },
  {
   "cell_type": "markdown",
   "id": "fd481e3d",
   "metadata": {
    "deletable": false,
    "editable": false,
    "id": "ddc81e43"
   },
   "source": [
    "### Изменение типов данных"
   ]
  },
  {
   "cell_type": "markdown",
   "id": "7c3c99e8",
   "metadata": {
    "deletable": false,
    "editable": false,
    "id": "42d19d24"
   },
   "source": [
    "**Задание 13. Замените вещественный тип данных в столбце `total_income` на целочисленный с помощью метода `astype()`.**"
   ]
  },
  {
   "cell_type": "code",
   "execution_count": 13,
   "id": "c5e57100",
   "metadata": {
    "deletable": false,
    "id": "920b65ad"
   },
   "outputs": [],
   "source": [
    "data['total_income'] = data['total_income'].astype(int)"
   ]
  },
  {
   "cell_type": "markdown",
   "id": "d499756e",
   "metadata": {
    "deletable": false,
    "editable": false,
    "id": "80c420ba"
   },
   "source": [
    "### Обработка дубликатов"
   ]
  },
  {
   "cell_type": "markdown",
   "id": "cb9d5c29",
   "metadata": {
    "deletable": false,
    "editable": false
   },
   "source": [
    "**Задание 14. Обработайте неявные дубликаты в столбце `education`. В этом столбце есть одни и те же значения, но записанные по-разному: с использованием заглавных и строчных букв. Приведите их к нижнему регистру. Проверьте остальные столбцы.**"
   ]
  },
  {
   "cell_type": "code",
   "execution_count": 14,
   "id": "9382b5a6",
   "metadata": {
    "deletable": false
   },
   "outputs": [],
   "source": [
    "data['education'] = data['education'].str.lower()"
   ]
  },
  {
   "cell_type": "markdown",
   "id": "7ccdcd5c",
   "metadata": {
    "deletable": false,
    "editable": false,
    "id": "dc587695"
   },
   "source": [
    "**Задание 15. Выведите на экран количество строк-дубликатов в данных. Если такие строки присутствуют, удалите их.**"
   ]
  },
  {
   "cell_type": "code",
   "execution_count": 15,
   "id": "9228e6dd",
   "metadata": {
    "deletable": false,
    "id": "3ee445e4",
    "outputId": "9684deba-1934-42d1-99e1-cda61740f822"
   },
   "outputs": [
    {
     "data": {
      "text/plain": [
       "71"
      ]
     },
     "execution_count": 15,
     "metadata": {},
     "output_type": "execute_result"
    }
   ],
   "source": [
    "data.duplicated().sum()"
   ]
  },
  {
   "cell_type": "code",
   "execution_count": 16,
   "id": "41a5761b",
   "metadata": {
    "deletable": false,
    "id": "8575fe05"
   },
   "outputs": [],
   "source": [
    "data = data.drop_duplicates()"
   ]
  },
  {
   "cell_type": "markdown",
   "id": "02b7a0bb",
   "metadata": {
    "deletable": false,
    "editable": false,
    "id": "9904cf55"
   },
   "source": [
    "### Категоризация данных"
   ]
  },
  {
   "cell_type": "markdown",
   "id": "7d03c2f9",
   "metadata": {
    "deletable": false,
    "editable": false,
    "id": "72fcc8a2"
   },
   "source": [
    "**Задание 16. На основании диапазонов, указанных ниже, создайте в датафрейме `data` столбец `total_income_category` с категориями:**\n",
    "\n",
    "- 0–30000 — `'E'`;\n",
    "- 30001–50000 — `'D'`;\n",
    "- 50001–200000 — `'C'`;\n",
    "- 200001–1000000 — `'B'`;\n",
    "- 1000001 и выше — `'A'`.\n",
    "\n",
    "\n",
    "**Например, кредитополучателю с доходом 25000 нужно назначить категорию `'E'`, а клиенту, получающему 235000, — `'B'`. Используйте собственную функцию с именем `categorize_income()` и метод `apply()`.**"
   ]
  },
  {
   "cell_type": "code",
   "execution_count": 17,
   "id": "1b756295",
   "metadata": {
    "deletable": false,
    "id": "e1771346"
   },
   "outputs": [],
   "source": [
    "def categorize_income(income):\n",
    "    try:\n",
    "        if 0 <= income <= 30000:\n",
    "            return 'E'\n",
    "        elif 30001 <= income <= 50000:\n",
    "            return 'D'\n",
    "        elif 50001 <= income <= 200000:\n",
    "            return 'C'\n",
    "        elif 200001 <= income <= 1000000:\n",
    "            return 'B'\n",
    "        elif income >= 1000001:\n",
    "            return 'A'\n",
    "    except:\n",
    "        pass"
   ]
  },
  {
   "cell_type": "code",
   "execution_count": 18,
   "id": "ddb34849",
   "metadata": {
    "deletable": false,
    "id": "d5f3586d"
   },
   "outputs": [],
   "source": [
    "data['total_income_category'] = data['total_income'].apply(categorize_income)"
   ]
  },
  {
   "cell_type": "markdown",
   "id": "bcee4df4",
   "metadata": {
    "deletable": false,
    "editable": false,
    "id": "dde49b5c"
   },
   "source": [
    "**Задание 17. Выведите на экран перечень уникальных целей взятия кредита из столбца `purpose`.**"
   ]
  },
  {
   "cell_type": "code",
   "execution_count": 19,
   "id": "1b0be1a8",
   "metadata": {
    "deletable": false,
    "id": "f67ce9b3",
    "outputId": "673c12d9-7d7e-4ae0-9812-c622c89dd244"
   },
   "outputs": [
    {
     "data": {
      "text/plain": [
       "array(['покупка жилья', 'приобретение автомобиля',\n",
       "       'дополнительное образование', 'сыграть свадьбу',\n",
       "       'операции с жильем', 'образование', 'на проведение свадьбы',\n",
       "       'покупка жилья для семьи', 'покупка недвижимости',\n",
       "       'покупка коммерческой недвижимости', 'покупка жилой недвижимости',\n",
       "       'строительство собственной недвижимости', 'недвижимость',\n",
       "       'строительство недвижимости', 'на покупку подержанного автомобиля',\n",
       "       'на покупку своего автомобиля',\n",
       "       'операции с коммерческой недвижимостью',\n",
       "       'строительство жилой недвижимости', 'жилье',\n",
       "       'операции со своей недвижимостью', 'автомобили',\n",
       "       'заняться образованием', 'сделка с подержанным автомобилем',\n",
       "       'получение образования', 'автомобиль', 'свадьба',\n",
       "       'получение дополнительного образования', 'покупка своего жилья',\n",
       "       'операции с недвижимостью', 'получение высшего образования',\n",
       "       'свой автомобиль', 'сделка с автомобилем',\n",
       "       'профильное образование', 'высшее образование',\n",
       "       'покупка жилья для сдачи', 'на покупку автомобиля', 'ремонт жилью',\n",
       "       'заняться высшим образованием'], dtype=object)"
      ]
     },
     "execution_count": 19,
     "metadata": {},
     "output_type": "execute_result"
    }
   ],
   "source": [
    "data['purpose'].unique()"
   ]
  },
  {
   "cell_type": "markdown",
   "id": "6023668b",
   "metadata": {
    "deletable": false,
    "editable": false,
    "id": "85d0aef0"
   },
   "source": [
    "**Задание 18. Создайте функцию, которая на основании данных из столбца `purpose` сформирует новый столбец `purpose_category`, в который войдут следующие категории:**\n",
    "\n",
    "- `'операции с автомобилем'`,\n",
    "- `'операции с недвижимостью'`,\n",
    "- `'проведение свадьбы'`,\n",
    "- `'получение образования'`.\n",
    "\n",
    "**Например, если в столбце `purpose` находится подстрока `'на покупку автомобиля'`, то в столбце `purpose_category` должна появиться строка `'операции с автомобилем'`.**\n",
    "\n",
    "**Используйте собственную функцию с именем `categorize_purpose()` и метод `apply()`. Изучите данные в столбце `purpose` и определите, какие подстроки помогут вам правильно определить категорию.**"
   ]
  },
  {
   "cell_type": "code",
   "execution_count": 20,
   "id": "b04652cb",
   "metadata": {
    "deletable": false,
    "id": "e149fab4"
   },
   "outputs": [],
   "source": [
    "def categorize_purpose(row):\n",
    "    try:\n",
    "        if 'автом' in row:\n",
    "            return 'операции с автомобилем'\n",
    "        elif 'жил' in row or 'недвиж' in row:\n",
    "            return 'операции с недвижимостью'\n",
    "        elif 'свад' in row:\n",
    "            return 'проведение свадьбы'\n",
    "        elif 'образов' in row:\n",
    "            return 'получение образования'\n",
    "    except:\n",
    "        return 'нет категории'"
   ]
  },
  {
   "cell_type": "code",
   "execution_count": 21,
   "id": "deedcda3",
   "metadata": {
    "deletable": false,
    "id": "bf36e69b"
   },
   "outputs": [],
   "source": [
    "data['purpose_category'] = data['purpose'].apply(categorize_purpose)"
   ]
  },
  {
   "cell_type": "markdown",
   "id": "8b841b69",
   "metadata": {
    "deletable": false,
    "editable": false,
    "id": "09b242bf"
   },
   "source": [
    "### Шаг 3. Исследуйте данные и ответьте на вопросы"
   ]
  },
  {
   "cell_type": "markdown",
   "id": "0f0fe69d",
   "metadata": {
    "deletable": false,
    "editable": false,
    "id": "c5d66278"
   },
   "source": [
    "#### 3.1 Есть ли зависимость между количеством детей и возвратом кредита в срок?"
   ]
  },
  {
   "cell_type": "code",
   "execution_count": 22,
   "id": "82e220a5",
   "metadata": {
    "deletable": false,
    "id": "2cacfc4a"
   },
   "outputs": [
    {
     "name": "stdout",
     "output_type": "stream",
     "text": [
      "           sum  count      mean\n",
      "          debt   debt      debt\n",
      "children                       \n",
      "0         1063  14091  0.075438\n",
      "1          444   4808  0.092346\n",
      "2          194   2052  0.094542\n",
      "3           27    330  0.081818\n",
      "4            4     41  0.097561\n",
      "5            0      9  0.000000\n"
     ]
    }
   ],
   "source": [
    "# Создадим \"широкую таблицу\" для изучения соотношения неплатильщиков к общему числу клиентов,\n",
    "# имеющих определенное количество детей. Используем два столбца - children и debt.\n",
    "data_pivot_children = data.pivot_table(index = 'children', values = 'debt', aggfunc = ['sum','count','mean'])\n",
    "print(data_pivot_children)\n"
   ]
  },
  {
   "cell_type": "code",
   "execution_count": 23,
   "id": "bd02eefb",
   "metadata": {},
   "outputs": [
    {
     "data": {
      "text/html": [
       "<div>\n",
       "<style scoped>\n",
       "    .dataframe tbody tr th:only-of-type {\n",
       "        vertical-align: middle;\n",
       "    }\n",
       "\n",
       "    .dataframe tbody tr th {\n",
       "        vertical-align: top;\n",
       "    }\n",
       "\n",
       "    .dataframe thead tr th {\n",
       "        text-align: left;\n",
       "    }\n",
       "\n",
       "    .dataframe thead tr:last-of-type th {\n",
       "        text-align: right;\n",
       "    }\n",
       "</style>\n",
       "<table border=\"1\" class=\"dataframe\">\n",
       "  <thead>\n",
       "    <tr>\n",
       "      <th></th>\n",
       "      <th>sum</th>\n",
       "      <th>count</th>\n",
       "      <th>mean</th>\n",
       "      <th>mean_percent</th>\n",
       "    </tr>\n",
       "    <tr>\n",
       "      <th></th>\n",
       "      <th>debt</th>\n",
       "      <th>debt</th>\n",
       "      <th>debt</th>\n",
       "      <th></th>\n",
       "    </tr>\n",
       "    <tr>\n",
       "      <th>children</th>\n",
       "      <th></th>\n",
       "      <th></th>\n",
       "      <th></th>\n",
       "      <th></th>\n",
       "    </tr>\n",
       "  </thead>\n",
       "  <tbody>\n",
       "    <tr>\n",
       "      <th>0</th>\n",
       "      <td>1063</td>\n",
       "      <td>14091</td>\n",
       "      <td>0.075438</td>\n",
       "      <td>7.543822</td>\n",
       "    </tr>\n",
       "    <tr>\n",
       "      <th>1</th>\n",
       "      <td>444</td>\n",
       "      <td>4808</td>\n",
       "      <td>0.092346</td>\n",
       "      <td>9.234609</td>\n",
       "    </tr>\n",
       "    <tr>\n",
       "      <th>2</th>\n",
       "      <td>194</td>\n",
       "      <td>2052</td>\n",
       "      <td>0.094542</td>\n",
       "      <td>9.454191</td>\n",
       "    </tr>\n",
       "    <tr>\n",
       "      <th>3</th>\n",
       "      <td>27</td>\n",
       "      <td>330</td>\n",
       "      <td>0.081818</td>\n",
       "      <td>8.181818</td>\n",
       "    </tr>\n",
       "    <tr>\n",
       "      <th>4</th>\n",
       "      <td>4</td>\n",
       "      <td>41</td>\n",
       "      <td>0.097561</td>\n",
       "      <td>9.756098</td>\n",
       "    </tr>\n",
       "    <tr>\n",
       "      <th>5</th>\n",
       "      <td>0</td>\n",
       "      <td>9</td>\n",
       "      <td>0.000000</td>\n",
       "      <td>0.000000</td>\n",
       "    </tr>\n",
       "  </tbody>\n",
       "</table>\n",
       "</div>"
      ],
      "text/plain": [
       "           sum  count      mean mean_percent\n",
       "          debt   debt      debt             \n",
       "children                                    \n",
       "0         1063  14091  0.075438     7.543822\n",
       "1          444   4808  0.092346     9.234609\n",
       "2          194   2052  0.094542     9.454191\n",
       "3           27    330  0.081818     8.181818\n",
       "4            4     41  0.097561     9.756098\n",
       "5            0      9  0.000000     0.000000"
      ]
     },
     "execution_count": 23,
     "metadata": {},
     "output_type": "execute_result"
    }
   ],
   "source": [
    "data_pivot_children['mean_percent'] = data_pivot_children['mean','debt']*100\n",
    "#создадим новый столбец с процентами для наглядности\n",
    "data_pivot_children\n"
   ]
  },
  {
   "cell_type": "markdown",
   "id": "d058dafe",
   "metadata": {
    "deletable": false,
    "id": "3a6b99ec"
   },
   "source": [
    "**Вывод:** \n",
    "Долговая нагрузка хуже переносится клиентами с детьми. Вероятно, им сложнее придерживаться регулярных платежей, потому что непредвиденные расходы возникают чаще. Также можно сделать вывод, что родителей пятерых детей слишком мало в выборке для анализа, на 9 человек неплатильщиков получилось 0. В целом доля неплатильщиков с детьми больше, чем бездетных.\n"
   ]
  },
  {
   "cell_type": "markdown",
   "id": "54f84f31",
   "metadata": {
    "deletable": false,
    "editable": false,
    "id": "97be82ca"
   },
   "source": [
    "#### 3.2 Есть ли зависимость между семейным положением и возвратом кредита в срок?"
   ]
  },
  {
   "cell_type": "markdown",
   "id": "6a11a725",
   "metadata": {
    "deletable": false,
    "id": "dc3f7ee8"
   },
   "source": [
    "Рассмотрим, какие есть семейные статусы и как они соотносятся со стобцом задолжностей\n"
   ]
  },
  {
   "cell_type": "code",
   "execution_count": 24,
   "id": "d2848b53",
   "metadata": {},
   "outputs": [
    {
     "data": {
      "text/html": [
       "<div>\n",
       "<style scoped>\n",
       "    .dataframe tbody tr th:only-of-type {\n",
       "        vertical-align: middle;\n",
       "    }\n",
       "\n",
       "    .dataframe tbody tr th {\n",
       "        vertical-align: top;\n",
       "    }\n",
       "\n",
       "    .dataframe thead tr th {\n",
       "        text-align: left;\n",
       "    }\n",
       "\n",
       "    .dataframe thead tr:last-of-type th {\n",
       "        text-align: right;\n",
       "    }\n",
       "</style>\n",
       "<table border=\"1\" class=\"dataframe\">\n",
       "  <thead>\n",
       "    <tr>\n",
       "      <th></th>\n",
       "      <th>sum</th>\n",
       "      <th>count</th>\n",
       "      <th>mean</th>\n",
       "      <th>mean_percent</th>\n",
       "    </tr>\n",
       "    <tr>\n",
       "      <th></th>\n",
       "      <th>debt</th>\n",
       "      <th>debt</th>\n",
       "      <th>debt</th>\n",
       "      <th></th>\n",
       "    </tr>\n",
       "    <tr>\n",
       "      <th>family_status</th>\n",
       "      <th></th>\n",
       "      <th></th>\n",
       "      <th></th>\n",
       "      <th></th>\n",
       "    </tr>\n",
       "  </thead>\n",
       "  <tbody>\n",
       "    <tr>\n",
       "      <th>Не женат / не замужем</th>\n",
       "      <td>273</td>\n",
       "      <td>2796</td>\n",
       "      <td>0.097639</td>\n",
       "      <td>9.763948</td>\n",
       "    </tr>\n",
       "    <tr>\n",
       "      <th>в разводе</th>\n",
       "      <td>84</td>\n",
       "      <td>1189</td>\n",
       "      <td>0.070648</td>\n",
       "      <td>7.064760</td>\n",
       "    </tr>\n",
       "    <tr>\n",
       "      <th>вдовец / вдова</th>\n",
       "      <td>63</td>\n",
       "      <td>951</td>\n",
       "      <td>0.066246</td>\n",
       "      <td>6.624606</td>\n",
       "    </tr>\n",
       "    <tr>\n",
       "      <th>гражданский брак</th>\n",
       "      <td>385</td>\n",
       "      <td>4134</td>\n",
       "      <td>0.093130</td>\n",
       "      <td>9.313014</td>\n",
       "    </tr>\n",
       "    <tr>\n",
       "      <th>женат / замужем</th>\n",
       "      <td>927</td>\n",
       "      <td>12261</td>\n",
       "      <td>0.075606</td>\n",
       "      <td>7.560558</td>\n",
       "    </tr>\n",
       "  </tbody>\n",
       "</table>\n",
       "</div>"
      ],
      "text/plain": [
       "                       sum  count      mean mean_percent\n",
       "                      debt   debt      debt             \n",
       "family_status                                           \n",
       "Не женат / не замужем  273   2796  0.097639     9.763948\n",
       "в разводе               84   1189  0.070648     7.064760\n",
       "вдовец / вдова          63    951  0.066246     6.624606\n",
       "гражданский брак       385   4134  0.093130     9.313014\n",
       "женат / замужем        927  12261  0.075606     7.560558"
      ]
     },
     "metadata": {},
     "output_type": "display_data"
    }
   ],
   "source": [
    "data_pivot_family = data.pivot_table(index = 'family_status', values = 'debt', aggfunc = ['sum','count','mean'])\n",
    "data_pivot_family['mean_percent'] = data_pivot_family['mean','debt']*100\n",
    "\n",
    "display(data_pivot_family)\n"
   ]
  },
  {
   "cell_type": "markdown",
   "id": "8b992be0",
   "metadata": {},
   "source": [
    "Мне стало любопытно, как соотносятся семейные статусы и количество детей: тут проценты немного не сходятся со здравым смыслом: по 9+ процентов задолжностей у неженатых и в гражданском браке (в этой таблице), и по 8+, 9+ процентов у тех, у кого есть дети (в прошлой). \n",
    "\n",
    "Значит ли это, что большинство детей - из неофициальных или неполных семей или эти величины как-то по-другому соотносятся? Параллельно изучим задолжности более внимательно, это может поменять картину."
   ]
  },
  {
   "cell_type": "code",
   "execution_count": 25,
   "id": "0dfd27e3",
   "metadata": {
    "scrolled": true
   },
   "outputs": [
    {
     "data": {
      "text/html": [
       "<div>\n",
       "<style scoped>\n",
       "    .dataframe tbody tr th:only-of-type {\n",
       "        vertical-align: middle;\n",
       "    }\n",
       "\n",
       "    .dataframe tbody tr th {\n",
       "        vertical-align: top;\n",
       "    }\n",
       "\n",
       "    .dataframe thead th {\n",
       "        text-align: right;\n",
       "    }\n",
       "</style>\n",
       "<table border=\"1\" class=\"dataframe\">\n",
       "  <thead>\n",
       "    <tr style=\"text-align: right;\">\n",
       "      <th></th>\n",
       "      <th></th>\n",
       "      <th>children</th>\n",
       "      <th>debt</th>\n",
       "    </tr>\n",
       "    <tr>\n",
       "      <th>family_status</th>\n",
       "      <th>children</th>\n",
       "      <th></th>\n",
       "      <th></th>\n",
       "    </tr>\n",
       "  </thead>\n",
       "  <tbody>\n",
       "    <tr>\n",
       "      <th rowspan=\"5\" valign=\"top\">Не женат / не замужем</th>\n",
       "      <th>0</th>\n",
       "      <td>0</td>\n",
       "      <td>9.283820</td>\n",
       "    </tr>\n",
       "    <tr>\n",
       "      <th>1</th>\n",
       "      <td>449</td>\n",
       "      <td>11.581292</td>\n",
       "    </tr>\n",
       "    <tr>\n",
       "      <th>2</th>\n",
       "      <td>150</td>\n",
       "      <td>12.000000</td>\n",
       "    </tr>\n",
       "    <tr>\n",
       "      <th>3</th>\n",
       "      <td>24</td>\n",
       "      <td>12.500000</td>\n",
       "    </tr>\n",
       "    <tr>\n",
       "      <th>4</th>\n",
       "      <td>8</td>\n",
       "      <td>50.000000</td>\n",
       "    </tr>\n",
       "    <tr>\n",
       "      <th rowspan=\"5\" valign=\"top\">в разводе</th>\n",
       "      <th>0</th>\n",
       "      <td>0</td>\n",
       "      <td>7.015306</td>\n",
       "    </tr>\n",
       "    <tr>\n",
       "      <th>1</th>\n",
       "      <td>312</td>\n",
       "      <td>6.730769</td>\n",
       "    </tr>\n",
       "    <tr>\n",
       "      <th>2</th>\n",
       "      <td>162</td>\n",
       "      <td>8.641975</td>\n",
       "    </tr>\n",
       "    <tr>\n",
       "      <th>3</th>\n",
       "      <td>33</td>\n",
       "      <td>9.090909</td>\n",
       "    </tr>\n",
       "    <tr>\n",
       "      <th>4</th>\n",
       "      <td>4</td>\n",
       "      <td>0.000000</td>\n",
       "    </tr>\n",
       "    <tr>\n",
       "      <th rowspan=\"5\" valign=\"top\">вдовец / вдова</th>\n",
       "      <th>0</th>\n",
       "      <td>0</td>\n",
       "      <td>6.257379</td>\n",
       "    </tr>\n",
       "    <tr>\n",
       "      <th>1</th>\n",
       "      <td>77</td>\n",
       "      <td>9.090909</td>\n",
       "    </tr>\n",
       "    <tr>\n",
       "      <th>2</th>\n",
       "      <td>40</td>\n",
       "      <td>15.000000</td>\n",
       "    </tr>\n",
       "    <tr>\n",
       "      <th>3</th>\n",
       "      <td>18</td>\n",
       "      <td>0.000000</td>\n",
       "    </tr>\n",
       "    <tr>\n",
       "      <th>4</th>\n",
       "      <td>4</td>\n",
       "      <td>0.000000</td>\n",
       "    </tr>\n",
       "    <tr>\n",
       "      <th rowspan=\"6\" valign=\"top\">гражданский брак</th>\n",
       "      <th>0</th>\n",
       "      <td>0</td>\n",
       "      <td>8.388278</td>\n",
       "    </tr>\n",
       "    <tr>\n",
       "      <th>1</th>\n",
       "      <td>995</td>\n",
       "      <td>11.859296</td>\n",
       "    </tr>\n",
       "    <tr>\n",
       "      <th>2</th>\n",
       "      <td>686</td>\n",
       "      <td>8.746356</td>\n",
       "    </tr>\n",
       "    <tr>\n",
       "      <th>3</th>\n",
       "      <td>168</td>\n",
       "      <td>14.285714</td>\n",
       "    </tr>\n",
       "    <tr>\n",
       "      <th>4</th>\n",
       "      <td>32</td>\n",
       "      <td>0.000000</td>\n",
       "    </tr>\n",
       "    <tr>\n",
       "      <th>5</th>\n",
       "      <td>10</td>\n",
       "      <td>0.000000</td>\n",
       "    </tr>\n",
       "    <tr>\n",
       "      <th rowspan=\"6\" valign=\"top\">женат / замужем</th>\n",
       "      <th>0</th>\n",
       "      <td>0</td>\n",
       "      <td>6.909480</td>\n",
       "    </tr>\n",
       "    <tr>\n",
       "      <th>1</th>\n",
       "      <td>2975</td>\n",
       "      <td>8.268908</td>\n",
       "    </tr>\n",
       "    <tr>\n",
       "      <th>2</th>\n",
       "      <td>3066</td>\n",
       "      <td>9.458578</td>\n",
       "    </tr>\n",
       "    <tr>\n",
       "      <th>3</th>\n",
       "      <td>747</td>\n",
       "      <td>6.827309</td>\n",
       "    </tr>\n",
       "    <tr>\n",
       "      <th>4</th>\n",
       "      <td>116</td>\n",
       "      <td>10.344828</td>\n",
       "    </tr>\n",
       "    <tr>\n",
       "      <th>5</th>\n",
       "      <td>35</td>\n",
       "      <td>0.000000</td>\n",
       "    </tr>\n",
       "  </tbody>\n",
       "</table>\n",
       "</div>"
      ],
      "text/plain": [
       "                                children       debt\n",
       "family_status         children                     \n",
       "Не женат / не замужем 0                0   9.283820\n",
       "                      1              449  11.581292\n",
       "                      2              150  12.000000\n",
       "                      3               24  12.500000\n",
       "                      4                8  50.000000\n",
       "в разводе             0                0   7.015306\n",
       "                      1              312   6.730769\n",
       "                      2              162   8.641975\n",
       "                      3               33   9.090909\n",
       "                      4                4   0.000000\n",
       "вдовец / вдова        0                0   6.257379\n",
       "                      1               77   9.090909\n",
       "                      2               40  15.000000\n",
       "                      3               18   0.000000\n",
       "                      4                4   0.000000\n",
       "гражданский брак      0                0   8.388278\n",
       "                      1              995  11.859296\n",
       "                      2              686   8.746356\n",
       "                      3              168  14.285714\n",
       "                      4               32   0.000000\n",
       "                      5               10   0.000000\n",
       "женат / замужем       0                0   6.909480\n",
       "                      1             2975   8.268908\n",
       "                      2             3066   9.458578\n",
       "                      3              747   6.827309\n",
       "                      4              116  10.344828\n",
       "                      5               35   0.000000"
      ]
     },
     "execution_count": 25,
     "metadata": {},
     "output_type": "execute_result"
    }
   ],
   "source": [
    "# Для проверки предположения применим длинную таблицу (groupby+agg):\n",
    "data_grouped = data.groupby(['family_status', 'children']).agg({'children':'sum','debt':'mean'})\n",
    "data_grouped['debt'] = data_grouped['debt']*100\n",
    "\n",
    "data_grouped"
   ]
  },
  {
   "cell_type": "markdown",
   "id": "e1e00797",
   "metadata": {},
   "source": [
    "Мы видим, что детей все-таки больше в браке, и в браке же финансовые риски меньше и меньше зависят от количества детей (от наличия - зависят сильно). \n",
    "\n",
    "В гражданском браке детей появляется много, и статистика здесь хуже. Даже если нет детей - риски большие. \n",
    "\n",
    "У разведенных и вдовых не так много детей, и, рассчитывая на себя (или алименты и себя), получается как-то справляться с долговой нагрузкой. Предположу, что ответственность ощущается больше. Хотя много детей тянуть и кредит сложно, вдовые с двумя детьми подтвердят.\n",
    "\n",
    "И, наконец, у незамужних с детьми(по логике, это женщины) дела обстоят хуже остальных категорий. В категории четырех детей - 50 процентов невозврата! Бездетные свободные чаще всех других бездетных не справляются с долгами. Все-таки семья дисциплинирует, хотя может быть, в этой группе большинство еще сами почти дети, молодежь.\n"
   ]
  },
  {
   "cell_type": "markdown",
   "id": "7f7dc8aa",
   "metadata": {
    "deletable": false,
    "id": "1cef7837"
   },
   "source": [
    "**Вывод:** \n",
    "Штамп все-таки на что-то влияет. Даже длительные отношения, но не закрепленные официально, показывают больший процент должников, сравнимый с \"полностью холостыми\" клиентами. Посередине находятся женатые/замужние. В то же время разведенные и вдовые демонстрируют еще большую финансовую ответственность, чем женатые. Вывод: влияние есть и достаточно существенное. "
   ]
  },
  {
   "cell_type": "markdown",
   "id": "1300f26b",
   "metadata": {
    "deletable": false,
    "editable": false,
    "id": "1e8b2fca"
   },
   "source": [
    "#### 3.3 Есть ли зависимость между уровнем дохода и возвратом кредита в срок?"
   ]
  },
  {
   "cell_type": "markdown",
   "id": "817f27ea",
   "metadata": {
    "deletable": false,
    "id": "cd7e3720"
   },
   "source": [
    "Сделаем сводную таблицу для столбцов 'total_income_category' и 'debt':\n"
   ]
  },
  {
   "cell_type": "code",
   "execution_count": 26,
   "id": "05f28687",
   "metadata": {},
   "outputs": [
    {
     "data": {
      "text/html": [
       "<div>\n",
       "<style scoped>\n",
       "    .dataframe tbody tr th:only-of-type {\n",
       "        vertical-align: middle;\n",
       "    }\n",
       "\n",
       "    .dataframe tbody tr th {\n",
       "        vertical-align: top;\n",
       "    }\n",
       "\n",
       "    .dataframe thead tr th {\n",
       "        text-align: left;\n",
       "    }\n",
       "\n",
       "    .dataframe thead tr:last-of-type th {\n",
       "        text-align: right;\n",
       "    }\n",
       "</style>\n",
       "<table border=\"1\" class=\"dataframe\">\n",
       "  <thead>\n",
       "    <tr>\n",
       "      <th></th>\n",
       "      <th>sum</th>\n",
       "      <th>count</th>\n",
       "      <th>mean</th>\n",
       "      <th>mean_percent</th>\n",
       "    </tr>\n",
       "    <tr>\n",
       "      <th></th>\n",
       "      <th>debt</th>\n",
       "      <th>debt</th>\n",
       "      <th>debt</th>\n",
       "      <th></th>\n",
       "    </tr>\n",
       "    <tr>\n",
       "      <th>total_income_category</th>\n",
       "      <th></th>\n",
       "      <th></th>\n",
       "      <th></th>\n",
       "      <th></th>\n",
       "    </tr>\n",
       "  </thead>\n",
       "  <tbody>\n",
       "    <tr>\n",
       "      <th>A</th>\n",
       "      <td>2</td>\n",
       "      <td>25</td>\n",
       "      <td>0.080000</td>\n",
       "      <td>8.000000</td>\n",
       "    </tr>\n",
       "    <tr>\n",
       "      <th>B</th>\n",
       "      <td>354</td>\n",
       "      <td>5014</td>\n",
       "      <td>0.070602</td>\n",
       "      <td>7.060231</td>\n",
       "    </tr>\n",
       "    <tr>\n",
       "      <th>C</th>\n",
       "      <td>1353</td>\n",
       "      <td>15921</td>\n",
       "      <td>0.084982</td>\n",
       "      <td>8.498210</td>\n",
       "    </tr>\n",
       "    <tr>\n",
       "      <th>D</th>\n",
       "      <td>21</td>\n",
       "      <td>349</td>\n",
       "      <td>0.060172</td>\n",
       "      <td>6.017192</td>\n",
       "    </tr>\n",
       "    <tr>\n",
       "      <th>E</th>\n",
       "      <td>2</td>\n",
       "      <td>22</td>\n",
       "      <td>0.090909</td>\n",
       "      <td>9.090909</td>\n",
       "    </tr>\n",
       "  </tbody>\n",
       "</table>\n",
       "</div>"
      ],
      "text/plain": [
       "                        sum  count      mean mean_percent\n",
       "                       debt   debt      debt             \n",
       "total_income_category                                    \n",
       "A                         2     25  0.080000     8.000000\n",
       "B                       354   5014  0.070602     7.060231\n",
       "C                      1353  15921  0.084982     8.498210\n",
       "D                        21    349  0.060172     6.017192\n",
       "E                         2     22  0.090909     9.090909"
      ]
     },
     "metadata": {},
     "output_type": "display_data"
    }
   ],
   "source": [
    "data_pivot_income = data.pivot_table(index = 'total_income_category', values = 'debt', aggfunc = ['sum','count','mean'])\n",
    "data_pivot_income['mean_percent'] = data_pivot_income['mean','debt']*100\n",
    "\n",
    "display(data_pivot_income)\n",
    "\n"
   ]
  },
  {
   "cell_type": "markdown",
   "id": "6729dc53",
   "metadata": {
    "deletable": false,
    "id": "e8593def"
   },
   "source": [
    "**Вывод:** \n",
    "Здесь скорее можно судить о предпочтениях самих банков: по 20 с небольшим представителей крайних категорий с близкими процентами вряд ли можно считать достаточным для ведения статистики. Столь богатых людей не так много, а столь бедным не дают кредиты.\n",
    "\n",
    "Что касается категории D, то тут люди стараются вернуть долг, и у них получается лучше остальных, но, опять же, кредиты им дают неохотно. Точнее проверить эту закономерность мешает недостаточность группы для анализа.\n",
    "\n",
    "Категория  С самая многочисленная и процент невозврата относительно велик. Эти люди часто берут кредиты и не всегда распределяют верно свои финансы.\n",
    "\n",
    "Категория B с хорошим процентом, люди обеспеченные и аккуратные.\n",
    "\n",
    "В целом, я бы сказала, что этот критерий переоценивают банки и не дают нам достаточно материала для анализа, отказывая клиентам со скромным доходом. Поэтому посчитаем, что он не особо влияет на возврат долгов вовремя."
   ]
  },
  {
   "cell_type": "markdown",
   "id": "f3625d22",
   "metadata": {
    "deletable": false,
    "editable": false,
    "id": "99ecbd1f"
   },
   "source": [
    "#### 3.4 Как разные цели кредита влияют на его возврат в срок?"
   ]
  },
  {
   "cell_type": "code",
   "execution_count": 27,
   "id": "ba1dbfb8",
   "metadata": {
    "deletable": false,
    "id": "2b687290"
   },
   "outputs": [
    {
     "data": {
      "text/html": [
       "<div>\n",
       "<style scoped>\n",
       "    .dataframe tbody tr th:only-of-type {\n",
       "        vertical-align: middle;\n",
       "    }\n",
       "\n",
       "    .dataframe tbody tr th {\n",
       "        vertical-align: top;\n",
       "    }\n",
       "\n",
       "    .dataframe thead tr th {\n",
       "        text-align: left;\n",
       "    }\n",
       "\n",
       "    .dataframe thead tr:last-of-type th {\n",
       "        text-align: right;\n",
       "    }\n",
       "</style>\n",
       "<table border=\"1\" class=\"dataframe\">\n",
       "  <thead>\n",
       "    <tr>\n",
       "      <th></th>\n",
       "      <th>sum</th>\n",
       "      <th>count</th>\n",
       "      <th>mean</th>\n",
       "      <th>mean_percent</th>\n",
       "    </tr>\n",
       "    <tr>\n",
       "      <th></th>\n",
       "      <th>debt</th>\n",
       "      <th>debt</th>\n",
       "      <th>debt</th>\n",
       "      <th></th>\n",
       "    </tr>\n",
       "    <tr>\n",
       "      <th>purpose_category</th>\n",
       "      <th></th>\n",
       "      <th></th>\n",
       "      <th></th>\n",
       "      <th></th>\n",
       "    </tr>\n",
       "  </thead>\n",
       "  <tbody>\n",
       "    <tr>\n",
       "      <th>операции с автомобилем</th>\n",
       "      <td>400</td>\n",
       "      <td>4279</td>\n",
       "      <td>0.093480</td>\n",
       "      <td>9.347978</td>\n",
       "    </tr>\n",
       "    <tr>\n",
       "      <th>операции с недвижимостью</th>\n",
       "      <td>780</td>\n",
       "      <td>10751</td>\n",
       "      <td>0.072551</td>\n",
       "      <td>7.255139</td>\n",
       "    </tr>\n",
       "    <tr>\n",
       "      <th>получение образования</th>\n",
       "      <td>369</td>\n",
       "      <td>3988</td>\n",
       "      <td>0.092528</td>\n",
       "      <td>9.252758</td>\n",
       "    </tr>\n",
       "    <tr>\n",
       "      <th>проведение свадьбы</th>\n",
       "      <td>183</td>\n",
       "      <td>2313</td>\n",
       "      <td>0.079118</td>\n",
       "      <td>7.911803</td>\n",
       "    </tr>\n",
       "  </tbody>\n",
       "</table>\n",
       "</div>"
      ],
      "text/plain": [
       "                          sum  count      mean mean_percent\n",
       "                         debt   debt      debt             \n",
       "purpose_category                                           \n",
       "операции с автомобилем    400   4279  0.093480     9.347978\n",
       "операции с недвижимостью  780  10751  0.072551     7.255139\n",
       "получение образования     369   3988  0.092528     9.252758\n",
       "проведение свадьбы        183   2313  0.079118     7.911803"
      ]
     },
     "metadata": {},
     "output_type": "display_data"
    }
   ],
   "source": [
    "data_pivot_purpose = data.pivot_table(index = 'purpose_category', values = 'debt', aggfunc = ['sum','count','mean'])\n",
    "data_pivot_purpose['mean_percent'] = data_pivot_purpose['mean','debt']*100\n",
    "\n",
    "display(data_pivot_purpose)\n"
   ]
  },
  {
   "cell_type": "markdown",
   "id": "48ff3237",
   "metadata": {
    "deletable": false,
    "id": "b4bb2ce6"
   },
   "source": [
    "**Вывод:** \n",
    "\n",
    "Влияние столбца прослеживается четко, выделяются две группы. Вероятно, более высокий процент задолжностей по кредитам на машину и на учебу связан с тем, что эти кредиты чаще берут молодые люди. \n",
    "Операции с недвижимостью - самые ответственные, кредиты на них самые большие, клиенты стараются не пропускать платежи, ставки слишком высоки.\n",
    "Проведение свадьбы - тоже сравнительно благополучная категория, и просрочек не так много.\n",
    "    "
   ]
  },
  {
   "cell_type": "markdown",
   "id": "fd672390",
   "metadata": {
    "deletable": false,
    "editable": false,
    "id": "09c3ac4c"
   },
   "source": [
    "#### 3.5 Приведите возможные причины появления пропусков в исходных данных."
   ]
  },
  {
   "cell_type": "markdown",
   "id": "2b00055d",
   "metadata": {
    "deletable": false,
    "id": "9da2ceda"
   },
   "source": [
    "*Ответ:* \n",
    "Пропущено было одинаковое количество значений в двух столбцах, 'days_employed', 'total_income'. Предположим, что они совпадают, иначе было бы разное количество пропусков. \n",
    "\n",
    "Ошибки бывают технологические и вызванные человеческим фактором. Здесь вероятнее технологический сбой, потому что людям бы без предоставления этих данных кредиты бы не выдали, либо возможен вариант с заемщиками, на момент заполнения анкеты оставшимися без работы. \n",
    "\n",
    "Вывод: скорее всего произошла потеря данных уже после выдачи кредитов вследствие технологического сбоя.\n"
   ]
  },
  {
   "cell_type": "markdown",
   "id": "71688f03",
   "metadata": {
    "deletable": false,
    "editable": false,
    "id": "7b0487d6"
   },
   "source": [
    "#### 3.6 Объясните, почему заполнить пропуски медианным значением — лучшее решение для количественных переменных."
   ]
  },
  {
   "cell_type": "markdown",
   "id": "a95cf6b2",
   "metadata": {
    "deletable": false,
    "id": "7ecf2b8e"
   },
   "source": [
    "*Ответ:*\n",
    "Медианное значение тем отличается от среднего арифметического, что его значение не колеблят редкие аномальные значения. Это не \"средняя температура по больнице\", а значит, она более информативна и ближе к реальности. \n",
    "\n",
    "Медиана - это значение, которое занимает место точно посередине списка значений, или среднее из двух соседних значений посередине, если список был с четным количеством позиций. \n",
    "\n",
    "Среднее арифметическое = сумма значений/количество значений."
   ]
  },
  {
   "cell_type": "markdown",
   "id": "44705f62",
   "metadata": {
    "deletable": false,
    "editable": false,
    "id": "6db5255a"
   },
   "source": [
    "### Шаг 4: общий вывод."
   ]
  },
  {
   "cell_type": "markdown",
   "id": "67cbd54c",
   "metadata": {
    "deletable": false,
    "id": "bad65432"
   },
   "source": [
    "Наше исследование надежности заемщиков подходит к завершению. Исследование проводилось для кредитного отдела банка, который строит модель кредитного скоринга. Входными данными послужил датасет с информацией о заемщиках. В датасете был ряд недочетов, которые мы исправили в рамках предобработки данных доступными методами библиотеки Pandas: \n",
    "* отрицательные значения трудового стажа - заменили на положительные;\n",
    "* пропущенные значения стажа и общего дохода - заменили на медиану по каждому типу заемщиков;\n",
    "* исправили аномальные значения в графе с детьми; \n",
    "* привели к строчным буквам записи в графе \"образование\";\n",
    "* создали новый столбец, необходимый для анализа, категоризовав доходы заемщиков - получилось 5 категорий;\n",
    "* привели к единому виду всю разноголосицу в столбце с целями кредита с помощью функции.\n",
    "\n",
    "Во второй части исследования мы построили ряд сводных таблиц, чтобы ответить на собственно исследовательские вопросы, которые были поставлены как цель исследования.\n",
    "Влияют ли на возврат кредитов в срок (столбец debt) следующие факторы:\n",
    "- количество детей;\n",
    "- семейное положение;\n",
    "- уровень дохода;\n",
    "- цели кредита.\n",
    "\n",
    "Мы видим, что наибольшие риски несут в себе категории:\n",
    "- где семейный статус \"гражданский брак\" и \"не женат/не замужем\"\n",
    "- где есть дети\n",
    "- с целями \"получение образования\" и \"операции с автомобилем\".\n",
    "Следовательно, где-то на пересечении этих категорий находятся люди, чаще остальных не отдающие вовремя долги. \n",
    "\n",
    "По доходам какая-то зависимость вероятно есть, но, чтобы ее проследить, недостаточно данных.\n",
    "\n",
    "Соответственно, наиболее благонадежными являются клиенты с устоявшейся жизненной ситуацией, без хаотического фактора в виде детей и с глобальными целями в виде покупки жилья или создания семьи. \n",
    "\n",
    "Мы бы рекомендовали кредитному отделу банка уделять больше внимания выигрышным категориям заемщиков, быть осторожнее с проигрышными, и не бояться выдавать кредиты людям со скромным доходом, так как они стабильно отдают кредиты вовремя. Их мало в выборке, из чего можно сделать вывод, что тут действует какое-то предубеждение, мешающее банку зарабатывать деньги на огромном сегменте потенциальных клиентов. Это также позволит в дальнейшем уточнить данные и откалибровать систему скоринга.\n",
    "\n"
   ]
  },
  {
   "cell_type": "code",
   "execution_count": null,
   "id": "dccb4e06",
   "metadata": {},
   "outputs": [],
   "source": []
  }
 ],
 "metadata": {
  "ExecuteTimeLog": [
   {
    "duration": 419,
    "start_time": "2022-11-08T20:27:26.545Z"
   },
   {
    "duration": 697,
    "start_time": "2022-11-10T11:11:53.378Z"
   },
   {
    "duration": 23,
    "start_time": "2022-11-10T11:11:54.076Z"
   },
   {
    "duration": 29,
    "start_time": "2022-11-10T11:11:54.100Z"
   },
   {
    "duration": 23,
    "start_time": "2022-11-10T11:11:54.131Z"
   },
   {
    "duration": 51,
    "start_time": "2022-11-10T11:11:54.156Z"
   },
   {
    "duration": 3,
    "start_time": "2022-11-10T11:11:54.208Z"
   },
   {
    "duration": 34,
    "start_time": "2022-11-10T11:11:54.213Z"
   },
   {
    "duration": 11,
    "start_time": "2022-11-10T11:11:54.249Z"
   },
   {
    "duration": 22,
    "start_time": "2022-11-10T11:11:54.262Z"
   },
   {
    "duration": 8,
    "start_time": "2022-11-10T11:11:54.287Z"
   },
   {
    "duration": 51,
    "start_time": "2022-11-10T11:11:54.297Z"
   },
   {
    "duration": 9,
    "start_time": "2022-11-10T11:11:54.350Z"
   },
   {
    "duration": 19,
    "start_time": "2022-11-10T11:11:54.361Z"
   },
   {
    "duration": 23,
    "start_time": "2022-11-10T11:11:54.382Z"
   },
   {
    "duration": 50,
    "start_time": "2022-11-10T11:11:54.406Z"
   },
   {
    "duration": 18,
    "start_time": "2022-11-10T11:11:54.458Z"
   },
   {
    "duration": 23,
    "start_time": "2022-11-10T11:11:54.478Z"
   },
   {
    "duration": 47,
    "start_time": "2022-11-10T11:11:54.502Z"
   },
   {
    "duration": 36,
    "start_time": "2022-11-10T11:11:54.551Z"
   },
   {
    "duration": 31,
    "start_time": "2022-11-10T11:11:54.589Z"
   },
   {
    "duration": 53,
    "start_time": "2022-11-10T11:11:54.630Z"
   },
   {
    "duration": 29,
    "start_time": "2022-11-10T11:15:43.969Z"
   },
   {
    "duration": 22,
    "start_time": "2022-11-10T11:16:27.679Z"
   },
   {
    "duration": 7,
    "start_time": "2022-11-10T11:22:09.725Z"
   },
   {
    "duration": 15,
    "start_time": "2022-11-10T11:22:25.304Z"
   },
   {
    "duration": 12,
    "start_time": "2022-11-10T11:24:59.184Z"
   },
   {
    "duration": 521,
    "start_time": "2022-11-10T20:40:07.758Z"
   },
   {
    "duration": 25,
    "start_time": "2022-11-10T20:40:08.282Z"
   },
   {
    "duration": 15,
    "start_time": "2022-11-10T20:40:08.308Z"
   },
   {
    "duration": 22,
    "start_time": "2022-11-10T20:40:08.325Z"
   },
   {
    "duration": 32,
    "start_time": "2022-11-10T20:40:08.349Z"
   },
   {
    "duration": 4,
    "start_time": "2022-11-10T20:40:08.383Z"
   },
   {
    "duration": 24,
    "start_time": "2022-11-10T20:40:08.389Z"
   },
   {
    "duration": 5,
    "start_time": "2022-11-10T20:40:08.415Z"
   },
   {
    "duration": 10,
    "start_time": "2022-11-10T20:40:08.422Z"
   },
   {
    "duration": 5,
    "start_time": "2022-11-10T20:40:08.434Z"
   },
   {
    "duration": 33,
    "start_time": "2022-11-10T20:40:08.440Z"
   },
   {
    "duration": 38,
    "start_time": "2022-11-10T20:40:08.475Z"
   },
   {
    "duration": 3,
    "start_time": "2022-11-10T20:40:08.515Z"
   },
   {
    "duration": 14,
    "start_time": "2022-11-10T20:40:08.521Z"
   },
   {
    "duration": 29,
    "start_time": "2022-11-10T20:40:08.537Z"
   },
   {
    "duration": 22,
    "start_time": "2022-11-10T20:40:08.568Z"
   },
   {
    "duration": 5,
    "start_time": "2022-11-10T20:40:08.591Z"
   },
   {
    "duration": 15,
    "start_time": "2022-11-10T20:40:08.613Z"
   },
   {
    "duration": 7,
    "start_time": "2022-11-10T20:40:08.630Z"
   },
   {
    "duration": 4,
    "start_time": "2022-11-10T20:40:08.638Z"
   },
   {
    "duration": 23,
    "start_time": "2022-11-10T20:40:08.644Z"
   },
   {
    "duration": 59,
    "start_time": "2022-11-10T20:40:08.669Z"
   },
   {
    "duration": 11,
    "start_time": "2022-11-10T20:40:18.509Z"
   },
   {
    "duration": 5,
    "start_time": "2022-11-10T20:45:25.650Z"
   },
   {
    "duration": 2,
    "start_time": "2022-11-10T20:50:21.134Z"
   },
   {
    "duration": 4,
    "start_time": "2022-11-10T20:50:36.974Z"
   },
   {
    "duration": 41,
    "start_time": "2022-11-10T20:57:48.123Z"
   },
   {
    "duration": 17,
    "start_time": "2022-11-10T20:58:26.018Z"
   },
   {
    "duration": 15,
    "start_time": "2022-11-10T20:58:51.418Z"
   },
   {
    "duration": 16,
    "start_time": "2022-11-10T21:00:19.976Z"
   },
   {
    "duration": 20,
    "start_time": "2022-11-10T21:09:39.047Z"
   },
   {
    "duration": 26,
    "start_time": "2022-11-10T21:09:54.749Z"
   },
   {
    "duration": 7,
    "start_time": "2022-11-10T21:12:56.447Z"
   },
   {
    "duration": 15,
    "start_time": "2022-11-10T21:35:01.774Z"
   },
   {
    "duration": 21,
    "start_time": "2022-11-10T21:35:54.358Z"
   },
   {
    "duration": 102,
    "start_time": "2022-11-10T21:36:20.193Z"
   },
   {
    "duration": 91,
    "start_time": "2022-11-10T21:37:11.459Z"
   },
   {
    "duration": 92,
    "start_time": "2022-11-10T21:37:43.358Z"
   },
   {
    "duration": 25,
    "start_time": "2022-11-10T21:38:05.216Z"
   },
   {
    "duration": 13,
    "start_time": "2022-11-10T21:38:35.870Z"
   },
   {
    "duration": 13,
    "start_time": "2022-11-10T21:38:52.659Z"
   },
   {
    "duration": 13,
    "start_time": "2022-11-10T21:40:03.957Z"
   },
   {
    "duration": 14,
    "start_time": "2022-11-10T21:40:19.385Z"
   },
   {
    "duration": 20,
    "start_time": "2022-11-10T21:41:05.566Z"
   },
   {
    "duration": 66,
    "start_time": "2022-11-10T21:41:44.839Z"
   },
   {
    "duration": 21,
    "start_time": "2022-11-10T21:42:23.878Z"
   },
   {
    "duration": 14,
    "start_time": "2022-11-10T21:43:17.094Z"
   },
   {
    "duration": 13,
    "start_time": "2022-11-10T21:44:57.127Z"
   },
   {
    "duration": 15,
    "start_time": "2022-11-10T21:45:37.501Z"
   },
   {
    "duration": 904,
    "start_time": "2022-11-10T21:49:30.822Z"
   },
   {
    "duration": 275,
    "start_time": "2022-11-10T21:50:30.379Z"
   },
   {
    "duration": 1102,
    "start_time": "2022-11-10T21:51:47.617Z"
   },
   {
    "duration": 330,
    "start_time": "2022-11-10T21:52:42.172Z"
   },
   {
    "duration": 24,
    "start_time": "2022-11-10T21:55:24.409Z"
   },
   {
    "duration": 22,
    "start_time": "2022-11-10T21:56:04.660Z"
   },
   {
    "duration": 17,
    "start_time": "2022-11-10T21:56:15.760Z"
   },
   {
    "duration": 17,
    "start_time": "2022-11-10T21:57:07.438Z"
   },
   {
    "duration": 64,
    "start_time": "2022-11-10T22:16:35.786Z"
   },
   {
    "duration": 14,
    "start_time": "2022-11-10T22:16:35.852Z"
   },
   {
    "duration": 15,
    "start_time": "2022-11-10T22:16:35.868Z"
   },
   {
    "duration": 8,
    "start_time": "2022-11-10T22:16:35.885Z"
   },
   {
    "duration": 47,
    "start_time": "2022-11-10T22:16:35.894Z"
   },
   {
    "duration": 3,
    "start_time": "2022-11-10T22:16:35.943Z"
   },
   {
    "duration": 10,
    "start_time": "2022-11-10T22:16:35.947Z"
   },
   {
    "duration": 4,
    "start_time": "2022-11-10T22:16:35.959Z"
   },
   {
    "duration": 6,
    "start_time": "2022-11-10T22:16:35.964Z"
   },
   {
    "duration": 3,
    "start_time": "2022-11-10T22:16:35.973Z"
   },
   {
    "duration": 59,
    "start_time": "2022-11-10T22:16:35.978Z"
   },
   {
    "duration": 8,
    "start_time": "2022-11-10T22:16:36.039Z"
   },
   {
    "duration": 4,
    "start_time": "2022-11-10T22:16:36.048Z"
   },
   {
    "duration": 12,
    "start_time": "2022-11-10T22:16:36.053Z"
   },
   {
    "duration": 16,
    "start_time": "2022-11-10T22:16:36.067Z"
   },
   {
    "duration": 32,
    "start_time": "2022-11-10T22:16:36.084Z"
   },
   {
    "duration": 3,
    "start_time": "2022-11-10T22:16:36.117Z"
   },
   {
    "duration": 13,
    "start_time": "2022-11-10T22:16:36.121Z"
   },
   {
    "duration": 4,
    "start_time": "2022-11-10T22:16:36.136Z"
   },
   {
    "duration": 6,
    "start_time": "2022-11-10T22:16:36.142Z"
   },
   {
    "duration": 12,
    "start_time": "2022-11-10T22:16:36.149Z"
   },
   {
    "duration": 24,
    "start_time": "2022-11-10T22:16:36.162Z"
   },
   {
    "duration": 30,
    "start_time": "2022-11-10T22:16:36.187Z"
   },
   {
    "duration": 25,
    "start_time": "2022-11-10T22:16:36.219Z"
   },
   {
    "duration": 14,
    "start_time": "2022-11-10T22:16:36.246Z"
   },
   {
    "duration": 27,
    "start_time": "2022-11-10T22:29:22.637Z"
   },
   {
    "duration": 27,
    "start_time": "2022-11-10T22:41:34.482Z"
   },
   {
    "duration": 72,
    "start_time": "2022-11-10T22:58:33.564Z"
   },
   {
    "duration": 15,
    "start_time": "2022-11-10T22:59:23.087Z"
   },
   {
    "duration": 12,
    "start_time": "2022-11-10T22:59:40.913Z"
   },
   {
    "duration": 1162,
    "start_time": "2022-11-10T23:02:30.721Z"
   },
   {
    "duration": 1111,
    "start_time": "2022-11-10T23:03:18.699Z"
   },
   {
    "duration": 57,
    "start_time": "2022-11-10T23:03:55.484Z"
   },
   {
    "duration": 13,
    "start_time": "2022-11-10T23:04:14.988Z"
   },
   {
    "duration": 1160,
    "start_time": "2022-11-10T23:06:12.766Z"
   },
   {
    "duration": 52,
    "start_time": "2022-11-10T23:07:01.026Z"
   },
   {
    "duration": 55,
    "start_time": "2022-11-10T23:08:18.834Z"
   },
   {
    "duration": 52,
    "start_time": "2022-11-10T23:08:26.175Z"
   },
   {
    "duration": 13,
    "start_time": "2022-11-10T23:08:28.374Z"
   },
   {
    "duration": 53,
    "start_time": "2022-11-10T23:09:47.399Z"
   },
   {
    "duration": 14,
    "start_time": "2022-11-10T23:09:51.081Z"
   },
   {
    "duration": 8,
    "start_time": "2022-11-11T11:52:31.653Z"
   },
   {
    "duration": 4,
    "start_time": "2022-11-11T11:53:22.801Z"
   },
   {
    "duration": 4,
    "start_time": "2022-11-11T11:53:26.050Z"
   },
   {
    "duration": 72,
    "start_time": "2022-11-11T11:54:06.477Z"
   },
   {
    "duration": 3,
    "start_time": "2022-11-11T11:54:33.660Z"
   },
   {
    "duration": 5,
    "start_time": "2022-11-11T11:54:38.279Z"
   },
   {
    "duration": 52,
    "start_time": "2022-11-11T11:56:29.342Z"
   },
   {
    "duration": 10,
    "start_time": "2022-11-11T11:56:46.885Z"
   },
   {
    "duration": 483,
    "start_time": "2022-11-11T11:57:00.541Z"
   },
   {
    "duration": 32,
    "start_time": "2022-11-11T11:57:01.026Z"
   },
   {
    "duration": 30,
    "start_time": "2022-11-11T11:57:01.060Z"
   },
   {
    "duration": 35,
    "start_time": "2022-11-11T11:57:01.099Z"
   },
   {
    "duration": 1341,
    "start_time": "2022-11-11T11:57:04.266Z"
   },
   {
    "duration": 29,
    "start_time": "2022-11-11T12:33:57.945Z"
   },
   {
    "duration": 71,
    "start_time": "2022-11-11T12:34:19.039Z"
   },
   {
    "duration": 17,
    "start_time": "2022-11-11T12:34:19.112Z"
   },
   {
    "duration": 22,
    "start_time": "2022-11-11T12:34:19.131Z"
   },
   {
    "duration": 24,
    "start_time": "2022-11-11T12:34:19.155Z"
   },
   {
    "duration": 57,
    "start_time": "2022-11-11T12:34:19.182Z"
   },
   {
    "duration": 4,
    "start_time": "2022-11-11T12:34:19.241Z"
   },
   {
    "duration": 22,
    "start_time": "2022-11-11T12:34:19.247Z"
   },
   {
    "duration": 23,
    "start_time": "2022-11-11T12:34:19.271Z"
   },
   {
    "duration": 24,
    "start_time": "2022-11-11T12:34:19.296Z"
   },
   {
    "duration": 43,
    "start_time": "2022-11-11T12:34:19.323Z"
   },
   {
    "duration": 47,
    "start_time": "2022-11-11T12:34:19.368Z"
   },
   {
    "duration": 12,
    "start_time": "2022-11-11T12:34:19.417Z"
   },
   {
    "duration": 26,
    "start_time": "2022-11-11T12:34:19.431Z"
   },
   {
    "duration": 33,
    "start_time": "2022-11-11T12:34:19.459Z"
   },
   {
    "duration": 44,
    "start_time": "2022-11-11T12:34:19.494Z"
   },
   {
    "duration": 20,
    "start_time": "2022-11-11T12:34:19.540Z"
   },
   {
    "duration": 26,
    "start_time": "2022-11-11T12:34:19.562Z"
   },
   {
    "duration": 46,
    "start_time": "2022-11-11T12:34:19.590Z"
   },
   {
    "duration": 34,
    "start_time": "2022-11-11T12:34:19.639Z"
   },
   {
    "duration": 28,
    "start_time": "2022-11-11T12:34:19.675Z"
   },
   {
    "duration": 29,
    "start_time": "2022-11-11T12:34:19.705Z"
   },
   {
    "duration": 47,
    "start_time": "2022-11-11T12:34:19.736Z"
   },
   {
    "duration": 17,
    "start_time": "2022-11-11T12:34:29.570Z"
   },
   {
    "duration": 20,
    "start_time": "2022-11-11T12:35:23.034Z"
   },
   {
    "duration": 72,
    "start_time": "2022-11-11T12:44:27.806Z"
   },
   {
    "duration": 16,
    "start_time": "2022-11-11T12:44:27.881Z"
   },
   {
    "duration": 18,
    "start_time": "2022-11-11T12:44:27.899Z"
   },
   {
    "duration": 11,
    "start_time": "2022-11-11T12:44:27.919Z"
   },
   {
    "duration": 66,
    "start_time": "2022-11-11T12:44:27.932Z"
   },
   {
    "duration": 4,
    "start_time": "2022-11-11T12:44:28.000Z"
   },
   {
    "duration": 12,
    "start_time": "2022-11-11T12:44:28.006Z"
   },
   {
    "duration": 5,
    "start_time": "2022-11-11T12:44:28.020Z"
   },
   {
    "duration": 7,
    "start_time": "2022-11-11T12:44:28.027Z"
   },
   {
    "duration": 5,
    "start_time": "2022-11-11T12:44:28.036Z"
   },
   {
    "duration": 77,
    "start_time": "2022-11-11T12:44:28.043Z"
   },
   {
    "duration": 10,
    "start_time": "2022-11-11T12:44:28.122Z"
   },
   {
    "duration": 6,
    "start_time": "2022-11-11T12:44:28.134Z"
   },
   {
    "duration": 37,
    "start_time": "2022-11-11T12:44:28.141Z"
   },
   {
    "duration": 28,
    "start_time": "2022-11-11T12:44:28.180Z"
   },
   {
    "duration": 20,
    "start_time": "2022-11-11T12:44:28.210Z"
   },
   {
    "duration": 4,
    "start_time": "2022-11-11T12:44:28.231Z"
   },
   {
    "duration": 18,
    "start_time": "2022-11-11T12:44:28.236Z"
   },
   {
    "duration": 24,
    "start_time": "2022-11-11T12:44:28.256Z"
   },
   {
    "duration": 4,
    "start_time": "2022-11-11T12:44:28.326Z"
   },
   {
    "duration": 13,
    "start_time": "2022-11-11T12:44:28.333Z"
   },
   {
    "duration": 30,
    "start_time": "2022-11-11T12:44:28.347Z"
   },
   {
    "duration": 13,
    "start_time": "2022-11-11T12:44:28.379Z"
   },
   {
    "duration": 40,
    "start_time": "2022-11-11T12:44:28.395Z"
   },
   {
    "duration": 41,
    "start_time": "2022-11-11T12:44:28.437Z"
   },
   {
    "duration": 31,
    "start_time": "2022-11-11T12:44:28.480Z"
   },
   {
    "duration": 31,
    "start_time": "2022-11-11T12:44:28.514Z"
   },
   {
    "duration": 31,
    "start_time": "2022-11-11T12:45:45.511Z"
   },
   {
    "duration": 502,
    "start_time": "2022-11-12T07:15:42.327Z"
   },
   {
    "duration": 23,
    "start_time": "2022-11-12T07:15:42.831Z"
   },
   {
    "duration": 15,
    "start_time": "2022-11-12T07:15:42.855Z"
   },
   {
    "duration": 9,
    "start_time": "2022-11-12T07:15:42.872Z"
   },
   {
    "duration": 61,
    "start_time": "2022-11-12T07:15:42.884Z"
   },
   {
    "duration": 3,
    "start_time": "2022-11-12T07:15:42.947Z"
   },
   {
    "duration": 15,
    "start_time": "2022-11-12T07:15:42.951Z"
   },
   {
    "duration": 17,
    "start_time": "2022-11-12T07:15:42.968Z"
   },
   {
    "duration": 22,
    "start_time": "2022-11-12T07:15:42.986Z"
   },
   {
    "duration": 5,
    "start_time": "2022-11-12T07:15:43.009Z"
   },
   {
    "duration": 38,
    "start_time": "2022-11-12T07:15:43.016Z"
   },
   {
    "duration": 10,
    "start_time": "2022-11-12T07:15:43.056Z"
   },
   {
    "duration": 6,
    "start_time": "2022-11-12T07:15:43.067Z"
   },
   {
    "duration": 14,
    "start_time": "2022-11-12T07:15:43.075Z"
   },
   {
    "duration": 19,
    "start_time": "2022-11-12T07:15:43.091Z"
   },
   {
    "duration": 35,
    "start_time": "2022-11-12T07:15:43.112Z"
   },
   {
    "duration": 4,
    "start_time": "2022-11-12T07:15:43.148Z"
   },
   {
    "duration": 14,
    "start_time": "2022-11-12T07:15:43.154Z"
   },
   {
    "duration": 13,
    "start_time": "2022-11-12T07:15:43.170Z"
   },
   {
    "duration": 6,
    "start_time": "2022-11-12T07:15:43.184Z"
   },
   {
    "duration": 18,
    "start_time": "2022-11-12T07:15:43.191Z"
   },
   {
    "duration": 33,
    "start_time": "2022-11-12T07:15:43.211Z"
   },
   {
    "duration": 13,
    "start_time": "2022-11-12T07:15:43.245Z"
   },
   {
    "duration": 30,
    "start_time": "2022-11-12T07:15:43.260Z"
   },
   {
    "duration": 42,
    "start_time": "2022-11-12T07:15:43.292Z"
   },
   {
    "duration": 26,
    "start_time": "2022-11-12T07:15:43.336Z"
   },
   {
    "duration": 27,
    "start_time": "2022-11-12T07:15:43.363Z"
   },
   {
    "duration": 46,
    "start_time": "2022-11-12T10:28:56.045Z"
   },
   {
    "duration": 677,
    "start_time": "2022-11-12T10:29:02.770Z"
   },
   {
    "duration": 22,
    "start_time": "2022-11-12T10:29:03.449Z"
   },
   {
    "duration": 14,
    "start_time": "2022-11-12T10:29:03.473Z"
   },
   {
    "duration": 20,
    "start_time": "2022-11-12T10:29:03.489Z"
   },
   {
    "duration": 41,
    "start_time": "2022-11-12T10:29:03.511Z"
   },
   {
    "duration": 3,
    "start_time": "2022-11-12T10:29:03.554Z"
   },
   {
    "duration": 22,
    "start_time": "2022-11-12T10:29:03.559Z"
   },
   {
    "duration": 11,
    "start_time": "2022-11-12T10:29:03.583Z"
   },
   {
    "duration": 14,
    "start_time": "2022-11-12T10:29:03.596Z"
   },
   {
    "duration": 5,
    "start_time": "2022-11-12T10:29:03.612Z"
   },
   {
    "duration": 38,
    "start_time": "2022-11-12T10:29:03.618Z"
   },
   {
    "duration": 11,
    "start_time": "2022-11-12T10:29:03.658Z"
   },
   {
    "duration": 18,
    "start_time": "2022-11-12T10:29:03.671Z"
   },
   {
    "duration": 24,
    "start_time": "2022-11-12T10:29:03.691Z"
   },
   {
    "duration": 27,
    "start_time": "2022-11-12T10:29:03.716Z"
   },
   {
    "duration": 18,
    "start_time": "2022-11-12T10:29:03.744Z"
   },
   {
    "duration": 4,
    "start_time": "2022-11-12T10:29:03.763Z"
   },
   {
    "duration": 14,
    "start_time": "2022-11-12T10:29:03.768Z"
   },
   {
    "duration": 6,
    "start_time": "2022-11-12T10:29:03.784Z"
   },
   {
    "duration": 5,
    "start_time": "2022-11-12T10:29:03.792Z"
   },
   {
    "duration": 15,
    "start_time": "2022-11-12T10:29:03.798Z"
   },
   {
    "duration": 42,
    "start_time": "2022-11-12T10:29:03.814Z"
   },
   {
    "duration": 11,
    "start_time": "2022-11-12T10:29:03.857Z"
   },
   {
    "duration": 34,
    "start_time": "2022-11-12T10:29:05.371Z"
   },
   {
    "duration": 32,
    "start_time": "2022-11-12T10:29:51.625Z"
   },
   {
    "duration": 34,
    "start_time": "2022-11-12T10:30:00.436Z"
   },
   {
    "duration": 35,
    "start_time": "2022-11-12T10:35:34.893Z"
   },
   {
    "duration": 35,
    "start_time": "2022-11-12T10:40:44.619Z"
   },
   {
    "duration": 81,
    "start_time": "2022-11-12T11:32:43.006Z"
   },
   {
    "duration": 14,
    "start_time": "2022-11-12T11:32:43.090Z"
   },
   {
    "duration": 33,
    "start_time": "2022-11-12T11:32:43.105Z"
   },
   {
    "duration": 18,
    "start_time": "2022-11-12T11:32:43.140Z"
   },
   {
    "duration": 41,
    "start_time": "2022-11-12T11:32:43.159Z"
   },
   {
    "duration": 3,
    "start_time": "2022-11-12T11:32:43.201Z"
   },
   {
    "duration": 19,
    "start_time": "2022-11-12T11:32:43.206Z"
   },
   {
    "duration": 16,
    "start_time": "2022-11-12T11:32:43.227Z"
   },
   {
    "duration": 27,
    "start_time": "2022-11-12T11:32:43.245Z"
   },
   {
    "duration": 9,
    "start_time": "2022-11-12T11:32:43.274Z"
   },
   {
    "duration": 35,
    "start_time": "2022-11-12T11:32:43.285Z"
   },
   {
    "duration": 9,
    "start_time": "2022-11-12T11:32:43.322Z"
   },
   {
    "duration": 8,
    "start_time": "2022-11-12T11:32:43.332Z"
   },
   {
    "duration": 11,
    "start_time": "2022-11-12T11:32:43.341Z"
   },
   {
    "duration": 18,
    "start_time": "2022-11-12T11:32:43.354Z"
   },
   {
    "duration": 18,
    "start_time": "2022-11-12T11:32:43.373Z"
   },
   {
    "duration": 4,
    "start_time": "2022-11-12T11:32:43.393Z"
   },
   {
    "duration": 34,
    "start_time": "2022-11-12T11:32:43.399Z"
   },
   {
    "duration": 6,
    "start_time": "2022-11-12T11:32:43.434Z"
   },
   {
    "duration": 4,
    "start_time": "2022-11-12T11:32:43.441Z"
   },
   {
    "duration": 18,
    "start_time": "2022-11-12T11:32:43.446Z"
   },
   {
    "duration": 26,
    "start_time": "2022-11-12T11:32:43.466Z"
   },
   {
    "duration": 11,
    "start_time": "2022-11-12T11:32:43.494Z"
   },
   {
    "duration": 59,
    "start_time": "2022-11-12T11:32:43.507Z"
   },
   {
    "duration": 16,
    "start_time": "2022-11-12T11:32:43.567Z"
   },
   {
    "duration": 28,
    "start_time": "2022-11-12T11:32:43.584Z"
   },
   {
    "duration": 33,
    "start_time": "2022-11-12T11:32:43.633Z"
   },
   {
    "duration": 488,
    "start_time": "2022-11-12T13:12:11.540Z"
   },
   {
    "duration": 21,
    "start_time": "2022-11-12T13:12:12.030Z"
   },
   {
    "duration": 13,
    "start_time": "2022-11-12T13:12:12.052Z"
   },
   {
    "duration": 8,
    "start_time": "2022-11-12T13:12:12.066Z"
   },
   {
    "duration": 30,
    "start_time": "2022-11-12T13:12:12.075Z"
   },
   {
    "duration": 3,
    "start_time": "2022-11-12T13:12:12.107Z"
   },
   {
    "duration": 10,
    "start_time": "2022-11-12T13:12:12.111Z"
   },
   {
    "duration": 4,
    "start_time": "2022-11-12T13:12:12.122Z"
   },
   {
    "duration": 7,
    "start_time": "2022-11-12T13:12:12.127Z"
   },
   {
    "duration": 3,
    "start_time": "2022-11-12T13:12:12.136Z"
   },
   {
    "duration": 31,
    "start_time": "2022-11-12T13:12:12.140Z"
   },
   {
    "duration": 8,
    "start_time": "2022-11-12T13:12:12.172Z"
   },
   {
    "duration": 5,
    "start_time": "2022-11-12T13:12:12.181Z"
   },
   {
    "duration": 14,
    "start_time": "2022-11-12T13:12:12.188Z"
   },
   {
    "duration": 18,
    "start_time": "2022-11-12T13:12:12.203Z"
   },
   {
    "duration": 15,
    "start_time": "2022-11-12T13:12:12.222Z"
   },
   {
    "duration": 4,
    "start_time": "2022-11-12T13:12:12.238Z"
   },
   {
    "duration": 12,
    "start_time": "2022-11-12T13:12:12.243Z"
   },
   {
    "duration": 5,
    "start_time": "2022-11-12T13:12:12.256Z"
   },
   {
    "duration": 3,
    "start_time": "2022-11-12T13:12:12.262Z"
   },
   {
    "duration": 11,
    "start_time": "2022-11-12T13:12:12.267Z"
   },
   {
    "duration": 26,
    "start_time": "2022-11-12T13:12:12.280Z"
   },
   {
    "duration": 11,
    "start_time": "2022-11-12T13:12:12.307Z"
   },
   {
    "duration": 32,
    "start_time": "2022-11-12T13:12:12.319Z"
   },
   {
    "duration": 14,
    "start_time": "2022-11-12T13:12:12.353Z"
   },
   {
    "duration": 60,
    "start_time": "2022-11-12T13:12:12.368Z"
   },
   {
    "duration": 28,
    "start_time": "2022-11-12T13:12:12.429Z"
   }
  ],
  "colab": {
   "name": "dpp_template_part2.ipynb",
   "provenance": []
  },
  "kernelspec": {
   "display_name": "Python 3 (ipykernel)",
   "language": "python",
   "name": "python3"
  },
  "language_info": {
   "codemirror_mode": {
    "name": "ipython",
    "version": 3
   },
   "file_extension": ".py",
   "mimetype": "text/x-python",
   "name": "python",
   "nbconvert_exporter": "python",
   "pygments_lexer": "ipython3",
   "version": "3.9.13"
  },
  "toc": {
   "base_numbering": 1,
   "nav_menu": {},
   "number_sections": true,
   "sideBar": true,
   "skip_h1_title": true,
   "title_cell": "Table of Contents",
   "title_sidebar": "Contents",
   "toc_cell": false,
   "toc_position": {},
   "toc_section_display": true,
   "toc_window_display": false
  }
 },
 "nbformat": 4,
 "nbformat_minor": 5
}
